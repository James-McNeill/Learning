{
 "cells": [
  {
   "cell_type": "code",
   "execution_count": null,
   "id": "18c7940e-f10f-45b8-a6f4-bfaaf7aff6bc",
   "metadata": {},
   "outputs": [],
   "source": [
    "# Location Analysis\n",
    "# Working with the module Folium\n",
    "\n",
    "# In order to see the map visualization, have to run the analysis using Jupyter Notebook\n",
    "\n",
    "# Import modules\n",
    "import pandas as pd\n",
    "import numpy as np\n",
    "import matplotlib.pyplot\n",
    "import seaborn as sns\n",
    "import time\n",
    "import sys"
   ]
  },
  {
   "cell_type": "code",
   "execution_count": null,
   "id": "3ad3f92b-8454-4524-adfd-da95c0265528",
   "metadata": {},
   "outputs": [],
   "source": [
    "import sys\n",
    "import subprocess\n",
    "\n",
    "def installPackage(package):\n",
    "    p = subprocess.run([sys.executable, \"-m\", \"pip\", \"install\", \"-U\", package], stdout=subprocess.PIPE, stderr=subprocess.STDOUT)\n",
    "    print(p.stdout.decode())\n",
    "\n",
    "requirements = [\"folium\", \"leafmap\", \"ipyleaflet\"]\n",
    "for requirement in requirements:\n",
    "    installPackage(requirement)"
   ]
  },
  {
   "cell_type": "code",
   "execution_count": null,
   "id": "cba89cb3-d851-45b6-9eab-bf9c53921dae",
   "metadata": {},
   "outputs": [],
   "source": [
    "# Bring in the additional libraries\n",
    "import folium\n",
    "import leafmap.foliumap as leafmap"
   ]
  },
  {
   "cell_type": "code",
   "execution_count": null,
   "id": "6474bfe7-1792-466b-bae7-b8df5015e0ac",
   "metadata": {},
   "outputs": [],
   "source": [
    "# Bring in the Irish towns dataset\n",
    "df = pd.read_csv('input_data.csv')"
   ]
  },
  {
   "cell_type": "code",
   "execution_count": null,
   "id": "43ba56f9-a8cd-490c-a7b3-2a7fd5b4ab97",
   "metadata": {
    "scrolled": true
   },
   "outputs": [],
   "source": [
    "df.shape"
   ]
  },
  {
   "cell_type": "code",
   "execution_count": null,
   "id": "9866d187-6728-4a4b-a782-6a507196fd5a",
   "metadata": {},
   "outputs": [],
   "source": [
    "df.head(10)"
   ]
  },
  {
   "cell_type": "code",
   "execution_count": null,
   "id": "1e2f2972-411d-4a42-a843-9957964529e0",
   "metadata": {},
   "outputs": [],
   "source": [
    "# Review the columns within the DataFrame\n",
    "df.columns"
   ]
  },
  {
   "cell_type": "code",
   "execution_count": null,
   "id": "d17e2806-a4ad-43fc-bce9-c92e851d48d9",
   "metadata": {},
   "outputs": [],
   "source": [
    "# Colour options from folium\n",
    "fol_colours = ['pink', 'darkred', 'gray', 'red', 'lightblue', 'lightgray', 'blue', 'white', 'darkgreen', 'black', 'darkpurple', 'orange', 'green', 'cadetblue', 'beige', 'darkblue', 'lightgreen', 'lightred', 'purple']\n",
    "len(fol_colours)\n",
    "fol_colours[:14]"
   ]
  },
  {
   "cell_type": "code",
   "execution_count": null,
   "id": "f37505eb-0ec7-4f92-90fe-687f67e1dcda",
   "metadata": {},
   "outputs": [],
   "source": [
    "# Combine two lists for icon\n",
    "facility_cat = [i for i in df['Facility Category'].unique()]\n",
    "purpose_colour = dict(zip(facility_cat, fol_colours[:len(facility_cat)]))"
   ]
  },
  {
   "cell_type": "code",
   "execution_count": null,
   "id": "3211a7d9-72fc-47e0-8639-b9ea8214f286",
   "metadata": {
    "scrolled": true
   },
   "outputs": [],
   "source": [
    "purpose_colour"
   ]
  },
  {
   "cell_type": "code",
   "execution_count": null,
   "id": "569892e9",
   "metadata": {},
   "outputs": [],
   "source": [
    "# Create the RGB colour mapping table for the leafmap library\n",
    "import random as r\n",
    "num_colors = 14\n",
    "hex_colors = ['#' + ''.join([r.choice('0123456789ABCDEF') for _ in range(6)]) for _ in range(num_colors)]\n",
    "print(hex_colors)"
   ]
  },
  {
   "cell_type": "code",
   "execution_count": null,
   "id": "19a4a9b9",
   "metadata": {},
   "outputs": [],
   "source": [
    "# Hex colour list\n",
    "hex_colours = ['#04F9E8', '#C44585', '#5722A1', '#D8F296', '#022EAB', '#E900C5', '#A7B3E3', '#64AD52', '#0B5348', '#5E7FDB', '#5CC8FF', '#D9E136', '#2C7786', '#D6DE0D']\n",
    "purpose_colour1 = dict(zip(facility_cat, hex_colours[:len(facility_cat)]))"
   ]
  },
  {
   "cell_type": "code",
   "execution_count": null,
   "id": "d0e5d91f",
   "metadata": {},
   "outputs": [],
   "source": [
    "purpose_colour1"
   ]
  },
  {
   "cell_type": "code",
   "execution_count": null,
   "id": "7892c7f2-47d8-46e0-b9b9-ad10200ca889",
   "metadata": {},
   "outputs": [],
   "source": [
    "# Grouped by facility type\n",
    "grouped = df.groupby('Facility Category')"
   ]
  },
  {
   "cell_type": "code",
   "execution_count": null,
   "id": "504883f8-b795-4d6f-bc45-da9b5badfef2",
   "metadata": {},
   "outputs": [],
   "source": [
    "# Build the map\n",
    "m1 = folium.Map(location=[df.Latitude.mean(), df.Longitude.mean()]\n",
    "               ,zoom_start=3\n",
    "               ,control_scale=True)\n",
    "\n",
    "# Loop through each row in the dataframe\n",
    "for i,row in df.iterrows():\n",
    "    # Setup the content of group\n",
    "    iframe = folium.IFrame(f'Owner Name: {str(row[\"Owner Name\"])} \\n Asset Name: {str(row[\"Asset Name\"])} \\n Facility: {str(row[\"Facility Category\"])}'\n",
    "                          ,width=300\n",
    "                          ,height=200)\n",
    "    # Initialise the popup using the iframe\n",
    "    popup = folium.Popup(iframe, max_width=650)\n",
    "\n",
    "    # Icon colour\n",
    "    try:\n",
    "        icon_colour = purpose_colour[row['Facility Category']]\n",
    "    except:\n",
    "        icon_colour = 'gray'\n",
    "    \n",
    "    # Add each row to the map\n",
    "    folium.CircleMarker(location=[row['Latitude'], row['Longitude']]\n",
    "                        ,radius=2\n",
    "                        ,popup=popup\n",
    "                        ,fill_color=icon_colour\n",
    "                        ,color=icon_colour\n",
    "                 ).add_to(m1)\n",
    "\n",
    "# Display map\n",
    "m1"
   ]
  },
  {
   "cell_type": "code",
   "execution_count": null,
   "id": "b076cbb6-52fd-4401-8022-e871e2c940f4",
   "metadata": {
    "scrolled": true
   },
   "outputs": [],
   "source": [
    "# Create map using leafmap\n",
    "m2 = leafmap.Map(location=[df.Latitude.mean(), df.Longitude.mean()]\n",
    "               ,zoom_start=3)\n",
    "    \n",
    "# Loop through each row in the dataframe\n",
    "for i,row in df.iterrows():\n",
    "\n",
    "    # Icon colour\n",
    "    try:\n",
    "        icon_colour = purpose_colour1[row['Facility Category']]\n",
    "    except:\n",
    "        icon_colour = 'gray'\n",
    "    \n",
    "    # Add each row to the map\n",
    "    m2.add_circle_markers_from_xy(\n",
    "        data=df\n",
    "        ,x='Longitude'\n",
    "        ,y='Latitude'\n",
    "        ,radius=2\n",
    "        ,popup=[str(row[\"Owner Name\"]), str(row[\"Asset Name\"]), str(row[\"Facility Category\"])]\n",
    "        ,fill_color=icon_colour\n",
    "        ,color=icon_colour\n",
    "    )\n",
    "\n",
    "m2.add_legend(legend_dict=purpose_colour1)\n",
    "\n",
    "# Display map\n",
    "m2"
   ]
  }
 ],
 "metadata": {
  "kernelspec": {
   "display_name": "Python 3 (ipykernel)",
   "language": "python",
   "name": "python3"
  },
  "language_info": {
   "codemirror_mode": {
    "name": "ipython",
    "version": 3
   },
   "file_extension": ".py",
   "mimetype": "text/x-python",
   "name": "python",
   "nbconvert_exporter": "python",
   "pygments_lexer": "ipython3",
   "version": "3.9.12"
  }
 },
 "nbformat": 4,
 "nbformat_minor": 5
}
