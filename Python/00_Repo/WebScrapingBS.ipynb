{
 "cells": [
  {
   "cell_type": "markdown",
   "id": "998db452-4cb7-4d23-9978-570020f676b2",
   "metadata": {},
   "source": [
    "## Web Scraping with Beautiful Soup\n",
    "\n",
    "Simple example of how a web scraper can be used to interact with webpage.\n",
    "Mixture of articles used within this POC.\n",
    "- R vs Python example [file](https://www.dataquest.io/blog/python-vs-r/#:~:text=Python%20is%20more%20object%2Doriented%2C%20and%20R%20is%20more%20functional,approaches%20can%20work%20very%20well)\n",
    "- Webscraping examples [file](https://www.jcchouinard.com/web-scraping-with-beautifulsoup-in-python/#:~:text=To%20parse%20a%20web%20page,downloading%20from%20the%20web%20browser.)"
   ]
  },
  {
   "cell_type": "code",
   "execution_count": null,
   "id": "0ef4e728-f591-42cb-bc2d-b8aabdf5ab0c",
   "metadata": {},
   "outputs": [],
   "source": [
    "# Making a HTTP request\n",
    "import requests"
   ]
  },
  {
   "cell_type": "code",
   "execution_count": null,
   "id": "c6d535f6-5e29-4101-b51a-54e8f2c5e6ed",
   "metadata": {},
   "outputs": [],
   "source": [
    "# URL to retrieve data\n",
    "url = \"https://www.basketball-reference.com/boxscores/201506140GSW.html\""
   ]
  },
  {
   "cell_type": "code",
   "execution_count": null,
   "id": "04ca429f-70d3-4597-ac11-7e08b4b5a779",
   "metadata": {},
   "outputs": [],
   "source": [
    "response = requests.get(url)"
   ]
  },
  {
   "cell_type": "code",
   "execution_count": null,
   "id": "964217d8-8041-4cd0-b233-515430a66bef",
   "metadata": {},
   "outputs": [],
   "source": [
    "# Confirm status of request and print sample data\n",
    "print(f'Status code: {response.status_code}')\n",
    "print(f'Text: {response.text[:100]}')"
   ]
  },
  {
   "cell_type": "code",
   "execution_count": null,
   "id": "2d41c134-fbc4-4434-b075-58c7ba5d4f60",
   "metadata": {},
   "outputs": [],
   "source": [
    "# Parsing response with BeautifulSoup\n",
    "from bs4 import BeautifulSoup"
   ]
  },
  {
   "cell_type": "code",
   "execution_count": null,
   "id": "ea86ef71-dbe3-4b83-9c66-7c7715276240",
   "metadata": {},
   "outputs": [],
   "source": [
    "# Parse HTML\n",
    "soup = BeautifulSoup(response.text, 'html.parser')\n",
    "\n",
    "# Extract HTML tag - title\n",
    "soup.find('title')"
   ]
  },
  {
   "cell_type": "code",
   "execution_count": null,
   "id": "50a614c2-3a7c-4f83-8713-5bed149545f5",
   "metadata": {},
   "outputs": [],
   "source": [
    "# How to extract HTML tags\n",
    "# find elements by Tag name\n",
    "title = soup.find('title')\n",
    "h1 = soup.find('h1')\n",
    "links = soup.find_all('a', href=True)\n",
    "\n",
    "# Print outputs\n",
    "print(f'Title: {title}')\n",
    "print(f'h1: {h1}')\n",
    "print(f'Example link: {links[1][\"href\"]}')"
   ]
  },
  {
   "cell_type": "code",
   "execution_count": null,
   "id": "501f85bf-789d-4237-a8ce-e5328e6f73a5",
   "metadata": {},
   "outputs": [],
   "source": [
    "# Length Python list\n",
    "len(links)"
   ]
  },
  {
   "cell_type": "code",
   "execution_count": null,
   "id": "2df54020-63fd-4d3c-b3a3-783c83fc25ac",
   "metadata": {},
   "outputs": [],
   "source": [
    "# First N sample\n",
    "links[:10]"
   ]
  },
  {
   "cell_type": "code",
   "execution_count": null,
   "id": "7f890678-7c7f-422b-a283-60b8caecbf2c",
   "metadata": {},
   "outputs": [],
   "source": [
    "# Find elements by ID\n",
    "soup.find(id='header')"
   ]
  },
  {
   "cell_type": "code",
   "execution_count": null,
   "id": "00cf894a-dcf9-43fb-8852-55261b73eb4e",
   "metadata": {},
   "outputs": [],
   "source": [
    "# List all of the HTML tags from page\n",
    "set(tag.name for tag in soup.findAll())"
   ]
  },
  {
   "cell_type": "code",
   "execution_count": null,
   "id": "fa6ee859-4922-4a64-9ed2-4bdf3af20be3",
   "metadata": {},
   "outputs": [],
   "source": [
    "# Select data from tables in webpage\n",
    "tables = soup.find_all('table')\n",
    "len(tables)"
   ]
  },
  {
   "cell_type": "code",
   "execution_count": null,
   "id": "3cf1a1a5-aa8f-4c44-bbf9-191e52478232",
   "metadata": {},
   "outputs": [],
   "source": [
    "# Create a dataframe from tables\n",
    "import pandas as pd"
   ]
  },
  {
   "cell_type": "code",
   "execution_count": null,
   "id": "44d4ec70-b2ef-450b-8a84-b0cc75682828",
   "metadata": {},
   "outputs": [],
   "source": [
    "tables[1]"
   ]
  },
  {
   "cell_type": "code",
   "execution_count": null,
   "id": "6cbc21c8-e729-4c4a-9907-6aab6d0e21cd",
   "metadata": {},
   "outputs": [],
   "source": [
    "soup.select?"
   ]
  },
  {
   "cell_type": "code",
   "execution_count": null,
   "id": "1d83ff3a-d693-40a0-9d09-420bdc924d59",
   "metadata": {},
   "outputs": [],
   "source": [
    "table = (\n",
    "    soup\n",
    "    .find(lambda tag: tag.name == 'table' and tag.has_attr('id') and tag['id']==\"box-CLE-q1-basic\")\n",
    "    .findAll(lambda tag: tag.name == 'tr')\n",
    ")"
   ]
  },
  {
   "cell_type": "code",
   "execution_count": null,
   "id": "bf944cc2-be73-4639-84bc-d05e04f49e0a",
   "metadata": {},
   "outputs": [],
   "source": [
    "table"
   ]
  },
  {
   "cell_type": "code",
   "execution_count": null,
   "id": "e54b73e7-72a8-4457-94a6-4786ec63f924",
   "metadata": {},
   "outputs": [],
   "source": []
  }
 ],
 "metadata": {
  "kernelspec": {
   "display_name": "Python 3 (ipykernel)",
   "language": "python",
   "name": "python3"
  },
  "language_info": {
   "codemirror_mode": {
    "name": "ipython",
    "version": 3
   },
   "file_extension": ".py",
   "mimetype": "text/x-python",
   "name": "python",
   "nbconvert_exporter": "python",
   "pygments_lexer": "ipython3",
   "version": "3.9.12"
  }
 },
 "nbformat": 4,
 "nbformat_minor": 5
}
