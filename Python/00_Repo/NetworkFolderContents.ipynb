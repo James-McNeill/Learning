{
 "cells": [
  {
   "cell_type": "markdown",
   "id": "a7210a74-c1bd-4b3f-874f-aec3f7405ee5",
   "metadata": {
    "tags": []
   },
   "source": [
    "## Folder Structure\n",
    "\n",
    "Review the contents with network folder and track details\n",
    "\n",
    "Compare the file directories\n",
    "\n",
    "1. Updates\n",
    "- Included the dates for created and modified\n",
    "- Excluded the Thumbs.db records (exclusion can be applied going forward across all folders)\n",
   ]
  },
  {
   "cell_type": "code",
   "execution_count": null,
   "id": "874d8725-a1ca-430f-b750-b9c96a039624",
   "metadata": {},
   "outputs": [],
   "source": [
    "# https://techoverflow.net/2024/07/23/how-to-fix-numpy-dtype-size-changed-may-indicate-binary-incompatibility-expected-96-from-c-header-got-88-from-pyobject/\n",
    "# pip install numpy==1.26.4"
   ]
  },
  {
   "cell_type": "code",
   "execution_count": 7,
   "id": "cae3ea48-3c08-46a7-b501-9d2319e2c023",
   "metadata": {},
   "outputs": [],
   "source": [
    "# Import libraries\n",
    "import time\n",
    "import pandas as pd\n",
    "from pathlib import Path\n",
    "from typing import Dict, List\n",
    "import numpy as np"
   ]
  },
  {
   "cell_type": "code",
   "execution_count": 8,
   "id": "3b9c588b-e110-40e6-9e2f-a92b7d7a2975",
   "metadata": {},
   "outputs": [
    {
     "name": "stdout",
     "output_type": "stream",
     "text": [
      "Final output saved to network_folder_2024-10-07.xlsx\n"
     ]
    }
   ],
   "source": [
    "class NetworkFolderFileReview:\n",
    "    def __init__(self, directory: str, exclusion_name: str = 'Thumbs'):\n",
    "        \"\"\"\n",
    "        Initializes the class with the directory path and exclusion criteria.\n",
    "\n",
    "        :param directory: str - Path to the directory to review.\n",
    "        :param exclusion_name: str - Name of files to exclude from the review.\n",
    "        \"\"\"\n",
    "        self.directory = directory\n",
    "        self.exclusion_name = exclusion_name\n",
    "        self.file_details_df = pd.DataFrame()\n",
    "        self.filtered_df = pd.DataFrame()\n",
    "        self.network_df = pd.DataFrame()\n",
    "        self.final_df = pd.DataFrame()\n",
    "\n",
    "    def get_filepaths(self) -> List[str]:\n",
    "        \"\"\"\n",
    "        Generates a list of full file paths in the directory tree.\n",
    "        \n",
    "        :return: List[str] - A list containing full file paths.\n",
    "        \"\"\"\n",
    "        return [str(filepath) for filepath in Path(self.directory).rglob('*') if filepath.is_file()]\n",
    "\n",
    "    def get_file_details(self, filepath: Path) -> Dict[str, str]:\n",
    "        \"\"\"\n",
    "        Extracts details from the given file path.\n",
    "\n",
    "        :param filepath: Path - The path to the file.\n",
    "        :return: Dict[str, str] - A dictionary containing file details.\n",
    "        \"\"\"\n",
    "        created = time.ctime(filepath.stat().st_ctime)\n",
    "        modified = time.ctime(filepath.stat().st_mtime)\n",
    "        name, ext = filepath.stem, filepath.suffix[1:]\n",
    "\n",
    "        return {\n",
    "            'File_Path': str(filepath.parent),\n",
    "            'Lst_Folder': filepath.parent.name,\n",
    "            'Full_Name': str(filepath),\n",
    "            'Folder_FileName': str(filepath.relative_to(self.directory)),\n",
    "            'Name': name,\n",
    "            'Ext': ext,\n",
    "            'Created_dt': created,\n",
    "            'Modified_dt': modified\n",
    "        }\n",
    "\n",
    "    def generate_file_details_df(self) -> pd.DataFrame:\n",
    "        \"\"\"\n",
    "        Generates a DataFrame containing details of files in the directory tree.\n",
    "\n",
    "        :return: pd.DataFrame - DataFrame containing file details.\n",
    "        \"\"\"  \n",
    "        file_details_list = [self.get_file_details(filepath) for filepath in Path(self.directory).rglob('*') if filepath.is_file()]\n",
    "        self.file_details_df = pd.DataFrame(file_details_list)\n",
    "        return self.file_details_df\n",
    "\n",
    "    def filter_files(self):\n",
    "        \"\"\"\n",
    "        Filters out files based on exclusion criteria.\n",
    "        \"\"\"\n",
    "        if self.file_details_df.empty:\n",
    "            raise ValueError(\"No files to filter. Please run generate_file_details_df() first.\")\n",
    "        self.filtered_df = self.file_details_df.loc[self.file_details_df.Name != self.exclusion_name]\n",
    "    \n",
    "    def load_network_df(self, csv_path: str):\n",
    "        \"\"\"\n",
    "        Loads the confirmed network folder data from a CSV file.\n",
    "\n",
    "        :param csv_path: str - Path to the CSV file containing network folder data.\n",
    "        \"\"\"\n",
    "        self.network_df = pd.read_csv(csv_path)\n",
    "\n",
    "    def merge_and_compare(self):\n",
    "        \"\"\"\n",
    "        Merges filtered file details with the network data and performs comparison.\n",
    "        \"\"\"\n",
    "        if self.filtered_df.empty or self.network_df.empty:\n",
    "            raise ValueError(\"Both filtered_df and network_df must be populated before merging.\")\n",
    "\n",
    "        data_p1 = self.filtered_df.merge(\n",
    "            self.network_df,\n",
    "            how=\"left\",\n",
    "            on=\"Folder_FileName\",\n",
    "            suffixes=('_New', '_Orig')\n",
    "        )\n",
    "\n",
    "        self.final_df = data_p1.assign(\n",
    "            create_dt_diff_check=lambda df_: np.where(df_.Created_dt_Orig == df_.Created_dt_New, 1, 0),\n",
    "            mod_dt_diff_check=lambda df_: np.where(df_.Modified_dt_Orig == df_.Modified_dt_New, 1, 0)\n",
    "        )\n",
    "        \n",
    "        # Filter final_df to include only rows where create_dt_diff_check == 0\n",
    "        self.final_df = self.final_df[self.final_df['create_dt_diff_check'] == 0]\n",
    "        \n",
    "        # Keep only columns from Folder_FileName onwards\n",
    "        folder_filename_index = self.final_df.columns.get_loc(\"Folder_FileName\")\n",
    "        self.final_df = self.final_df.iloc[:, folder_filename_index:]\n",
    "\n",
    "    def export_final_data(self, output_file: str):\n",
    "        \"\"\"\n",
    "        Exports the final DataFrame to an Excel file.\n",
    "\n",
    "        :param output_file: str - The output file path for the Excel file.\n",
    "        \"\"\"\n",
    "        if self.final_df.empty:\n",
    "            raise ValueError(\"No data to export. Please run merge_and_compare() first.\")\n",
    "\n",
    "        self.final_df.to_excel(output_file, index=False)\n",
    "        print(f\"Final output saved to {output_file}\")\n",
    "\n",
    "# Example of usage\n",
    "if __name__ == \"__main__\":\n",
    "    directory_path = 'directory_path'  # Update with your actual directory path\n",
    "    network_csv_path = 'network_folder_confirmed.csv'  # Update with your actual CSV path\n",
    "    output_file_path = f'network_folder_{pd.to_datetime(\"today\").date()}.xlsx'\n",
    "\n",
    "    review = NetworkFolderFileReview(directory_path)\n",
    "    review.generate_file_details_df()\n",
    "    review.filter_files()\n",
    "    review.load_network_df(network_csv_path)\n",
    "    review.merge_and_compare()\n",
    "    review.export_final_data(output_file_path)"
   ]
  },
  {
   "cell_type": "code",
   "execution_count": 9,
   "id": "060d13bb-b83a-454f-bb6c-f3c398bfb729",
   "metadata": {},
   "outputs": [
    {
     "data": {
      "text/plain": [
       "(26, 13)"
      ]
     },
     "execution_count": 9,
     "metadata": {},
     "output_type": "execute_result"
    }
   ],
   "source": [
    "review.final_df.shape"
   ]
  },
  {
   "cell_type": "code",
   "execution_count": 10,
   "id": "7b46a602-ebac-4430-b7cf-568875038352",
   "metadata": {},
   "outputs": [
    {
     "data": {
      "text/html": [
       "<div>\n",
       "<style scoped>\n",
       "    .dataframe tbody tr th:only-of-type {\n",
       "        vertical-align: middle;\n",
       "    }\n",
       "\n",
       "    .dataframe tbody tr th {\n",
       "        vertical-align: top;\n",
       "    }\n",
       "\n",
       "    .dataframe thead th {\n",
       "        text-align: right;\n",
       "    }\n",
       "</style>\n",
       "<table border=\"1\" class=\"dataframe\">\n",
       "  <thead>\n",
       "    <tr style=\"text-align: right;\">\n",
       "      <th></th>\n",
       "      <th>Folder_FileName</th>\n",
       "      <th>Name</th>\n",
       "      <th>Ext_New</th>\n",
       "      <th>Created_dt_New</th>\n",
       "      <th>Modified_dt_New</th>\n",
       "      <th>Ref</th>\n",
       "      <th>Ext_Orig</th>\n",
       "      <th>Created_dt_Orig</th>\n",
       "      <th>Modified_dt_Orig</th>\n",
       "      <th>PTSB_Confirmed</th>\n",
       "      <th>Excl</th>\n",
       "      <th>create_dt_diff_check</th>\n",
       "      <th>mod_dt_diff_check</th>\n",
       "    </tr>\n",
       "  </thead>\n",
       "  <tbody>\n",
       "    <tr>\n",
       "      <th>997</th>\n",
       "      <td>2024\\01. Meetings\\01. DataWWG\\10. October\\Data...</td>\n",
       "      <td>DataWWG_2024-10-02</td>\n",
       "      <td>pptx</td>\n",
       "      <td>Wed Oct  2 15:02:22 2024</td>\n",
       "      <td>Wed Oct  2 15:02:25 2024</td>\n",
       "      <td>NaN</td>\n",
       "      <td>NaN</td>\n",
       "      <td>NaN</td>\n",
       "      <td>NaN</td>\n",
       "      <td>NaN</td>\n",
       "      <td>NaN</td>\n",
       "      <td>0</td>\n",
       "      <td>0</td>\n",
       "    </tr>\n",
       "    <tr>\n",
       "      <th>1067</th>\n",
       "      <td>2024\\01. Meetings\\02. PDG\\03. Q3\\PDG 26.09.24 ...</td>\n",
       "      <td>PDG 26.09.24 Minutes_</td>\n",
       "      <td>pdf</td>\n",
       "      <td>Mon Sep 30 15:35:03 2024</td>\n",
       "      <td>Mon Sep 30 15:35:03 2024</td>\n",
       "      <td>NaN</td>\n",
       "      <td>NaN</td>\n",
       "      <td>NaN</td>\n",
       "      <td>NaN</td>\n",
       "      <td>NaN</td>\n",
       "      <td>NaN</td>\n",
       "      <td>0</td>\n",
       "      <td>0</td>\n",
       "    </tr>\n",
       "    <tr>\n",
       "      <th>1107</th>\n",
       "      <td>2024\\01. Meetings\\04. Planning\\RE_ PTSB Sustai...</td>\n",
       "      <td>RE_ PTSB Sustainability Invoice_20240429</td>\n",
       "      <td>eml</td>\n",
       "      <td>Tue Oct  1 10:01:57 2024</td>\n",
       "      <td>Tue Oct  1 10:01:58 2024</td>\n",
       "      <td>NaN</td>\n",
       "      <td>NaN</td>\n",
       "      <td>NaN</td>\n",
       "      <td>NaN</td>\n",
       "      <td>NaN</td>\n",
       "      <td>NaN</td>\n",
       "      <td>0</td>\n",
       "      <td>0</td>\n",
       "    </tr>\n",
       "    <tr>\n",
       "      <th>996</th>\n",
       "      <td>2024\\01. Meetings\\01. DataWWG\\10. October\\Data...</td>\n",
       "      <td>DataWWG_2024-10-02</td>\n",
       "      <td>pdf</td>\n",
       "      <td>Wed Oct  2 15:03:10 2024</td>\n",
       "      <td>Wed Oct  2 15:03:12 2024</td>\n",
       "      <td>NaN</td>\n",
       "      <td>NaN</td>\n",
       "      <td>NaN</td>\n",
       "      <td>NaN</td>\n",
       "      <td>NaN</td>\n",
       "      <td>NaN</td>\n",
       "      <td>0</td>\n",
       "      <td>0</td>\n",
       "    </tr>\n",
       "    <tr>\n",
       "      <th>1087</th>\n",
       "      <td>2024\\01. Meetings\\02. PDG\\04. Q4\\Sustainabilit...</td>\n",
       "      <td>Sustainability - RAID - 02OCT24_data</td>\n",
       "      <td>xlsx</td>\n",
       "      <td>Wed Oct  2 09:38:04 2024</td>\n",
       "      <td>Wed Oct  2 09:42:32 2024</td>\n",
       "      <td>NaN</td>\n",
       "      <td>NaN</td>\n",
       "      <td>NaN</td>\n",
       "      <td>NaN</td>\n",
       "      <td>NaN</td>\n",
       "      <td>NaN</td>\n",
       "      <td>0</td>\n",
       "      <td>0</td>\n",
       "    </tr>\n",
       "  </tbody>\n",
       "</table>\n",
       "</div>"
      ],
      "text/plain": [
       "                                        Folder_FileName  \\\n",
       "997   2024\\01. Meetings\\01. DataWWG\\10. October\\Data...   \n",
       "1067  2024\\01. Meetings\\02. PDG\\03. Q3\\PDG 26.09.24 ...   \n",
       "1107  2024\\01. Meetings\\04. Planning\\RE_ PTSB Sustai...   \n",
       "996   2024\\01. Meetings\\01. DataWWG\\10. October\\Data...   \n",
       "1087  2024\\01. Meetings\\02. PDG\\04. Q4\\Sustainabilit...   \n",
       "\n",
       "                                          Name Ext_New  \\\n",
       "997                         DataWWG_2024-10-02    pptx   \n",
       "1067                     PDG 26.09.24 Minutes_     pdf   \n",
       "1107  RE_ PTSB Sustainability Invoice_20240429     eml   \n",
       "996                         DataWWG_2024-10-02     pdf   \n",
       "1087      Sustainability - RAID - 02OCT24_data    xlsx   \n",
       "\n",
       "                Created_dt_New           Modified_dt_New  Ref Ext_Orig  \\\n",
       "997   Wed Oct  2 15:02:22 2024  Wed Oct  2 15:02:25 2024  NaN      NaN   \n",
       "1067  Mon Sep 30 15:35:03 2024  Mon Sep 30 15:35:03 2024  NaN      NaN   \n",
       "1107  Tue Oct  1 10:01:57 2024  Tue Oct  1 10:01:58 2024  NaN      NaN   \n",
       "996   Wed Oct  2 15:03:10 2024  Wed Oct  2 15:03:12 2024  NaN      NaN   \n",
       "1087  Wed Oct  2 09:38:04 2024  Wed Oct  2 09:42:32 2024  NaN      NaN   \n",
       "\n",
       "     Created_dt_Orig Modified_dt_Orig  PTSB_Confirmed  Excl  \\\n",
       "997              NaN              NaN             NaN   NaN   \n",
       "1067             NaN              NaN             NaN   NaN   \n",
       "1107             NaN              NaN             NaN   NaN   \n",
       "996              NaN              NaN             NaN   NaN   \n",
       "1087             NaN              NaN             NaN   NaN   \n",
       "\n",
       "      create_dt_diff_check  mod_dt_diff_check  \n",
       "997                      0                  0  \n",
       "1067                     0                  0  \n",
       "1107                     0                  0  \n",
       "996                      0                  0  \n",
       "1087                     0                  0  "
      ]
     },
     "execution_count": 10,
     "metadata": {},
     "output_type": "execute_result"
    }
   ],
   "source": [
    "review.final_df.sample(5)"
   ]
  },
  {
   "cell_type": "code",
   "execution_count": 17,
   "id": "47095a43-a2c1-4056-a01b-ab9ce9989eca",
   "metadata": {},
   "outputs": [
    {
     "data": {
      "text/plain": [
       "Ext\n",
       "xlsx    531\n",
       "pptx    229\n",
       "csv     158\n",
       "pdf     155\n",
       "docx    133\n",
       "txt     107\n",
       "         54\n",
       "sql      54\n",
       "json     50\n",
       "rds      44\n",
       "Name: Folder_FileName, dtype: int64"
      ]
     },
     "execution_count": 17,
     "metadata": {},
     "output_type": "execute_result"
    }
   ],
   "source": [
    "review.filtered_df.groupby(['Ext'])['Folder_FileName'].count().sort_values(ascending=False).head(10)"
   ]
  },
  {
   "cell_type": "code",
   "execution_count": 18,
   "id": "2921f375-2897-467e-8b2a-432dd6448bf9",
   "metadata": {},
   "outputs": [
    {
     "data": {
      "text/plain": [
       "Ext_New\n",
       "xlsx    8\n",
       "pdf     6\n",
       "pptx    5\n",
       "docx    4\n",
       "eml     3\n",
       "Name: Folder_FileName, dtype: int64"
      ]
     },
     "execution_count": 18,
     "metadata": {},
     "output_type": "execute_result"
    }
   ],
   "source": [
    "review.final_df.groupby(['Ext_New'])['Folder_FileName'].count().sort_values(ascending=False).head(10)"
   ]
  },
  {
   "cell_type": "code",
   "execution_count": 19,
   "id": "aec6cffe-8bfc-4c7a-9b72-f5faee321f5d",
   "metadata": {},
   "outputs": [
    {
     "data": {
      "text/plain": [
       "create_dt_diff_check  mod_dt_diff_check\n",
       "0                     0                    22\n",
       "                      1                     4\n",
       "Name: Folder_FileName, dtype: int64"
      ]
     },
     "execution_count": 19,
     "metadata": {},
     "output_type": "execute_result"
    }
   ],
   "source": [
    "review.final_df.groupby(['create_dt_diff_check', 'mod_dt_diff_check'])['Folder_FileName'].count()"
   ]
  },
  {
   "cell_type": "code",
   "execution_count": null,
   "id": "19419ecc-7a43-4d3c-b5c7-4d4bfc972259",
   "metadata": {},
   "outputs": [],
   "source": []
  }
 ],
 "metadata": {
  "kernelspec": {
   "display_name": "Python 3 (ipykernel)",
   "language": "python",
   "name": "python3"
  },
  "language_info": {
   "codemirror_mode": {
    "name": "ipython",
    "version": 3
   },
   "file_extension": ".py",
   "mimetype": "text/x-python",
   "name": "python",
   "nbconvert_exporter": "python",
   "pygments_lexer": "ipython3",
   "version": "3.9.12"
  }
 },
 "nbformat": 4,
 "nbformat_minor": 5
}
