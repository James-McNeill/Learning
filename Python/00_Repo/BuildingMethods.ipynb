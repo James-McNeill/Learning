{
 "cells": [
  {
   "cell_type": "code",
   "execution_count": 10,
   "id": "13c0d135",
   "metadata": {},
   "outputs": [
    {
     "data": {
      "text/plain": [
       "[1, 3, 5, 7, 9, 11]"
      ]
     },
     "execution_count": 10,
     "metadata": {},
     "output_type": "execute_result"
    }
   ],
   "source": [
    "# Built in method to create a list of values\n",
    "nums_list = [*range(1, 12, 2)]\n",
    "nums_list"
   ]
  },
  {
   "cell_type": "code",
   "execution_count": 11,
   "id": "8714a9c9",
   "metadata": {},
   "outputs": [
    {
     "data": {
      "text/plain": [
       "[(1, 'Mark'), (2, 'Sarah'), (3, 'Nicole'), (4, 'John')]"
      ]
     },
     "execution_count": 11,
     "metadata": {},
     "output_type": "execute_result"
    }
   ],
   "source": [
    "# Built in method to add an index\n",
    "names = ['Mark', 'Sarah', 'Nicole', 'John']\n",
    "indexed_names = [*enumerate(names, start=1)]\n",
    "indexed_names"
   ]
  },
  {
   "cell_type": "code",
   "execution_count": 12,
   "id": "9f79566c",
   "metadata": {},
   "outputs": [
    {
     "data": {
      "text/plain": [
       "['MARK', 'SARAH', 'NICOLE', 'JOHN']"
      ]
     },
     "execution_count": 12,
     "metadata": {},
     "output_type": "execute_result"
    }
   ],
   "source": [
    "# Built in method to apply a function to every element of an object\n",
    "names_map = map(str.upper, names)\n",
    "names_upper = [*list(names_map)]\n",
    "names_upper"
   ]
  },
  {
   "cell_type": "code",
   "execution_count": 13,
   "id": "836a9640",
   "metadata": {},
   "outputs": [
    {
     "name": "stdout",
     "output_type": "stream",
     "text": [
      "[4 5 6]\n",
      "[5 6]\n",
      "[[ 2  4  6]\n",
      " [ 8 10 12]]\n",
      "[[1 2 4]\n",
      " [4 5 7]]\n"
     ]
    }
   ],
   "source": [
    "# Numpy arrays\n",
    "import numpy as np\n",
    "\n",
    "nums = np.array([[1, 2, 3], [4, 5, 6]])\n",
    "print(nums[1,:]) # print the second row of 2d array\n",
    "print(nums[nums > 4]) # check for values above condition\n",
    "nums_dbl = nums * 2 # doubles every element\n",
    "print(nums_dbl)\n",
    "\n",
    "nums[:,2] = nums[:,2] + 1 # add one to the third column of nums\n",
    "print(nums)"
   ]
  },
  {
   "cell_type": "code",
   "execution_count": 14,
   "id": "107aa5e8",
   "metadata": {},
   "outputs": [
    {
     "name": "stdout",
     "output_type": "stream",
     "text": [
      "('Mark', 1) ('Sarah', 3) ('Nicole', 5) ('John', 7)\n"
     ]
    }
   ],
   "source": [
    "# Combine a number of lists together efficiently using zip()\n",
    "list1 = names\n",
    "list2 = nums_list\n",
    "zipped_list = [*zip(list1, list2)] # Combination only keeps the elements that match index values\n",
    "print(*zipped_list)"
   ]
  },
  {
   "cell_type": "code",
   "execution_count": 15,
   "id": "e666da82",
   "metadata": {},
   "outputs": [
    {
     "data": {
      "text/plain": [
       "Counter({'grass': 2, 'fire': 2, 'water': 2, 'ice': 1, 'normal': 1})"
      ]
     },
     "execution_count": 15,
     "metadata": {},
     "output_type": "execute_result"
    }
   ],
   "source": [
    "# Counter()\n",
    "# Taken from the collections package. This method helps to efficiently count the unique values requested and orders \n",
    "# the count output in a descending order\n",
    "from collections import Counter\n",
    "\n",
    "primary_types = ['grass', 'fire', 'water', 'ice', 'grass', 'normal', 'fire', 'water']\n",
    "type_count = Counter(primary_types)\n",
    "type_count"
   ]
  },
  {
   "cell_type": "code",
   "execution_count": 16,
   "id": "86fb5f62",
   "metadata": {},
   "outputs": [
    {
     "name": "stdout",
     "output_type": "stream",
     "text": [
      "[('Mark', 'Sarah'), ('Mark', 'Nicole'), ('Mark', 'John'), ('Mark', 'Kelly'), ('Mark', 'Emma'), ('Sarah', 'Nicole'), ('Sarah', 'John'), ('Sarah', 'Kelly'), ('Sarah', 'Emma'), ('Nicole', 'John'), ('Nicole', 'Kelly'), ('Nicole', 'Emma'), ('John', 'Kelly'), ('John', 'Emma'), ('Kelly', 'Emma')]\n",
      "[('Mark', 'Sarah', 'Nicole', 'John'), ('Mark', 'Sarah', 'Nicole', 'Kelly'), ('Mark', 'Sarah', 'Nicole', 'Emma'), ('Mark', 'Sarah', 'John', 'Kelly'), ('Mark', 'Sarah', 'John', 'Emma'), ('Mark', 'Sarah', 'Kelly', 'Emma'), ('Mark', 'Nicole', 'John', 'Kelly'), ('Mark', 'Nicole', 'John', 'Emma'), ('Mark', 'Nicole', 'Kelly', 'Emma'), ('Mark', 'John', 'Kelly', 'Emma'), ('Sarah', 'Nicole', 'John', 'Kelly'), ('Sarah', 'Nicole', 'John', 'Emma'), ('Sarah', 'Nicole', 'Kelly', 'Emma'), ('Sarah', 'John', 'Kelly', 'Emma'), ('Nicole', 'John', 'Kelly', 'Emma')]\n"
     ]
    }
   ],
   "source": [
    "# Combinations()\n",
    "# Taken from the itertools package. Method is used to review the potential combinations that are \n",
    "# available from a list. You used combinations() from itertools to collect various combination-tuples \n",
    "# from a list. combinations() allows you to specify any size of combinations by passing \n",
    "# an integer as the second argument.\n",
    "from itertools import combinations\n",
    "\n",
    "names_new = names.copy()\n",
    "names_new.append('Kelly')\n",
    "names_new.append('Emma')\n",
    "combos_obj = combinations(names_new, 2)\n",
    "combos_obj_out = [*combos_obj]\n",
    "print(combos_obj_out)\n",
    "\n",
    "combos_4 = [*combinations(names_new, 4)]\n",
    "print(combos_4)"
   ]
  },
  {
   "cell_type": "code",
   "execution_count": 17,
   "id": "993cd419",
   "metadata": {},
   "outputs": [
    {
     "name": "stdout",
     "output_type": "stream",
     "text": [
      "<class 'type'>\n",
      "<class 'list'>\n",
      "<class 'dict'>\n",
      "<class 'collections.Counter'>\n",
      "<class 'list'>\n",
      "<class 'list'>\n",
      "<class 'list'>\n",
      "<class 'list'>\n",
      "<class 'collections.Counter'>\n",
      "<class 'list'>\n",
      "<class 'list'>\n",
      "<class 'collections.Counter'>\n",
      "<class 'list'>\n",
      "<class 'list'>\n",
      "<class 'module'>\n",
      "<class 'module'>\n",
      "<class 'str'>\n",
      "<class 'NoneType'>\n",
      "<class 'str'>\n",
      "<class 'NoneType'>\n",
      "<class 'NoneType'>\n",
      "<class 'list'>\n",
      "<class 'str'>\n",
      "<class 'str'>\n",
      "<class 'str'>\n",
      "<class 'str'>\n",
      "<class 'str'>\n",
      "<class 'str'>\n",
      "<class 'str'>\n",
      "<class 'str'>\n",
      "<class 'str'>\n",
      "<class 'str'>\n",
      "<class 'str'>\n",
      "<class 'str'>\n",
      "<class 'str'>\n",
      "<class 'str'>\n",
      "<class 'str'>\n",
      "<class 'str'>\n",
      "<class 'str'>\n",
      "<class 'str'>\n",
      "<class 'list'>\n",
      "<class 'str'>\n",
      "<class 'str'>\n",
      "<class 'dict'>\n",
      "<class 'type'>\n",
      "<class 'list'>\n",
      "<class 'itertools.combinations'>\n",
      "<class 'list'>\n",
      "<class 'IPython.core.autocall.ZMQExitAutocall'>\n",
      "<class 'method'>\n",
      "<class 'str'>\n",
      "<class 'list'>\n",
      "<class 'list'>\n",
      "<class 'list'>\n",
      "<class 'list'>\n",
      "<class 'map'>\n",
      "<class 'list'>\n",
      "<class 'list'>\n",
      "<class 'module'>\n",
      "<class 'numpy.ndarray'>\n",
      "<class 'numpy.ndarray'>\n",
      "<class 'list'>\n",
      "<class 'list'>\n",
      "<class 'IPython.core.autocall.ZMQExitAutocall'>\n",
      "<class 'collections.Counter'>\n",
      "<class 'list'>\n"
     ]
    }
   ],
   "source": [
    "for i in dir():\n",
    "    print(type(globals()[i]))\n",
    "#     if type(globals()[i]) == pd.DataFrame:\n",
    "#         print(type(globals()[i]))\n",
    "#         print(i)"
   ]
  },
  {
   "cell_type": "code",
   "execution_count": 18,
   "id": "1a309d8e",
   "metadata": {},
   "outputs": [
    {
     "name": "stderr",
     "output_type": "stream",
     "text": [
      "UsageError: Line magic function `%%capture` not found.\n"
     ]
    }
   ],
   "source": [
    "# Magic function will suppress the output within the jupyter cell\n",
    "%%capture\n",
    "!pip install pyathena"
   ]
  },
  {
   "cell_type": "code",
   "execution_count": null,
   "id": "a523fd9c",
   "metadata": {},
   "outputs": [],
   "source": [
    "!pip install pyathena"
   ]
  },
  {
   "cell_type": "code",
   "execution_count": null,
   "id": "c26d6320",
   "metadata": {},
   "outputs": [],
   "source": []
  }
 ],
 "metadata": {
  "kernelspec": {
   "display_name": "conda_python3",
   "language": "python",
   "name": "conda_python3"
  },
  "language_info": {
   "codemirror_mode": {
    "name": "ipython",
    "version": 3
   },
   "file_extension": ".py",
   "mimetype": "text/x-python",
   "name": "python",
   "nbconvert_exporter": "python",
   "pygments_lexer": "ipython3",
   "version": "3.6.13"
  }
 },
 "nbformat": 4,
 "nbformat_minor": 5
}
