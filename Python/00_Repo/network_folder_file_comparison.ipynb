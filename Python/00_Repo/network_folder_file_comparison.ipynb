{
 "cells": [
  {
   "cell_type": "markdown",
   "id": "a7210a74-c1bd-4b3f-874f-aec3f7405ee5",
   "metadata": {
    "tags": []
   },
   "source": [
    "## Folder Structure\n",
    "\n",
    "Review the contents with network folder and track details\n",
    "\n",
    "Compare the file directories"
   ]
  },
  {
   "cell_type": "code",
   "execution_count": null,
   "id": "874d8725-a1ca-430f-b750-b9c96a039624",
   "metadata": {},
   "outputs": [],
   "source": [
    "# https://techoverflow.net/2024/07/23/how-to-fix-numpy-dtype-size-changed-may-indicate-binary-incompatibility-expected-96-from-c-header-got-88-from-pyobject/\n",
    "# pip install numpy==1.26.4"
   ]
  },
  {
   "cell_type": "code",
   "execution_count": null,
   "id": "cae3ea48-3c08-46a7-b501-9d2319e2c023",
   "metadata": {},
   "outputs": [],
   "source": [
    "# Import libraries\n",
    "import time\n",
    "import pandas as pd\n",
    "from pathlib import Path\n",
    "from typing import Dict, List\n",
    "import numpy as np"
   ]
  },
  {
   "cell_type": "code",
   "execution_count": null,
   "id": "3b9c588b-e110-40e6-9e2f-a92b7d7a2975",
   "metadata": {},
   "outputs": [],
   "source": [
    "class NetworkFolderFileReview:\n",
    "    def __init__(self, directory: str, exclusion_name: str = 'Thumbs'):\n",
    "        \"\"\"\n",
    "        Initializes the class with the directory path and exclusion criteria.\n",
    "\n",
    "        :param directory: str - Path to the directory to review.\n",
    "        :param exclusion_name: str - Name of files to exclude from the review.\n",
    "        \"\"\"\n",
    "        self.directory = directory\n",
    "        self.exclusion_name = exclusion_name\n",
    "        self.file_details_df = pd.DataFrame()\n",
    "        self.filtered_df = pd.DataFrame()\n",
    "        self.network_df = pd.DataFrame()\n",
    "        self.final_df = pd.DataFrame()\n",
    "\n",
    "    def get_filepaths(self) -> List[str]:\n",
    "        \"\"\"\n",
    "        Generates a list of full file paths in the directory tree.\n",
    "        \n",
    "        :return: List[str] - A list containing full file paths.\n",
    "        \"\"\"\n",
    "        return [str(filepath) for filepath in Path(self.directory).rglob('*') if filepath.is_file()]\n",
    "\n",
    "    def get_file_details(self, filepath: Path) -> Dict[str, str]:\n",
    "        \"\"\"\n",
    "        Extracts details from the given file path.\n",
    "\n",
    "        :param filepath: Path - The path to the file.\n",
    "        :return: Dict[str, str] - A dictionary containing file details.\n",
    "        \"\"\"\n",
    "        created = time.ctime(filepath.stat().st_ctime)\n",
    "        modified = time.ctime(filepath.stat().st_mtime)\n",
    "        name, ext = filepath.stem, filepath.suffix[1:]\n",
    "\n",
    "        return {\n",
    "            'File_Path': str(filepath.parent),\n",
    "            'Lst_Folder': filepath.parent.name,\n",
    "            'Full_Name': str(filepath),\n",
    "            'Folder_FileName': str(filepath.relative_to(self.directory)),\n",
    "            'Name': name,\n",
    "            'Ext': ext,\n",
    "            'Created_dt': created,\n",
    "            'Modified_dt': modified\n",
    "        }\n",
    "\n",
    "    def generate_file_details_df(self) -> pd.DataFrame:\n",
    "        \"\"\"\n",
    "        Generates a DataFrame containing details of files in the directory tree.\n",
    "\n",
    "        :return: pd.DataFrame - DataFrame containing file details.\n",
    "        \"\"\"  \n",
    "        file_details_list = [self.get_file_details(filepath) for filepath in Path(self.directory).rglob('*') if filepath.is_file()]\n",
    "        self.file_details_df = pd.DataFrame(file_details_list)\n",
    "        return self.file_details_df\n",
    "\n",
    "    def filter_files(self):\n",
    "        \"\"\"\n",
    "        Filters out files based on exclusion criteria.\n",
    "        \"\"\"\n",
    "        if self.file_details_df.empty:\n",
    "            raise ValueError(\"No files to filter. Please run generate_file_details_df() first.\")\n",
    "        self.filtered_df = self.file_details_df.loc[self.file_details_df.Name != self.exclusion_name]\n",
    "    \n",
    "    def load_network_df(self, csv_path: str):\n",
    "        \"\"\"\n",
    "        Loads the confirmed network folder data from a CSV file.\n",
    "\n",
    "        :param csv_path: str - Path to the CSV file containing network folder data.\n",
    "        \"\"\"\n",
    "        self.network_df = pd.read_csv(csv_path)\n",
    "\n",
    "    def merge_and_compare(self):\n",
    "        \"\"\"\n",
    "        Merges filtered file details with the network data and performs comparison.\n",
    "        \"\"\"\n",
    "        if self.filtered_df.empty or self.network_df.empty:\n",
    "            raise ValueError(\"Both filtered_df and network_df must be populated before merging.\")\n",
    "\n",
    "        data_p1 = self.filtered_df.merge(\n",
    "            self.network_df,\n",
    "            how=\"left\",\n",
    "            on=\"Folder_FileName\",\n",
    "            suffixes=('_New', '_Orig')\n",
    "        )\n",
    "\n",
    "        self.final_df = data_p1.assign(\n",
    "            create_dt_diff_check=lambda df_: np.where(df_.Created_dt_Orig == df_.Created_dt_New, 1, 0),\n",
    "            mod_dt_diff_check=lambda df_: np.where(df_.Modified_dt_Orig == df_.Modified_dt_New, 1, 0)\n",
    "        )\n",
    "        \n",
    "        # Filter final_df to include only rows where create_dt_diff_check == 0\n",
    "        self.final_df = self.final_df[self.final_df['create_dt_diff_check'] == 0]\n",
    "        \n",
    "        # Keep only columns from Folder_FileName onwards\n",
    "        folder_filename_index = self.final_df.columns.get_loc(\"Folder_FileName\")\n",
    "        self.final_df = self.final_df.iloc[:, folder_filename_index:]\n",
    "\n",
    "    def export_final_data(self, output_file: str):\n",
    "        \"\"\"\n",
    "        Exports the final DataFrame to an Excel file.\n",
    "\n",
    "        :param output_file: str - The output file path for the Excel file.\n",
    "        \"\"\"\n",
    "        if self.final_df.empty:\n",
    "            raise ValueError(\"No data to export. Please run merge_and_compare() first.\")\n",
    "\n",
    "        self.final_df.to_excel(output_file, index=False)\n",
    "        print(f\"Final output saved to {output_file}\")\n",
    "\n",
    "# Example of usage\n",
    "if __name__ == \"__main__\":\n",
    "    directory_path = 'directory_path'  # Update with your actual directory path\n",
    "    network_csv_path = 'network_folder_confirmed.csv'  # Update with your actual CSV path\n",
    "    output_file_path = f'network_folder_{pd.to_datetime(\"today\").date()}.xlsx'\n",
    "\n",
    "    review = NetworkFolderFileReview(directory_path)\n",
    "    review.generate_file_details_df()\n",
    "    review.filter_files()\n",
    "    review.load_network_df(network_csv_path)\n",
    "    review.merge_and_compare()\n",
    "    review.export_final_data(output_file_path)"
   ]
  },
  {
   "cell_type": "code",
   "execution_count": null,
   "id": "060d13bb-b83a-454f-bb6c-f3c398bfb729",
   "metadata": {},
   "outputs": [],
   "source": [
    "review.final_df.shape"
   ]
  },
  {
   "cell_type": "code",
   "execution_count": null,
   "id": "7b46a602-ebac-4430-b7cf-568875038352",
   "metadata": {},
   "outputs": [],
   "source": [
    "review.final_df.sample(5)"
   ]
  },
  {
   "cell_type": "code",
   "execution_count": null,
   "id": "47095a43-a2c1-4056-a01b-ab9ce9989eca",
   "metadata": {},
   "outputs": [],
   "source": [
    "review.filtered_df.groupby(['Ext'])['Folder_FileName'].count().sort_values(ascending=False).head(10)"
   ]
  },
  {
   "cell_type": "code",
   "execution_count": null,
   "id": "2921f375-2897-467e-8b2a-432dd6448bf9",
   "metadata": {},
   "outputs": [],
   "source": [
    "review.final_df.groupby(['Ext_New'])['Folder_FileName'].count().sort_values(ascending=False).head(10)"
   ]
  },
  {
   "cell_type": "code",
   "execution_count": null,
   "id": "aec6cffe-8bfc-4c7a-9b72-f5faee321f5d",
   "metadata": {},
   "outputs": [],
   "source": [
    "review.final_df.groupby(['create_dt_diff_check', 'mod_dt_diff_check'])['Folder_FileName'].count()"
   ]
  },
  {
   "cell_type": "code",
   "execution_count": null,
   "id": "19419ecc-7a43-4d3c-b5c7-4d4bfc972259",
   "metadata": {},
   "outputs": [],
   "source": []
  }
 ],
 "metadata": {
  "kernelspec": {
   "display_name": "Python 3 (ipykernel)",
   "language": "python",
   "name": "python3"
  },
  "language_info": {
   "codemirror_mode": {
    "name": "ipython",
    "version": 3
   },
   "file_extension": ".py",
   "mimetype": "text/x-python",
   "name": "python",
   "nbconvert_exporter": "python",
   "pygments_lexer": "ipython3",
   "version": "3.9.12"
  }
 },
 "nbformat": 4,
 "nbformat_minor": 5
}
