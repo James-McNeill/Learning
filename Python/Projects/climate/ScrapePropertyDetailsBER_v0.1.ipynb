{
 "cells": [
  {
   "cell_type": "markdown",
   "metadata": {
    "id": "2R6GtLLx9e6w"
   },
   "source": [
    "# Scrape property details including BER"
   ]
  },
  {
   "cell_type": "markdown",
   "metadata": {
    "id": "ByibEUtt9vFJ"
   },
   "source": [
    "Challenge:\n",
    "Extract property details that can be used to understand the BER.\n",
    "\n",
    "*   Property website extract property details\n",
    "*   Store the details within a dataframe\n",
    "*   Take the BER # from the dataframe\n",
    "*   Interact with the BER cert website\n",
    "*   Extract the BER cert details\n",
    "*   Add details to the initial dataframe"
   ]
  },
  {
   "cell_type": "markdown",
   "metadata": {
    "id": "BODLsOKnDx-v"
   },
   "source": [
    "\n",
    "\n",
    "1.   Have to install the chromedriver\n",
    "Requires a number of steps. There is an automatic chromedriver installer that can use the existing version of chrome and download the correct driver. To get this working we need to update the PATH (echo %PATH%) details on the system.\n",
    "2.   Developer API is available https://api.daft.ie/doc/v3/#:~:text=The%20Daft.ie%20API%20uses,based%20SOAP%20protocol%20over%20HTTP.\n",
    "\n"
   ]
  },
  {
   "cell_type": "code",
   "execution_count": null,
   "metadata": {
    "colab": {
     "base_uri": "https://localhost:8080/"
    },
    "executionInfo": {
     "elapsed": 10699,
     "status": "ok",
     "timestamp": 1695456597626,
     "user": {
      "displayName": "James McNeill",
      "userId": "05873498399209725796"
     },
     "user_tz": -60
    },
    "id": "jAktODsbBLkf",
    "outputId": "3935765b-b206-444f-f867-c7bd63edcfcf"
   },
   "outputs": [],
   "source": [
    "pip install selenium"
   ]
  },
  {
   "cell_type": "code",
   "execution_count": null,
   "metadata": {
    "id": "09gHKOxh9eE3"
   },
   "outputs": [],
   "source": [
    "# libraries\n",
    "from selenium import webdriver\n",
    "from selenium.webdriver.chrome.service import Service\n",
    "from selenium.webdriver.common.by import By\n",
    "from selenium.webdriver.common.keys import Keys\n",
    "from bs4 import BeautifulSoup\n",
    "import pandas as pd"
   ]
  },
  {
   "cell_type": "code",
   "execution_count": null,
   "metadata": {
    "id": "ApsmVGX4CbN6"
   },
   "outputs": [],
   "source": [
    "pip install chromedriver-autoinstaller"
   ]
  },
  {
   "cell_type": "code",
   "execution_count": null,
   "metadata": {
    "id": "EQ5eOpyvCmtx"
   },
   "outputs": [],
   "source": [
    "import chromedriver_autoinstaller\n",
    "from selenium import webdriver\n",
    "\n",
    "# Automatically install and set the correct ChromeDriver version\n",
    "chromedriver_autoinstaller.install()\n",
    "\n",
    "# Create a Chrome WebDriver instance\n",
    "driver = webdriver.Chrome()\n",
    "\n",
    "# Now you can use the 'driver' object to interact with Chrome as usual\n",
    "driver.get(\"https://www.example.com\")\n",
    "\n",
    "# Close the WebDriver when done\n",
    "driver.quit()"
   ]
  },
  {
   "cell_type": "code",
   "execution_count": null,
   "metadata": {
    "id": "yNl7H22eBCRq"
   },
   "outputs": [],
   "source": [
    "# # Set up Selenium WebDriver (you may need to specify the path to your chromedriver)\n",
    "# chrome_path = '/path/to/chromedriver'\n",
    "# service = Service(chrome_path)\n",
    "# driver = webdriver.Chrome(service=service)\n",
    "\n",
    "# # Navigate to the webpage\n",
    "# url = \"https://www.daft.ie/for-sale/apartment-34-ballintyre-meadows-ballinteer-ballinteer-dublin-16/5286712\"\n",
    "# driver.get(url)"
   ]
  },
  {
   "cell_type": "code",
   "execution_count": null,
   "metadata": {
    "id": "1xa1CvmuBGK4"
   },
   "outputs": [],
   "source": [
    "# # Wait for the page to load (you can adjust the wait time as needed)\n",
    "# driver.implicitly_wait(10)\n",
    "\n",
    "# # Extract the page source after waiting\n",
    "# page_source = driver.page_source\n",
    "\n",
    "# # Parse the HTML content using Beautiful Soup\n",
    "# soup = BeautifulSoup(page_source, \"html.parser\")\n",
    "\n",
    "# # Extract specific details from the page\n",
    "# property_title = soup.find(\"h1\", class_=\"PropertyMainInformation_property-title\").text\n",
    "# price = soup.find(\"strong\", class_=\"PropertyInformationCommonStyles_price\").text\n",
    "# location = soup.find(\"span\", class_=\"PropertyMainInformation_location-text\").text\n",
    "# description = soup.find(\"div\", class_=\"PropertyMainInformation_description\").text\n",
    "\n",
    "# # Store the extracted details in a Pandas DataFrame\n",
    "# data = {\n",
    "#     \"Property Title\": [property_title],\n",
    "#     \"Price\": [price],\n",
    "#     \"Location\": [location],\n",
    "#     \"Description\": [description],\n",
    "# }\n",
    "\n",
    "# df = pd.DataFrame(data)\n",
    "\n",
    "# # Display the DataFrame\n",
    "# print(df)\n",
    "\n",
    "# # Close the WebDriver\n",
    "# driver.quit()"
   ]
  },
  {
   "cell_type": "markdown",
   "metadata": {
    "id": "ZV8orvjOGfdG"
   },
   "source": [
    "Alternative to selenium"
   ]
  },
  {
   "cell_type": "code",
   "execution_count": null,
   "metadata": {
    "id": "e7eZZbWlGeyP"
   },
   "outputs": [],
   "source": [
    "import requests\n",
    "from bs4 import BeautifulSoup\n",
    "import pandas as pd\n",
    "\n",
    "# Define the URL of the webpage\n",
    "url = \"https://www.daft.ie/for-sale/apartment-34-ballintyre-meadows-ballinteer-ballinteer-dublin-16/5286712\"\n",
    "\n",
    "# Send an HTTP GET request to the URL\n",
    "response = requests.get(url)"
   ]
  },
  {
   "cell_type": "code",
   "execution_count": null,
   "metadata": {
    "id": "Z5ChX1JAGlPO"
   },
   "outputs": [],
   "source": [
    "# Check if the request was successful (status code 200)\n",
    "if response.status_code == 200:\n",
    "    # Parse the HTML content using BeautifulSoup\n",
    "    soup = BeautifulSoup(response.content, \"html.parser\")\n",
    "\n",
    "#     # Extract specific details from the page\n",
    "#     property_title = soup.find(\"h1\", class_=\"PropertyMainInformation_property-title\").text.strip()\n",
    "#     price = soup.find(\"strong\", class_=\"PropertyInformationCommonStyles_price\").text.strip()\n",
    "#     location = soup.find(\"span\", class_=\"PropertyMainInformation_location-text\").text.strip()\n",
    "#     description = soup.find(\"div\", class_=\"PropertyMainInformation_description\").text.strip()\n",
    "\n",
    "#     # Store the extracted details in a Pandas DataFrame\n",
    "#     data = {\n",
    "#         \"Property Title\": [property_title],\n",
    "#         \"Price\": [price],\n",
    "#         \"Location\": [location],\n",
    "#         \"Description\": [description],\n",
    "#     }\n",
    "\n",
    "#     df = pd.DataFrame(data)\n",
    "\n",
    "#     # Display the DataFrame\n",
    "#     print(df)\n",
    "\n",
    "# else:\n",
    "#     print(\"Failed to retrieve the webpage. Status code:\", response.status_code)\n"
   ]
  },
  {
   "cell_type": "code",
   "execution_count": null,
   "metadata": {
    "colab": {
     "base_uri": "https://localhost:8080/"
    },
    "executionInfo": {
     "elapsed": 485,
     "status": "ok",
     "timestamp": 1695457526943,
     "user": {
      "displayName": "James McNeill",
      "userId": "05873498399209725796"
     },
     "user_tz": -60
    },
    "id": "laZ2gIDIGriZ",
    "outputId": "b7ee7a00-f6d6-435f-824c-5ef9116e209f"
   },
   "outputs": [],
   "source": [
    "soup"
   ]
  },
  {
   "cell_type": "code",
   "execution_count": null,
   "metadata": {
    "colab": {
     "base_uri": "https://localhost:8080/",
     "output_embedded_package_id": "1_eNdxBfsDHUYTWSdeVkILVQGQQRLKcfY"
    },
    "executionInfo": {
     "elapsed": 3493,
     "status": "ok",
     "timestamp": 1695458110284,
     "user": {
      "displayName": "James McNeill",
      "userId": "05873498399209725796"
     },
     "user_tz": -60
    },
    "id": "P7NM_IfJGx1Y",
    "outputId": "0eab2484-e8ca-4a20-faf5-1d52df184184"
   },
   "outputs": [],
   "source": [
    "# Step 1: Send an HTTP request to the website\n",
    "response = requests.get(url)\n",
    "\n",
    "# Check if the request was successful (status code 200)\n",
    "if response.status_code == 200:\n",
    "    # Parse the HTML content using BeautifulSoup\n",
    "    soup = BeautifulSoup(response.text, \"html.parser\")\n",
    "\n",
    "    # Find all elements on the page\n",
    "    all_elements = soup.find_all(True)\n",
    "\n",
    "    # Iterate through and print all elements\n",
    "    for element in all_elements:\n",
    "        print(element)\n",
    "\n",
    "else:\n",
    "    print(\"Failed to retrieve the webpage. Status code:\", response.status_code)"
   ]
  },
  {
   "cell_type": "code",
   "execution_count": null,
   "metadata": {},
   "outputs": [],
   "source": [
    "# Working with Pandas to import HTML\n",
    "# Define the URL of the webpage\n",
    "url = \"https://www.daft.ie/for-sale/apartment-34-ballintyre-meadows-ballinteer-ballinteer-dublin-16/5286712\"\n",
    "\n",
    "df = pd.read_html(url)\n",
    "df"
   ]
  },
  {
   "cell_type": "markdown",
   "metadata": {
    "id": "W06-ml86MZWf"
   },
   "source": [
    "Once we are able to get the BER cert number then need to interact with the register website"
   ]
  },
  {
   "cell_type": "code",
   "execution_count": null,
   "metadata": {
    "id": "RetevoIxJdVy"
   },
   "outputs": [],
   "source": [
    "import requests\n",
    "from bs4 import BeautifulSoup\n",
    "\n",
    "# Define the URL of the target webpage\n",
    "url = \"https://ndber.seai.ie/pass/ber/search.aspx\"\n",
    "\n",
    "# Send an initial GET request to retrieve the page and obtain the ViewState\n",
    "response = requests.get(url)\n",
    "soup = BeautifulSoup(response.text, \"html.parser\")"
   ]
  },
  {
   "cell_type": "code",
   "execution_count": null,
   "metadata": {
    "colab": {
     "base_uri": "https://localhost:8080/"
    },
    "executionInfo": {
     "elapsed": 6,
     "status": "ok",
     "timestamp": 1695458440442,
     "user": {
      "displayName": "James McNeill",
      "userId": "05873498399209725796"
     },
     "user_tz": -60
    },
    "id": "WBv_e6AVMqRh",
    "outputId": "43f6ff4d-fc13-453d-9e00-16f55d69ab74"
   },
   "outputs": [],
   "source": [
    "soup"
   ]
  },
  {
   "cell_type": "markdown",
   "metadata": {
    "id": "G3yRqtWoO1CK"
   },
   "source": [
    "Lets try mechanize"
   ]
  },
  {
   "cell_type": "code",
   "execution_count": null,
   "metadata": {
    "colab": {
     "base_uri": "https://localhost:8080/"
    },
    "executionInfo": {
     "elapsed": 5701,
     "status": "ok",
     "timestamp": 1695459024682,
     "user": {
      "displayName": "James McNeill",
      "userId": "05873498399209725796"
     },
     "user_tz": -60
    },
    "id": "odH4e4gqNvBk",
    "outputId": "036220f6-f8fc-4960-d2f7-4dfd642f4f1d"
   },
   "outputs": [],
   "source": [
    "pip install mechanize"
   ]
  },
  {
   "cell_type": "code",
   "execution_count": null,
   "metadata": {
    "colab": {
     "base_uri": "https://localhost:8080/"
    },
    "executionInfo": {
     "elapsed": 2186,
     "status": "ok",
     "timestamp": 1695459524676,
     "user": {
      "displayName": "James McNeill",
      "userId": "05873498399209725796"
     },
     "user_tz": -60
    },
    "id": "LQs9F7oPQqlU",
    "outputId": "bd150be3-2e55-4b7c-fa17-eb887dbf3c33"
   },
   "outputs": [],
   "source": [
    "import mechanize\n",
    "browser = mechanize.Browser()\n",
    "\n",
    "# Set a custom User-Agent header to mimic a web browser\n",
    "browser.addheaders = [(\"User-Agent\", \"Mozilla/5.0 (Windows NT 10.0; Win64; x64) AppleWebKit/537.36 (KHTML, like Gecko) Chrome/94.0.4606.71 Safari/537.36\")]\n",
    "\n",
    "# Open the webpage with the custom User-Agent\n",
    "url = \"https://ndber.seai.ie/pass/ber/search.aspx\"\n",
    "response = browser.open(url)\n",
    "\n",
    "# List and inspect all the forms on the page\n",
    "for form in browser.forms():\n",
    "    print(\"Form Name:\", form.name)\n",
    "    print(\"Form Fields:\")\n",
    "    for control in form.controls:\n",
    "        print(f\"  - Name: {control.name}, Type: {control.type}, Value: {control.value}\")\n",
    "    print()\n",
    "\n",
    "# Close the browser\n",
    "browser.close()"
   ]
  },
  {
   "cell_type": "code",
   "execution_count": null,
   "metadata": {
    "id": "1Zz_uYPWRPd4"
   },
   "outputs": [],
   "source": [
    "# Initialize a mechanize browser\n",
    "browser = mechanize.Browser()\n",
    "\n",
    "# Set a custom User-Agent header to mimic a web browser\n",
    "browser.addheaders = [(\"User-Agent\", \"Mozilla/5.0 (Windows NT 10.0; Win64; x64) AppleWebKit/537.36 (KHTML, like Gecko) Chrome/94.0.4606.71 Safari/537.36\")]\n",
    "\n",
    "# Open the webpage\n",
    "url = \"https://ndber.seai.ie/pass/ber/search.aspx\"\n",
    "browser.open(url)\n",
    "\n",
    "# Select the form by its name (you may need to inspect the form's structure)\n",
    "browser.select_form(name=\"aspnetForm\")\n",
    "\n",
    "# Find the specific form field by its name and set the input value\n",
    "input_name = \"ctl00$DefaultContent$BERSearch$dfSearch$txtBERNumber\"\n",
    "input_value = \"148882745\"  # Replace with your desired input value\n",
    "browser[input_name] = input_value\n",
    "\n",
    "# Submit the form\n",
    "response = browser.submit()\n",
    "\n",
    "# Print the response or do further processing\n",
    "response.read()\n",
    "\n",
    "# Close the browser\n",
    "browser.close()\n"
   ]
  },
  {
   "cell_type": "code",
   "execution_count": null,
   "metadata": {
    "colab": {
     "base_uri": "https://localhost:8080/"
    },
    "executionInfo": {
     "elapsed": 3339,
     "status": "ok",
     "timestamp": 1695459999185,
     "user": {
      "displayName": "James McNeill",
      "userId": "05873498399209725796"
     },
     "user_tz": -60
    },
    "id": "ERhi-HlNRTGL",
    "outputId": "00958720-8cf4-4366-f86c-ff302928fe12"
   },
   "outputs": [],
   "source": [
    "import mechanize\n",
    "from bs4 import BeautifulSoup\n",
    "\n",
    "# Initialize a mechanize browser\n",
    "browser = mechanize.Browser()\n",
    "\n",
    "# Set a custom User-Agent header to mimic a web browser\n",
    "browser.addheaders = [(\"User-Agent\", \"Mozilla/5.0 (Windows NT 10.0; Win64; x64) AppleWebKit/537.36 (KHTML, like Gecko) Chrome/94.0.4606.71 Safari/537.36\")]\n",
    "\n",
    "# Open the webpage\n",
    "url = \"https://ndber.seai.ie/pass/ber/search.aspx\"\n",
    "response = browser.open(url)\n",
    "\n",
    "# Parse the HTML content of the response using BeautifulSoup\n",
    "soup = BeautifulSoup(response.read(), \"html.parser\")\n",
    "\n",
    "# Select the form by its name (you may need to inspect the form's structure)\n",
    "browser.select_form(name=\"aspnetForm\")\n",
    "\n",
    "# Find the specific form field by its name and set the input value\n",
    "input_name = \"ctl00$DefaultContent$BERSearch$dfSearch$txtBERNumber\"\n",
    "input_value = \"148882745\"  # Replace with your desired input value\n",
    "browser[input_name] = input_value\n",
    "\n",
    "# Submit the form\n",
    "response = browser.submit()\n",
    "\n",
    "# Parse the HTML content of the response from the search result page using BeautifulSoup\n",
    "search_result_soup = BeautifulSoup(response.read(), \"html.parser\")\n",
    "\n",
    "# Print the entire HTML content of the search result page\n",
    "print(search_result_soup.prettify())\n",
    "\n",
    "# Close the browser\n",
    "browser.close()\n"
   ]
  },
  {
   "cell_type": "code",
   "execution_count": null,
   "metadata": {
    "id": "tD-xcyPZSVva"
   },
   "outputs": [],
   "source": []
  }
 ],
 "metadata": {
  "colab": {
   "authorship_tag": "ABX9TyP31fqQCX5EMphJXk7bILdJ",
   "provenance": []
  },
  "kernelspec": {
   "display_name": "Python 3 (ipykernel)",
   "language": "python",
   "name": "python3"
  },
  "language_info": {
   "codemirror_mode": {
    "name": "ipython",
    "version": 3
   },
   "file_extension": ".py",
   "mimetype": "text/x-python",
   "name": "python",
   "nbconvert_exporter": "python",
   "pygments_lexer": "ipython3",
   "version": "3.9.12"
  }
 },
 "nbformat": 4,
 "nbformat_minor": 4
}
