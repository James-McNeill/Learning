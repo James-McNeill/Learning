{
 "cells": [
  {
   "cell_type": "code",
   "execution_count": 1,
   "id": "847604d1-ba57-4ee3-a6fb-676fdf6afe7e",
   "metadata": {},
   "outputs": [],
   "source": [
    "import pandas as pd\n",
    "import numpy as np\n",
    "from sklearn.linear_model import LinearRegression\n",
    "import subprocess\n",
    "import statsmodels.api as sm\n",
    "import statsmodels.formula.api as smf\n",
    "import os\n",
    "from datetime import datetime\n",
    "import matplotlib.pyplot as plt  \n",
    "from sklearn.impute import SimpleImputer\n",
    "from sklearn.pipeline import Pipeline\n",
    "import sys\n",
    "from IPython.core.interactiveshell import InteractiveShell\n",
    "import warnings"
   ]
  },
  {
   "cell_type": "code",
   "execution_count": 2,
   "id": "d7e74cf5-9b80-4b96-b854-a4163639e559",
   "metadata": {},
   "outputs": [],
   "source": [
    "# Notebook setting updates\n",
    "from IPython.core.interactiveshell import InteractiveShell\n",
    "InteractiveShell.ast_node_interactivity = \"all\"\n",
    "\n",
    "# Adjust options for displaying the float columns\n",
    "pd.options.display.float_format = '{:,.2f}'.format\n",
    "\n",
    "# Warning settings\n",
    "\n",
    "warnings.filterwarnings(action='ignore')"
   ]
  },
  {
   "cell_type": "code",
   "execution_count": 3,
   "id": "b14e6a90-8ecd-4195-aec2-4b62ac588e0e",
   "metadata": {},
   "outputs": [],
   "source": [
    "txt_file = \".../BERPublicsearch.txt\""
   ]
  },
  {
   "cell_type": "code",
   "execution_count": 4,
   "id": "bd614f6a-4b87-4de2-b000-f35f74518f80",
   "metadata": {},
   "outputs": [],
   "source": [
    "#Method 1\n",
    "\n",
    "# Initialize an empty list to store data\n",
    "data = []\n",
    "\n",
    "# Read the data line by line\n",
    "with open(txt_file, 'r', encoding='latin1') as file:\n",
    "    for line in file:\n",
    "        # Split the line by the tab delimiter\n",
    "        fields = line.strip().split('\\t')\n",
    "        # Append the fields to the data list\n",
    "        data.append(fields)"
   ]
  },
  {
   "cell_type": "code",
   "execution_count": 5,
   "id": "3d271333-54da-4e92-b52c-a858e4808aa8",
   "metadata": {},
   "outputs": [],
   "source": [
    "# Had to split out the list of list. First element column names\n",
    "column_names = data[0]\n",
    "data_input = data[1:]"
   ]
  },
  {
   "cell_type": "code",
   "execution_count": 6,
   "id": "c8b78a0c-2c3b-48a4-9af1-ab30a2d828fb",
   "metadata": {},
   "outputs": [],
   "source": [
    "# Convert the list of data into a DataFrame\n",
    "SEAI_data = pd.DataFrame(data=data_input, columns=column_names)"
   ]
  },
  {
   "cell_type": "code",
   "execution_count": null,
   "id": "d92d35f6",
   "metadata": {},
   "outputs": [],
   "source": [
    "# Overview of the dimensions\n",
    "SEAI_data.shape\n",
    "SEAI_data.head()\n",
    "SEAI_data.columns\n",
    "SEAI_data.dtypes"
   ]
  },
  {
   "cell_type": "code",
   "execution_count": null,
   "id": "f3c02a37",
   "metadata": {},
   "outputs": [],
   "source": [
    "# Understand the missing values by column\n",
    "SEAI_data.Year_of_Construction.isnull().sum()\n",
    "\n",
    "# Create method to review the proportion of missing values by each column\n",
    "def missing_columns(df):\n",
    "    for col in df.columns:\n",
    "        miss = df.isnull().sum()\n",
    "        miss_per = miss / len(df)\n",
    "    return miss_per\n",
    "\n",
    "missing_columns(SEAI_data[['CountyName', 'Year_of_Construction']])\n"
   ]
  },
  {
   "cell_type": "code",
   "execution_count": null,
   "id": "387c211f",
   "metadata": {},
   "outputs": [],
   "source": [
    "SEAI_data.Year_of_Construction.describe(include='all')"
   ]
  },
  {
   "cell_type": "code",
   "execution_count": null,
   "id": "212e7922-b315-4d3b-bed7-1236cf19fb79",
   "metadata": {},
   "outputs": [],
   "source": [
    "SEAI_data.groupby('Year_of_Construction')['BerRating'].count()"
   ]
  },
  {
   "cell_type": "code",
   "execution_count": 11,
   "id": "00047429-8f0a-4726-a2a9-56106154dc64",
   "metadata": {},
   "outputs": [],
   "source": [
    "# Function used to clean imported data.\n",
    "# .assign : steps used to update variables\n",
    "\n",
    "# Calculate the current year\n",
    "current_year = datetime.now().year\n",
    "\n",
    "def tweak_jb(df):\n",
    "    return (\n",
    "        df\n",
    "        .loc[:,['BerRating', 'CountyName', 'SA_Code', 'DwellingTypeDescr', 'Year_of_Construction']]\n",
    "        .assign(Year_of_Construction=lambda df_:df_.Year_of_Construction.astype(int),\n",
    "                Age_dwelling=lambda df_:current_year - df_.Year_of_Construction,\n",
    "               )\n",
    "    )"
   ]
  },
  {
   "cell_type": "code",
   "execution_count": null,
   "id": "8dbe2dc5-2972-41ec-90d4-d14eba8a03d1",
   "metadata": {},
   "outputs": [],
   "source": [
    "data_p1 = tweak_jb(SEAI_data)\n",
    "data_p1.head()"
   ]
  },
  {
   "cell_type": "code",
   "execution_count": 13,
   "id": "9ecfae7a-22ea-4a44-bec5-608a088034fd",
   "metadata": {},
   "outputs": [],
   "source": [
    "def sampling_data(input_data, sample_perc, stratification=None, seed=None):\n",
    "    np.random.seed(seed)\n",
    "    if stratification is not None:\n",
    "        data = input_data.groupby(stratification, group_keys=False).apply(lambda x: x.sample(frac=sample_perc))\n",
    "    else:\n",
    "        data = input_data.sample(frac=sample_perc)\n",
    "    return data\n"
   ]
  },
  {
   "cell_type": "code",
   "execution_count": null,
   "id": "fc22dea5-87c4-4f24-a8a4-a8c7daea237e",
   "metadata": {},
   "outputs": [],
   "source": [
    "# Read the County_NUTS3_OTHER.csv file\n",
    "country_nuts3 = pd.read_csv(\".../County_NUTS3_OTHER.csv\")\n",
    "\n",
    "# Merge the reference data into the main table\n",
    "data_p2 = (\n",
    "    pd\n",
    "    .merge(data_p1, country_nuts3, left_on='CountyName', right_on='Factor_Level', how='left')\n",
    "    .drop(columns=['Factor', 'Factor_Level'])\n",
    "    .rename(columns={'group_id': 'CountyName_new'})\n",
    "    .assign(BerRating=lambda df_:df_.BerRating.astype('float'),\n",
    "            CountyName=lambda df_:df_.CountyName.astype('category'),\n",
    "            SA_Code=lambda df_:df_.SA_Code.astype('category'),\n",
    "            DwellingTypeDescr=lambda df_:df_.DwellingTypeDescr.astype('category'),\n",
    "            CountyName_new=lambda df_:df_.CountyName_new.astype('category'),\n",
    "            Age_dwelling2=lambda df_:49.53 * df_.Age_dwelling ** 0.391,\n",
    "           )\n",
    ")\n",
    "\n",
    "data_p2.head()"
   ]
  },
  {
   "cell_type": "code",
   "execution_count": null,
   "id": "f551bedc-57f9-431a-90f8-e6cb8081c609",
   "metadata": {},
   "outputs": [],
   "source": [
    "data_p2.dtypes"
   ]
  },
  {
   "cell_type": "code",
   "execution_count": 15,
   "id": "081f9854-41af-4dd7-a6f6-36824d17895f",
   "metadata": {},
   "outputs": [],
   "source": [
    "# Add an ID column to data_p1\n",
    "data_p2['ID'] = range(1, len(data_p2) + 1)\n",
    "\n",
    "# Sampling data\n",
    "training_data = sampling_data(data_p2, 0.80, \"BerRating\", seed=256)\n",
    "\n",
    "# Creating validation dataset\n",
    "validation_data = data_p2[~data_p2['ID'].isin(training_data['ID'])]\n",
    "\n",
    "# Drop the 'ID' column from the datasets if it's not needed further\n",
    "# training_data.drop('ID', axis=1, inplace=True)\n",
    "# validation_data.drop('ID', axis=1, inplace=True)"
   ]
  },
  {
   "cell_type": "code",
   "execution_count": null,
   "id": "2224b717-4510-40cf-b60f-51109c5eb9be",
   "metadata": {},
   "outputs": [],
   "source": [
    "training_data.shape\n",
    "validation_data.shape\n",
    "training_data.head()\n",
    "validation_data.head()"
   ]
  }
 ],
 "metadata": {
  "kernelspec": {
   "display_name": "Python 3 (ipykernel)",
   "language": "python",
   "name": "python3"
  },
  "language_info": {
   "codemirror_mode": {
    "name": "ipython",
    "version": 3
   },
   "file_extension": ".py",
   "mimetype": "text/x-python",
   "name": "python",
   "nbconvert_exporter": "python",
   "pygments_lexer": "ipython3",
   "version": "3.9.12"
  }
 },
 "nbformat": 4,
 "nbformat_minor": 5
}
