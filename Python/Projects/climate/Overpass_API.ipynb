{
 "cells": [
  {
   "cell_type": "markdown",
   "id": "2e08187a-c145-4aa4-acfc-abcf60af0a47",
   "metadata": {},
   "source": [
    "# Initialization"
   ]
  },
  {
   "cell_type": "code",
   "execution_count": null,
   "id": "5f828ddd",
   "metadata": {},
   "outputs": [],
   "source": [
    "import requests\n",
    "import pandas as pd\n",
    "import numpy as np\n",
    "import geopandas as gpd\n",
    "\n",
    "from shapely.geometry import Point"
   ]
  },
  {
   "cell_type": "code",
   "execution_count": null,
   "id": "1ce31b7a-2960-47ec-b601-93a3a9fc27d3",
   "metadata": {},
   "outputs": [],
   "source": [
    "import sys\n",
    "import subprocess\n",
    "\n",
    "def installPackage(package):\n",
    "    p = subprocess.run([sys.executable, \"-m\", \"pip\", \"install\", \"-U\", package], stdout=subprocess.PIPE, stderr=subprocess.STDOUT)\n",
    "    print(p.stdout.decode())\n",
    "\n",
    "requirements = [\"folium\", \"leafmap\", \"ipyleaflet\"]\n",
    "for requirement in requirements:\n",
    "    installPackage(requirement)"
   ]
  },
  {
   "cell_type": "code",
   "execution_count": null,
   "id": "c1b0b33e-d736-4ba4-8693-c4c617c8a3bb",
   "metadata": {},
   "outputs": [],
   "source": [
    "# Bring in the additional libraries\n",
    "import folium\n",
    "import leafmap.foliumap as leafmap"
   ]
  },
  {
   "cell_type": "markdown",
   "id": "0c61d0c1-923f-4140-9c60-a050682acab8",
   "metadata": {
    "tags": []
   },
   "source": [
    "# Function"
   ]
  },
  {
   "cell_type": "code",
   "execution_count": null,
   "id": "e0c4caf4-4328-46d3-b677-da8fa9728307",
   "metadata": {},
   "outputs": [],
   "source": [
    "def overpass_output():\n",
    "    overpass_url = \"http://overpass-api.de/api/interpreter\"\n",
    "    # Bounding box coordinates for the Republic of Ireland\n",
    "    bbox = \"51.2,-10.5,55.3,-5.3\"\n",
    "    overpass_query = f\"\"\"\n",
    "    [out:json][timeout:50];\n",
    "    (\n",
    "     node[\"amenity\"=\"charging_station\"]({bbox});\n",
    "     way[\"amenity\"=\"charging_station\"]({bbox});\n",
    "     relation[\"amenity\"=\"charging_station\"]({bbox});\n",
    "    );\n",
    "    out center;\n",
    "    \"\"\"\n",
    "    response = requests.get(overpass_url, params={'data': overpass_query})\n",
    "    response.raise_for_status()\n",
    "    return response.json()"
   ]
  },
  {
   "cell_type": "code",
   "execution_count": null,
   "id": "053acebb-1a79-44af-99bb-8271e913e61b",
   "metadata": {},
   "outputs": [],
   "source": [
    "def extract_relevant_data(overpass_data):\n",
    "    elements = overpass_data['elements']\n",
    "    \n",
    "    processed_data = []\n",
    "    for element in elements:\n",
    "        tags = element.get('tags', {})\n",
    "        \n",
    "        type_ = element.get('type', None)\n",
    "        id_ = element.get('id', None)\n",
    "        lat = element.get('lat', element.get('center', {}).get('lat', None))\n",
    "        lon = element.get('lon', element.get('center', {}).get('lon', None))\n",
    "        name = tags.get('name', None)\n",
    "        addr_street = tags.get('addr:street', None)\n",
    "        amenity = tags.get('amenity', None)\n",
    "        capacity = tags.get('capacity', None)\n",
    "        fee = tags.get('fee', None)\n",
    "        access = tags.get('access', None)\n",
    "        operator = tags.get('operator', None)\n",
    "        ref = tags.get('ref', None)\n",
    "\n",
    "        processed_data.append({\n",
    "            'type': type_,\n",
    "            'id': id_,\n",
    "            'latitude': lat,\n",
    "            'longitude': lon,\n",
    "            'name': name,\n",
    "            'address': addr_street,\n",
    "            'amenity': amenity,\n",
    "            'capacity': capacity,\n",
    "            'fee': fee,\n",
    "            'operator': operator,\n",
    "            'ref': ref,\n",
    "            'access': access\n",
    "        })\n",
    "    \n",
    "    # Convert the list to a DataFrame\n",
    "    df = pd.DataFrame(processed_data)\n",
    "    return df"
   ]
  },
  {
   "cell_type": "markdown",
   "id": "606a27c1-1727-415a-a380-f8a00cd0a486",
   "metadata": {},
   "source": [
    "# Overpass Output"
   ]
  },
  {
   "cell_type": "code",
   "execution_count": null,
   "id": "797ec1b9-94fc-411c-8574-c06322a96169",
   "metadata": {},
   "outputs": [],
   "source": [
    "# Converting json file to dataframe - implement this piece\n",
    "raw_data = overpass_output()\n",
    "charging_station_data = extract_relevant_data(raw_data)"
   ]
  },
  {
   "cell_type": "code",
   "execution_count": null,
   "id": "cfb855e2-9824-4962-a822-ac17121fca55",
   "metadata": {},
   "outputs": [],
   "source": [
    "charging_station_data.sample(5)"
   ]
  },
  {
   "cell_type": "code",
   "execution_count": null,
   "id": "2047ebcf-87f5-44ae-b809-e44e39161f7e",
   "metadata": {},
   "outputs": [],
   "source": [
    "name_list = dict(charging_station_data.groupby('name', dropna=False)['id'].count().sort_values(ascending=False)[:13])\n",
    "name_list"
   ]
  },
  {
   "cell_type": "code",
   "execution_count": null,
   "id": "5371e4c0-e29e-4d0b-9b18-ea9bac91835d",
   "metadata": {},
   "outputs": [],
   "source": [
    "name_list.keys()"
   ]
  },
  {
   "cell_type": "code",
   "execution_count": null,
   "id": "e1d3240a-f21b-46e7-be19-c1f801355c03",
   "metadata": {},
   "outputs": [],
   "source": [
    "charge_data = (\n",
    "    charging_station_data\n",
    "    .assign(name_red=lambda df_:np.where(df_.name.isin(name_list.keys()),df_.name, 'Other')\n",
    "    )\n",
    ")\n",
    "charge_data.head()"
   ]
  },
  {
   "cell_type": "code",
   "execution_count": null,
   "id": "31d53fed-6b2c-4758-be27-818809c1bee9",
   "metadata": {},
   "outputs": [],
   "source": [
    "charge_data.groupby(['name', 'name_red'], dropna=False)['id'].count().sort_values(ascending=False)[:20]"
   ]
  },
  {
   "cell_type": "code",
   "execution_count": null,
   "id": "6c932dc0-50a3-4c4e-8ad4-215b6ce1a1be",
   "metadata": {},
   "outputs": [],
   "source": [
    "charge_data.groupby('name_red', dropna=False)['id'].count().sort_values(ascending=False)"
   ]
  },
  {
   "cell_type": "code",
   "execution_count": null,
   "id": "194d968c-e5b3-4f83-bbcd-ef48e25b4254",
   "metadata": {},
   "outputs": [],
   "source": [
    "# Combine two lists for icon\n",
    "facility_cat = [i for i in charge_data['name_red'].unique()]\n",
    "facility_cat"
   ]
  },
  {
   "cell_type": "code",
   "execution_count": null,
   "id": "09cc3e3e-c1c9-4a4e-a640-e7a87f3e24e9",
   "metadata": {},
   "outputs": [],
   "source": [
    "# Hex colour list\n",
    "hex_colours = ['#04F9E8', '#C44585', '#5722A1', '#D8F296', '#022EAB', '#E900C5', '#A7B3E3', '#64AD52', '#0B5348', '#5E7FDB', '#5CC8FF', '#D9E136', '#2C7786', '#D6DE0D']\n",
    "purpose_colour1 = dict(zip(facility_cat, hex_colours[:len(facility_cat)]))"
   ]
  },
  {
   "cell_type": "code",
   "execution_count": null,
   "id": "9570e63e-88a8-4c34-af07-76b223f317a8",
   "metadata": {},
   "outputs": [],
   "source": [
    "purpose_colour1"
   ]
  },
  {
   "cell_type": "code",
   "execution_count": null,
   "id": "8d2f77ac-7ad6-496d-8eaa-d59fe827ff78",
   "metadata": {},
   "outputs": [],
   "source": [
    "# Build the map\n",
    "m1 = folium.Map(location=[charge_data.latitude.mean(), charge_data.longitude.mean()]\n",
    "               ,zoom_start=3\n",
    "               ,control_scale=True)\n",
    "\n",
    "# Loop through each row in the dataframe\n",
    "for i,row in charge_data.iterrows():\n",
    "    # Setup the content of group\n",
    "    iframe = folium.IFrame(f'Name: {str(row[\"name_red\"])} \\n Operator: {str(row[\"operator\"])} \\n address: {str(row[\"address\"])}'\n",
    "                          ,width=300\n",
    "                          ,height=200)\n",
    "    # Initialise the popup using the iframe\n",
    "    popup = folium.Popup(iframe, max_width=650)\n",
    "\n",
    "    # Icon colour\n",
    "    try:\n",
    "        icon_colour = purpose_colour1[row['name_red']]\n",
    "    except:\n",
    "        icon_colour = 'gray'\n",
    "    \n",
    "    # Add each row to the map\n",
    "    folium.CircleMarker(location=[row['latitude'], row['longitude']]\n",
    "                        ,radius=2\n",
    "                        ,popup=popup\n",
    "                        ,fill_color=icon_colour\n",
    "                        ,color=icon_colour\n",
    "                 ).add_to(m1)\n",
    "\n",
    "# Display map\n",
    "m1"
   ]
  },
  {
   "cell_type": "markdown",
   "id": "4e0a665c-fa77-43ae-a10f-a8e4139a1f60",
   "metadata": {},
   "source": [
    "## Setting Boundaries"
   ]
  },
  {
   "cell_type": "code",
   "execution_count": null,
   "id": "f25ac2cc-62a3-4061-8282-dc826142c0b6",
   "metadata": {
    "scrolled": true
   },
   "outputs": [],
   "source": [
    "charging_station_data['geometry'] = charging_station_data.apply(lambda x: Point((float(x.longitude), float(x.latitude))), axis=1)\n",
    "charging_station_data = gpd.GeoDataFrame(charging_station_data, geometry='geometry', crs='EPSG:4326')\n",
    "\n",
    "county_boundaries = gpd.read_file('.../Local_Authority.shapezip/Local_Authority.shp')\n",
    "\n",
    "charging_station_data = gpd.sjoin(charging_station_data, county_boundaries, how=\"left\")"
   ]
  },
  {
   "cell_type": "code",
   "execution_count": null,
   "id": "0cf4e033-9996-4fae-ac5f-2f82aedfc768",
   "metadata": {
    "scrolled": true
   },
   "outputs": [],
   "source": [
    "# Grouping up areas into county\n",
    "dublin_county = ['South Dublin', 'Fingal', 'Dublin City', 'Dun Laoghaire-Rathdown']\n",
    "waterford_county = ['Waterford County', 'Waterford City']\n",
    "galway_county = ['Galway County', 'Galway City']\n",
    "cork_county = ['Cork County', 'Cork City']\n",
    "limerick_county = ['Limerick County', 'Limerick City']\n",
    "tipperary_county = ['North Tipperary', 'South Tipperary']\n",
    "\n",
    "def map_to_county(geographic):\n",
    "    if geographic in dublin_county:\n",
    "        return 'Dublin County'\n",
    "    elif geographic in waterford_county:\n",
    "        return 'Waterford County'\n",
    "    elif geographic in galway_county:\n",
    "        return 'Galway County'\n",
    "    elif geographic in cork_county:\n",
    "        return 'Cork County'\n",
    "    elif geographic in limerick_county:\n",
    "        return 'Limerick County'\n",
    "    elif geographic in tipperary_county:\n",
    "        return 'Tipperary County'\n",
    "    else:\n",
    "        return geographic\n",
    "\n",
    "# Apply the function to the 'geographic' column\n",
    "charging_station_data['County'] = charging_station_data['geographic'].apply(map_to_county)\n",
    "\n",
    "# Select the columns for the output\n",
    "output_data = charging_station_data[['type', 'id', 'latitude', 'longitude', 'nuts2Name', 'nuts3Name', 'County', 'geographic', 'address', 'name', 'capacity', 'access', 'operator']]"
   ]
  },
  {
   "cell_type": "code",
   "execution_count": null,
   "id": "b67c5a95-8360-4da4-aa86-1f4be1d58650",
   "metadata": {},
   "outputs": [],
   "source": [
    "output_data"
   ]
  },
  {
   "cell_type": "code",
   "execution_count": null,
   "id": "47b05f81-5a50-45af-89fb-7291ba3d8d94",
   "metadata": {},
   "outputs": [],
   "source": [
    "output_data.to_excel('.../Output/ROI Charging Stations.xlsx', index = False)"
   ]
  },
  {
   "cell_type": "markdown",
   "id": "0d567ba7-a2f8-4d9d-a55a-2bc5654476e6",
   "metadata": {},
   "source": [
    "## Group By"
   ]
  },
  {
   "cell_type": "code",
   "execution_count": null,
   "id": "387eff3c-fb5f-4cdc-a653-ae4b36d85660",
   "metadata": {
    "scrolled": true
   },
   "outputs": [],
   "source": [
    "output_data['capacity'] = pd.to_numeric(output_data['capacity'], errors='coerce')\n",
    "\n",
    "df_summ = (\n",
    "    output_data\n",
    "    .groupby(['County', 'access'], dropna=False)\n",
    "    .agg({\n",
    "        'capacity': ['sum', 'min', 'max', 'mean','count']\n",
    "    })\n",
    ")\n",
    "df_summ"
   ]
  },
  {
   "cell_type": "code",
   "execution_count": null,
   "id": "cc42d21f-9cfc-41f0-afe6-f1ca2fd42dbc",
   "metadata": {
    "scrolled": true
   },
   "outputs": [],
   "source": [
    "df_summ.to_excel('.../Output/ROI Charging Station - Categorize.xlsx')"
   ]
  },
  {
   "cell_type": "markdown",
   "id": "cb038033-06c6-4038-9e61-8cb122762489",
   "metadata": {
    "tags": []
   },
   "source": [
    "# OLD VERSION\n",
    "\n",
    "Code below used to assess the json output file. Retained for peer review."
   ]
  },
  {
   "cell_type": "code",
   "execution_count": null,
   "id": "c65e0903",
   "metadata": {},
   "outputs": [],
   "source": [
    "# Create DataFrame for review\n",
    "def create_df(input_dict=data.get('elements')):\n",
    "    df = pd.DataFrame.from_dict(input_dict)\n",
    "    # review tags list\n",
    "    list_ch = df.tags.values.tolist()\n",
    "    df2 = pd.DataFrame(list_ch)\n",
    "    df3 = pd.concat([df, df2], axis=1)\n",
    "    return (\n",
    "        df3\n",
    "        .assign(capacity=lambda df_:df_.capacity.astype(float))\n",
    "        .drop(columns=['tags'])\n",
    "    )"
   ]
  },
  {
   "cell_type": "code",
   "execution_count": null,
   "id": "92d7cc3d",
   "metadata": {},
   "outputs": [],
   "source": [
    "# Convert the feature data types to allow for correct calculations\n",
    "df = create_df()\n",
    "df.head()"
   ]
  },
  {
   "cell_type": "code",
   "execution_count": null,
   "id": "be1cb5d6",
   "metadata": {},
   "outputs": [],
   "source": [
    "# Review the outputs\n",
    "df_summ = (\n",
    "    df\n",
    "    .groupby(['name', 'access'], dropna=False)\n",
    "    .agg({\n",
    "        'capacity': ['sum', 'min', 'max', 'mean','count']\n",
    "    })\n",
    ")\n",
    "df_summ"
   ]
  },
  {
   "cell_type": "markdown",
   "id": "d3b1c9af-23cc-494f-8509-7e4dd960e876",
   "metadata": {},
   "source": [
    "### Overpy details"
   ]
  },
  {
   "cell_type": "code",
   "execution_count": null,
   "id": "63b9fc45-8e42-4445-ab14-2b1afe5bdd11",
   "metadata": {},
   "outputs": [],
   "source": [
    "pip install overpy"
   ]
  },
  {
   "cell_type": "code",
   "execution_count": null,
   "id": "c639fd7a-bd06-4692-9f42-50f36afdf203",
   "metadata": {},
   "outputs": [],
   "source": [
    "import overpy\n",
    "import requests\n",
    "import json\n",
    "import geojson\n",
    "import pandas as pd\n",
    "import numpy as np"
   ]
  },
  {
   "cell_type": "code",
   "execution_count": null,
   "id": "1ea0033b-e205-40f2-8b99-a408ae672496",
   "metadata": {},
   "outputs": [],
   "source": [
    "def overpass_output(dist=5000, lat=53.340483, lng=-6.257701):\n",
    "    overpass_url = \"http://overpass-api.de/api/interpreter\"\n",
    "    overpass_query = f\"\"\"\n",
    "    [out:json][timeout:25];\n",
    "    (\n",
    "     node[\"amenity\"=\"charging_station\"](around:{dist},{lat},{lng});\n",
    "    );\n",
    "    out geom;\n",
    "    \"\"\"\n",
    "    response = requests.get(overpass_url, \n",
    "                            params={'data': overpass_query})\n",
    "    response.raise_for_status()\n",
    "    return response.json()"
   ]
  },
  {
   "cell_type": "code",
   "execution_count": null,
   "id": "93c38347-6976-45eb-83e4-115ba567c10d",
   "metadata": {},
   "outputs": [],
   "source": [
    "# Converting json file to dataframe - implement this piece\n",
    "data_check = overpass_output()['elements']\n",
    "data_check\n",
    "df_ch = pd.json_normalize(data_check)\n",
    "df_ch.head()"
   ]
  },
  {
   "cell_type": "code",
   "execution_count": null,
   "id": "79778b68-c1c9-41bf-a851-3525cca359f4",
   "metadata": {},
   "outputs": [],
   "source": [
    "# df_ch.columns\n",
    "# df_ch.dtypes"
   ]
  },
  {
   "cell_type": "code",
   "execution_count": null,
   "id": "687eafd5-dfe6-4f7a-a0de-44a2c75f84c2",
   "metadata": {},
   "outputs": [],
   "source": [
    "# Review the outputs\n",
    "df_summ = (\n",
    "    df_ch\n",
    "    .assign(capacity=lambda df_:df_['tags.capacity'].astype(float))\n",
    "    .groupby(['tags.name', 'tags.access'], dropna=False)\n",
    "    .agg({\n",
    "        'capacity': ['sum', 'min', 'max', 'mean','count']\n",
    "    })\n",
    ")\n",
    "df_summ"
   ]
  },
  {
   "cell_type": "code",
   "execution_count": null,
   "id": "f3483f9b-5d66-424c-b809-9597bc6996af",
   "metadata": {},
   "outputs": [],
   "source": [
    "data = overpass_output()\n",
    "data"
   ]
  }
 ],
 "metadata": {
  "kernelspec": {
   "display_name": "Python 3 (ipykernel)",
   "language": "python",
   "name": "python3"
  },
  "language_info": {
   "codemirror_mode": {
    "name": "ipython",
    "version": 3
   },
   "file_extension": ".py",
   "mimetype": "text/x-python",
   "name": "python",
   "nbconvert_exporter": "python",
   "pygments_lexer": "ipython3",
   "version": "3.9.12"
  }
 },
 "nbformat": 4,
 "nbformat_minor": 5
}
