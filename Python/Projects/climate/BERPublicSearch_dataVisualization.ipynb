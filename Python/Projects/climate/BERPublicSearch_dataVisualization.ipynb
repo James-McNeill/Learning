{
 "cells": [
  {
   "cell_type": "markdown",
   "id": "e83c8b6d-eca6-4690-b8ae-e6f7582bbc95",
   "metadata": {},
   "source": [
    "## BER energy data\n",
    "\n",
    "Data taken from the public BER dataset within this notebook. \n",
    "\n",
    "- Data visualization of key features\n",
    "\n",
    "Using python libraries to effeciently uncover insights."
   ]
  },
  {
   "cell_type": "code",
   "execution_count": null,
   "id": "18c7940e-f10f-45b8-a6f4-bfaaf7aff6bc",
   "metadata": {},
   "outputs": [],
   "source": [
    "# Import modules\n",
    "import pandas as pd\n",
    "import numpy as np\n",
    "import matplotlib.pyplot as plt\n",
    "import seaborn as sns\n",
    "import time\n",
    "import sys\n",
    "import installPack # took the original code that was being used to install a new package and wrapped it in a py script\n",
    "import polars as pl\n",
    "import plotly.express as px"
   ]
  },
  {
   "cell_type": "code",
   "execution_count": null,
   "id": "3ad3f92b-8454-4524-adfd-da95c0265528",
   "metadata": {},
   "outputs": [],
   "source": [
    "# List of libraries to import\n",
    "requirements = [\"pyarrow\"]\n",
    "for requirement in requirements:\n",
    "    installPack.installPackage(requirement)"
   ]
  },
  {
   "cell_type": "code",
   "execution_count": null,
   "id": "5dae6365-b622-4f8e-96d7-8b9d64c8728a",
   "metadata": {},
   "outputs": [],
   "source": [
    "import pyarrow as pa\n",
    "import tidypolars as tp\n",
    "from tidypolars import col, desc"
   ]
  },
  {
   "cell_type": "code",
   "execution_count": null,
   "id": "9f816d11-ff66-4afb-8eef-6795643792d2",
   "metadata": {},
   "outputs": [],
   "source": [
    "# text file to scan\n",
    "txt_file = \"BERPublicsearch.txt\"\n",
    "\n",
    "pl_lazy = pl.scan_csv(txt_file, separator=\"\\t\").fetch(100)"
   ]
  },
  {
   "cell_type": "code",
   "execution_count": null,
   "id": "93c62884-8ee4-4ebe-8ca0-d5618c381482",
   "metadata": {},
   "outputs": [],
   "source": [
    "pl_lazy"
   ]
  },
  {
   "cell_type": "code",
   "execution_count": null,
   "id": "57218ca8-a92c-49fa-b00a-f7c5b0f4a083",
   "metadata": {},
   "outputs": [],
   "source": [
    "# Import the entire text file\n",
    "pl_df = pl.read_csv(txt_file, separator=\"\\t\", ignore_errors=True)"
   ]
  },
  {
   "cell_type": "code",
   "execution_count": null,
   "id": "b4a9ebb2-fd4f-4155-8a5f-a47bcb3458a5",
   "metadata": {},
   "outputs": [],
   "source": [
    "# Shape of the file\n",
    "pl_df.shape"
   ]
  },
  {
   "cell_type": "markdown",
   "id": "e0f8dadc-ffcd-4cf9-8da2-b3e36c2745ca",
   "metadata": {},
   "source": [
    "### 1. Data Visualization"
   ]
  },
  {
   "cell_type": "code",
   "execution_count": null,
   "id": "75be5bdc-a3f7-44e7-8439-4565042b2a42",
   "metadata": {},
   "outputs": [],
   "source": [
    "# List of libraries to import\n",
    "requirements = [\"pygwalker\"]\n",
    "for requirement in requirements:\n",
    "    installPack.installPackage(requirement)"
   ]
  },
  {
   "cell_type": "code",
   "execution_count": null,
   "id": "6d0e48fe-dc05-4788-8307-4a5a8493b8dd",
   "metadata": {},
   "outputs": [],
   "source": [
    "# pygwalker: https://github.com/Kanaries/pygwalker\n",
    "import pygwalker as pyg"
   ]
  },
  {
   "cell_type": "code",
   "execution_count": null,
   "id": "97e0cdfa",
   "metadata": {},
   "outputs": [],
   "source": [
    "# check the package version\n",
    "print(pyg.__version__)"
   ]
  },
  {
   "cell_type": "code",
   "execution_count": null,
   "id": "3dc74e05-eb2c-41b6-a120-e3822c37fa56",
   "metadata": {},
   "outputs": [],
   "source": [
    "# select sample to test process\n",
    "n = 10_000\n",
    "gsam = pl_df.sample(n=n, seed=0)"
   ]
  },
  {
   "cell_type": "code",
   "execution_count": null,
   "id": "575904be-d7c0-413b-be58-fd21d654c67f",
   "metadata": {},
   "outputs": [],
   "source": [
    "pyg.walk(gsam, hideDataSourceConfig=True, vegaTheme='vega')"
   ]
  },
  {
   "cell_type": "code",
   "execution_count": null,
   "id": "2490d4ba-4b9d-401b-99f3-4acdebf88748",
   "metadata": {},
   "outputs": [],
   "source": []
  }
 ],
 "metadata": {
  "kernelspec": {
   "display_name": "Python 3 (ipykernel)",
   "language": "python",
   "name": "python3"
  },
  "language_info": {
   "codemirror_mode": {
    "name": "ipython",
    "version": 3
   },
   "file_extension": ".py",
   "mimetype": "text/x-python",
   "name": "python",
   "nbconvert_exporter": "python",
   "pygments_lexer": "ipython3",
   "version": "3.9.12"
  }
 },
 "nbformat": 4,
 "nbformat_minor": 5
}
