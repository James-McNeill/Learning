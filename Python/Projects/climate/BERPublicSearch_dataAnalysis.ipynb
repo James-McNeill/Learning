{
 "cells": [
  {
   "cell_type": "markdown",
   "id": "e83c8b6d-eca6-4690-b8ae-e6f7582bbc95",
   "metadata": {},
   "source": [
    "## BER energy data\n",
    "\n",
    "Data taken from the public BER dataset within this notebook. \n",
    "Aim is to understand build a structure that can be used to perform analysis on future datasets that contain a smaller number of the features. Creating a robust target variable (\"BER\") using the fewest number of available features is the long term goal. To align this strategy with the data that a company will have available will be the challenge of understanding how the features are collected. Will features within this dataset perform better if they are before or after the BER assessment to provide detailed information on what drives the BER.\n",
    "\n",
    "Data Source: public search data [website](https://ndber.seai.ie/BERResearchTool/ber/search.aspx). \n",
    "\n",
    "- Build a baseline ML classification model e.g., boosting tree, help understand important features\n",
    "- Perform unsupervised learning to review clusters of variables that have similar characteristics\n",
    "- Review which variables could be transformed and/or combined to benefit model accuracy\n",
    "- Are there any features that could be collected in external datasets that are similar to data shown"
   ]
  },
  {
   "cell_type": "code",
   "execution_count": 1,
   "id": "18c7940e-f10f-45b8-a6f4-bfaaf7aff6bc",
   "metadata": {},
   "outputs": [],
   "source": [
    "# Training examples using Jupyter Notebook\n",
    "# Aim is to understand example code that can be moved to GitHub for future use\n",
    "\n",
    "# Import modules\n",
    "import pandas as pd\n",
    "import numpy as np\n",
    "import matplotlib.pyplot as plt\n",
    "import seaborn as sns\n",
    "import time\n",
    "import sys\n",
    "import installPack # took the original code that was being used to install a new package and wrapped it in a py script\n",
    "import polars as pl\n",
    "import plotly.express as px"
   ]
  },
  {
   "cell_type": "code",
   "execution_count": 2,
   "id": "3ad3f92b-8454-4524-adfd-da95c0265528",
   "metadata": {},
   "outputs": [
    {
     "name": "stdout",
     "output_type": "stream",
     "text": [
      "WARNING: Ignoring invalid distribution -illow (c:\\users\\jamesmcneill\\anaconda3\\lib\\site-packages)\n",
      "WARNING: Ignoring invalid distribution -illow (c:\\users\\jamesmcneill\\anaconda3\\lib\\site-packages)\n",
      "Requirement already satisfied: pyarrow in c:\\users\\jamesmcneill\\anaconda3\\lib\\site-packages (17.0.0)\n",
      "Requirement already satisfied: numpy>=1.16.6 in c:\\users\\jamesmcneill\\anaconda3\\lib\\site-packages (from pyarrow) (1.26.4)\n",
      "WARNING: Ignoring invalid distribution -illow (c:\\users\\jamesmcneill\\anaconda3\\lib\\site-packages)\n",
      "WARNING: Ignoring invalid distribution -illow (c:\\users\\jamesmcneill\\anaconda3\\lib\\site-packages)\n",
      "WARNING: Ignoring invalid distribution -illow (c:\\users\\jamesmcneill\\anaconda3\\lib\\site-packages)\n",
      "WARNING: Ignoring invalid distribution -illow (c:\\users\\jamesmcneill\\anaconda3\\lib\\site-packages)\n",
      "\n"
     ]
    }
   ],
   "source": [
    "# List of libraries to import\n",
    "requirements = [\"pyarrow\"]\n",
    "for requirement in requirements:\n",
    "    installPack.installPackage(requirement)"
   ]
  },
  {
   "cell_type": "code",
   "execution_count": 3,
   "id": "5dae6365-b622-4f8e-96d7-8b9d64c8728a",
   "metadata": {},
   "outputs": [],
   "source": [
    "import pyarrow as pa\n",
    "import tidypolars as tp\n",
    "from tidypolars import col, desc"
   ]
  },
  {
   "cell_type": "code",
   "execution_count": 4,
   "id": "9f816d11-ff66-4afb-8eef-6795643792d2",
   "metadata": {},
   "outputs": [],
   "source": [
    "# text file to scan\n",
    "txt_file = \"BERPublicsearch.txt\"\n",
    "\n",
    "pl_lazy = pl.scan_csv(txt_file, separator=\"\\t\").fetch(100)"
   ]
  },
  {
   "cell_type": "code",
   "execution_count": 5,
   "id": "93c62884-8ee4-4ebe-8ca0-d5618c381482",
   "metadata": {},
   "outputs": [
    {
     "data": {
      "text/html": [
       "<div><style>\n",
       ".dataframe > thead > tr > th,\n",
       ".dataframe > tbody > tr > td {\n",
       "  text-align: right;\n",
       "}\n",
       "</style>\n",
       "<small>shape: (100, 211)</small><table border=\"1\" class=\"dataframe\"><thead><tr><th>CountyName</th><th>DwellingTypeDescr</th><th>Year_of_Construction</th><th>TypeofRating</th><th>EnergyRating</th><th>BerRating</th><th>GroundFloorArea(sq m)</th><th>UValueWall</th><th>UValueRoof</th><th>UValueFloor</th><th>UValueWindow</th><th>UvalueDoor</th><th>WallArea</th><th>RoofArea</th><th>FloorArea</th><th>WindowArea</th><th>DoorArea</th><th>NoStoreys</th><th>CO2Rating</th><th>MainSpaceHeatingFuel</th><th>MainWaterHeatingFuel</th><th>HSMainSystemEfficiency</th><th>MultiDwellingMPRN</th><th>TGDLEdition</th><th>MPCDERValue</th><th>HSEffAdjFactor</th><th>HSSupplHeatFraction</th><th>HSSupplSystemEff</th><th>WHMainSystemEff</th><th>WHEffAdjFactor</th><th>SupplSHFuel</th><th>SupplWHFuel</th><th>SHRenewableResources</th><th>WHRenewableResources</th><th>NoOfChimneys</th><th>NoOfOpenFlues</th><th>NoOfFansAndVents</th><th>&hellip;</th><th>SecondHeatGenPlantEff</th><th>SecondPercentageHeat</th><th>ThirdBoilerFuelType</th><th>ThirdHeatGenPlantEff</th><th>ThirdPercentageHeat</th><th>SolarSpaceHeatingSystem</th><th>TotalPrimaryEnergyFact</th><th>TotalCO2Emissions</th><th>FirstWallType_Description</th><th>FirstWallDescription</th><th>FirstWallArea</th><th>FirstWallUValue</th><th>FirstWallIsSemiExposed</th><th>FirstWallAgeBandId</th><th>FirstWallTypeId</th><th>SecondWallType_Description</th><th>SecondWallDescription</th><th>SecondWallArea</th><th>SecondWallUValue</th><th>SecondWallIsSemiExposed</th><th>SecondWallAgeBandId</th><th>SecondWallTypeId</th><th>ThirdWallType_Description</th><th>ThirdWallDescription</th><th>ThirdWallArea</th><th>ThirdWallUValue</th><th>ThirdWallIsSemiExposed</th><th>ThirdWallAgeBandId</th><th>ThirdWallTypeId</th><th>SA_Code</th><th>prob_smarea_error_0corr</th><th>prob_smarea_error_100corr</th><th>RER</th><th>RenewEPnren</th><th>RenewEPren</th><th>CPC</th><th>EPC</th></tr><tr><td>str</td><td>str</td><td>i64</td><td>str</td><td>str</td><td>f64</td><td>f64</td><td>f64</td><td>f64</td><td>f64</td><td>f64</td><td>f64</td><td>f64</td><td>f64</td><td>f64</td><td>f64</td><td>f64</td><td>i64</td><td>f64</td><td>str</td><td>str</td><td>f64</td><td>str</td><td>i64</td><td>f64</td><td>f64</td><td>f64</td><td>f64</td><td>f64</td><td>f64</td><td>i64</td><td>i64</td><td>i64</td><td>i64</td><td>i64</td><td>i64</td><td>i64</td><td>&hellip;</td><td>i64</td><td>i64</td><td>i64</td><td>i64</td><td>i64</td><td>i64</td><td>f64</td><td>f64</td><td>str</td><td>str</td><td>f64</td><td>f64</td><td>str</td><td>i64</td><td>i64</td><td>str</td><td>str</td><td>f64</td><td>f64</td><td>str</td><td>i64</td><td>i64</td><td>str</td><td>str</td><td>f64</td><td>f64</td><td>str</td><td>i64</td><td>i64</td><td>str</td><td>f64</td><td>f64</td><td>str</td><td>str</td><td>str</td><td>f64</td><td>f64</td></tr></thead><tbody><tr><td>&quot;Co. Waterford&quot;</td><td>&quot;Mid-terrace ho…</td><td>2008</td><td>&quot;Final         …</td><td>&quot;B3&quot;</td><td>129.9</td><td>108.0</td><td>0.27</td><td>0.16</td><td>0.23</td><td>1.7</td><td>3.0</td><td>49.1</td><td>45.98</td><td>40.5</td><td>9.82</td><td>3.78</td><td>3</td><td>33.01</td><td>&quot;Heating Oil   …</td><td>&quot;Heating Oil   …</td><td>85.5</td><td>&quot;NO&quot;</td><td>1</td><td>34.1</td><td>1.0</td><td>0.1</td><td>30.0</td><td>85.5</td><td>1.0</td><td>15</td><td>1</td><td>2</td><td>2</td><td>1</td><td>0</td><td>8</td><td>&hellip;</td><td>null</td><td>null</td><td>null</td><td>null</td><td>null</td><td>null</td><td>null</td><td>null</td><td>&quot;300mm Cavity&quot;</td><td>&quot;300mm ins cav&quot;</td><td>35.6</td><td>0.29</td><td>&quot;No&quot;</td><td>null</td><td>4</td><td>&quot;Other&quot;</td><td>&quot;room in roof&quot;</td><td>13.5</td><td>0.22</td><td>&quot;No&quot;</td><td>null</td><td>9</td><td>null</td><td>null</td><td>null</td><td>null</td><td>null</td><td>null</td><td>null</td><td>&quot;227033002&quot;</td><td>5.5623e-7</td><td>0.0025</td><td>null</td><td>null</td><td>null</td><td>null</td><td>null</td></tr><tr><td>&quot;Co. Galway&quot;</td><td>&quot;Semi-detached …</td><td>2009</td><td>&quot;Final         …</td><td>&quot;C1&quot;</td><td>165.61</td><td>122.78</td><td>0.22</td><td>0.16</td><td>0.19</td><td>2.7</td><td>2.97</td><td>124.45</td><td>65.79</td><td>65.79</td><td>15.7</td><td>3.7</td><td>2</td><td>42.17</td><td>&quot;Heating Oil   …</td><td>&quot;Heating Oil   …</td><td>85.7</td><td>&quot;NO&quot;</td><td>2</td><td>45.47</td><td>1.0</td><td>0.1</td><td>30.0</td><td>85.7</td><td>1.0</td><td>15</td><td>28</td><td>2</td><td>2</td><td>1</td><td>0</td><td>3</td><td>&hellip;</td><td>null</td><td>null</td><td>null</td><td>null</td><td>null</td><td>null</td><td>null</td><td>null</td><td>&quot;300mm Filled C…</td><td>&quot;Walls - South&quot;</td><td>81.75</td><td>0.22</td><td>&quot;No&quot;</td><td>null</td><td>5</td><td>&quot;300mm Filled C…</td><td>&quot;Walls - West&quot;</td><td>22.35</td><td>0.22</td><td>&quot;No&quot;</td><td>null</td><td>5</td><td>&quot;300mm Filled C…</td><td>&quot;Walls - East&quot;</td><td>20.35</td><td>0.22</td><td>&quot;No&quot;</td><td>null</td><td>5</td><td>&quot;67170019&quot;</td><td>5.5623e-7</td><td>0.0025</td><td>null</td><td>null</td><td>null</td><td>1.249</td><td>1.046</td></tr><tr><td>&quot;Co. Cork&quot;</td><td>&quot;Apartment&quot;</td><td>2006</td><td>&quot;Existing      …</td><td>&quot;D2&quot;</td><td>260.75</td><td>35.73</td><td>0.37</td><td>0.0</td><td>0.34</td><td>3.1</td><td>3.0</td><td>35.29</td><td>0.0</td><td>35.73</td><td>22.64</td><td>1.85</td><td>1</td><td>49.41</td><td>null</td><td>null</td><td>null</td><td>&quot;NO&quot;</td><td>0</td><td>41.61</td><td>null</td><td>null</td><td>null</td><td>null</td><td>null</td><td>null</td><td>null</td><td>null</td><td>null</td><td>0</td><td>0</td><td>2</td><td>&hellip;</td><td>0</td><td>0</td><td>1</td><td>0</td><td>0</td><td>0</td><td>1.54</td><td>0.284</td><td>&quot;300mm Filled C…</td><td>&quot;Living&quot;</td><td>28.1</td><td>0.37</td><td>&quot;No&quot;</td><td>10</td><td>5</td><td>&quot;300mm Filled C…</td><td>&quot;Bedroom&quot;</td><td>7.19</td><td>0.37</td><td>&quot;No&quot;</td><td>10</td><td>5</td><td>null</td><td>null</td><td>null</td><td>null</td><td>null</td><td>null</td><td>null</td><td>&quot;48052009&quot;</td><td>0.000031</td><td>0.0025</td><td>null</td><td>null</td><td>null</td><td>null</td><td>null</td></tr><tr><td>&quot;Co. Dublin&quot;</td><td>&quot;Mid-floor apar…</td><td>2002</td><td>&quot;Existing      …</td><td>&quot;B3&quot;</td><td>138.07</td><td>72.0</td><td>0.52</td><td>0.0</td><td>0.0</td><td>3.3</td><td>3.0</td><td>44.41</td><td>0.0</td><td>0.0</td><td>11.23</td><td>1.85</td><td>1</td><td>28.78</td><td>&quot;Mains Gas     …</td><td>&quot;Mains Gas     …</td><td>79.2</td><td>&quot;NO&quot;</td><td>0</td><td>28.59</td><td>1.0</td><td>0.1</td><td>100.0</td><td>79.2</td><td>1.0</td><td>1</td><td>28</td><td>2</td><td>2</td><td>0</td><td>0</td><td>5</td><td>&hellip;</td><td>null</td><td>null</td><td>null</td><td>null</td><td>null</td><td>null</td><td>null</td><td>null</td><td>&quot;300mm Cavity&quot;</td><td>&quot;South Elevatio…</td><td>20.54</td><td>0.55</td><td>&quot;No&quot;</td><td>9</td><td>4</td><td>&quot;225mm Solid br…</td><td>&quot;West Elevation…</td><td>12.23</td><td>0.45</td><td>&quot;Yes&quot;</td><td>9</td><td>2</td><td>&quot;300mm Cavity&quot;</td><td>&quot;East Elevation…</td><td>11.64</td><td>0.55</td><td>&quot;No&quot;</td><td>9</td><td>4</td><td>&quot;267112011&quot;</td><td>0.000002</td><td>0.0025</td><td>null</td><td>null</td><td>null</td><td>null</td><td>null</td></tr><tr><td>&quot;Co. Dublin&quot;</td><td>&quot;Mid-floor apar…</td><td>2002</td><td>&quot;Existing      …</td><td>&quot;B3&quot;</td><td>145.9</td><td>85.84</td><td>0.52</td><td>0.0</td><td>0.0</td><td>3.3</td><td>3.0</td><td>57.43</td><td>0.0</td><td>0.0</td><td>11.23</td><td>1.85</td><td>1</td><td>30.07</td><td>&quot;Mains Gas     …</td><td>&quot;Mains Gas     …</td><td>79.2</td><td>&quot;NO&quot;</td><td>0</td><td>27.12</td><td>1.0</td><td>0.1</td><td>0.0</td><td>79.2</td><td>1.0</td><td>1</td><td>28</td><td>2</td><td>2</td><td>0</td><td>0</td><td>5</td><td>&hellip;</td><td>null</td><td>null</td><td>null</td><td>null</td><td>null</td><td>null</td><td>null</td><td>null</td><td>&quot;300mm Cavity&quot;</td><td>&quot;North Elevatio…</td><td>21.9</td><td>0.55</td><td>&quot;No&quot;</td><td>9</td><td>4</td><td>&quot;225mm Solid br…</td><td>&quot;West Elevation…</td><td>17.35</td><td>0.45</td><td>&quot;Yes&quot;</td><td>9</td><td>2</td><td>&quot;300mm Cavity&quot;</td><td>&quot;East Elevation…</td><td>13.1</td><td>0.55</td><td>&quot;No&quot;</td><td>9</td><td>4</td><td>&quot;267112011&quot;</td><td>0.000002</td><td>0.0025</td><td>null</td><td>null</td><td>null</td><td>null</td><td>null</td></tr><tr><td>&quot;Dublin 17&quot;</td><td>&quot;Mid-floor apar…</td><td>2002</td><td>&quot;Existing      …</td><td>&quot;C2&quot;</td><td>179.5</td><td>60.2</td><td>0.53</td><td>0.0</td><td>0.0</td><td>2.8</td><td>3.0</td><td>54.06</td><td>0.0</td><td>0.0</td><td>13.34</td><td>1.85</td><td>1</td><td>34.84</td><td>&quot;Mains Gas     …</td><td>&quot;Mains Gas     …</td><td>78.8</td><td>&quot;NO&quot;</td><td>0</td><td>31.8</td><td>0.95</td><td>0.0</td><td>0.0</td><td>78.8</td><td>0.95</td><td>1</td><td>1</td><td>2</td><td>2</td><td>0</td><td>0</td><td>2</td><td>&hellip;</td><td>null</td><td>null</td><td>null</td><td>null</td><td>null</td><td>null</td><td>null</td><td>null</td><td>&quot;Other&quot;</td><td>&quot;Brick, cavity …</td><td>43.16</td><td>0.47</td><td>&quot;No&quot;</td><td>9</td><td>9</td><td>&quot;225mm Solid br…</td><td>null</td><td>10.9</td><td>0.77</td><td>&quot;No&quot;</td><td>9</td><td>2</td><td>null</td><td>null</td><td>null</td><td>null</td><td>null</td><td>null</td><td>null</td><td>&quot;268119011&quot;</td><td>0.0025</td><td>0.0025</td><td>null</td><td>null</td><td>null</td><td>null</td><td>null</td></tr><tr><td>&quot;Co. Dublin&quot;</td><td>&quot;House&quot;</td><td>1985</td><td>&quot;Existing      …</td><td>&quot;D1&quot;</td><td>249.02</td><td>103.7</td><td>0.6</td><td>0.4</td><td>0.57</td><td>3.27</td><td>3.0</td><td>73.83</td><td>96.33</td><td>43.68</td><td>25.57</td><td>1.69</td><td>3</td><td>62.75</td><td>&quot;Heating Oil   …</td><td>&quot;Heating Oil   …</td><td>83.2</td><td>&quot;NO&quot;</td><td>0</td><td>44.68</td><td>0.95</td><td>0.1</td><td>63.0</td><td>83.2</td><td>0.95</td><td>15</td><td>28</td><td>2</td><td>2</td><td>1</td><td>0</td><td>7</td><td>&hellip;</td><td>null</td><td>null</td><td>null</td><td>null</td><td>null</td><td>null</td><td>null</td><td>null</td><td>&quot;300mm Cavity&quot;</td><td>null</td><td>73.83</td><td>0.6</td><td>&quot;No&quot;</td><td>7</td><td>4</td><td>null</td><td>null</td><td>null</td><td>null</td><td>null</td><td>null</td><td>null</td><td>null</td><td>null</td><td>null</td><td>null</td><td>null</td><td>null</td><td>null</td><td>&quot;267132045&quot;</td><td>0.000044</td><td>0.0025</td><td>null</td><td>null</td><td>null</td><td>null</td><td>null</td></tr><tr><td>&quot;Co. Clare&quot;</td><td>&quot;Mid-terrace ho…</td><td>2006</td><td>&quot;Existing      …</td><td>&quot;B2&quot;</td><td>122.45</td><td>88.68</td><td>0.37</td><td>0.13</td><td>0.26</td><td>1.8</td><td>3.0</td><td>36.73</td><td>44.34</td><td>44.34</td><td>11.99</td><td>1.98</td><td>2</td><td>23.78</td><td>&quot;Mains Gas     …</td><td>&quot;Mains Gas     …</td><td>91.3</td><td>&quot;NO&quot;</td><td>0</td><td>23.76</td><td>1.0</td><td>0.1</td><td>100.0</td><td>91.3</td><td>1.0</td><td>12</td><td>1</td><td>2</td><td>2</td><td>0</td><td>0</td><td>0</td><td>&hellip;</td><td>null</td><td>null</td><td>null</td><td>null</td><td>null</td><td>null</td><td>null</td><td>null</td><td>&quot;300mm Filled C…</td><td>&quot;FRONT pumped c…</td><td>18.86</td><td>0.37</td><td>&quot;No&quot;</td><td>10</td><td>5</td><td>&quot;300mm Filled C…</td><td>&quot;BACK pumped ca…</td><td>17.87</td><td>0.37</td><td>&quot;No&quot;</td><td>10</td><td>5</td><td>null</td><td>null</td><td>null</td><td>null</td><td>null</td><td>null</td><td>null</td><td>&quot;37080003&quot;</td><td>0.000044</td><td>0.0025</td><td>null</td><td>null</td><td>null</td><td>null</td><td>null</td></tr><tr><td>&quot;Co. Cork&quot;</td><td>&quot;Semi-detached …</td><td>1930</td><td>&quot;Existing      …</td><td>&quot;F &quot;</td><td>385.46</td><td>86.5</td><td>1.78</td><td>2.3</td><td>0.73</td><td>4.8</td><td>3.0</td><td>66.93</td><td>43.75</td><td>43.75</td><td>23.86</td><td>1.96</td><td>2</td><td>75.37</td><td>&quot;Mains Gas     …</td><td>&quot;Mains Gas     …</td><td>79.9</td><td>&quot;NO&quot;</td><td>0</td><td>38.14</td><td>0.95</td><td>0.1</td><td>100.0</td><td>79.9</td><td>0.95</td><td>28</td><td>1</td><td>2</td><td>2</td><td>2</td><td>1</td><td>4</td><td>&hellip;</td><td>null</td><td>null</td><td>null</td><td>null</td><td>null</td><td>null</td><td>null</td><td>null</td><td>&quot;300mm Cavity&quot;</td><td>null</td><td>66.93</td><td>1.78</td><td>&quot;No&quot;</td><td>3</td><td>4</td><td>null</td><td>null</td><td>null</td><td>null</td><td>null</td><td>null</td><td>null</td><td>null</td><td>null</td><td>null</td><td>null</td><td>null</td><td>null</td><td>null</td><td>&quot;48047002&quot;</td><td>0.0025</td><td>0.0025</td><td>null</td><td>null</td><td>null</td><td>null</td><td>null</td></tr><tr><td>&quot;Co. Galway&quot;</td><td>&quot;House&quot;</td><td>2008</td><td>&quot;Final         …</td><td>&quot;B3&quot;</td><td>147.7</td><td>134.0</td><td>0.37</td><td>0.19</td><td>0.33</td><td>1.8</td><td>2.02</td><td>115.86</td><td>68.24</td><td>69.0</td><td>17.67</td><td>3.78</td><td>2</td><td>38.26</td><td>&quot;Heating Oil   …</td><td>&quot;Heating Oil   …</td><td>90.0</td><td>&quot;NO&quot;</td><td>1</td><td>37.48</td><td>0.95</td><td>0.1</td><td>30.0</td><td>90.0</td><td>0.95</td><td>15</td><td>28</td><td>2</td><td>2</td><td>1</td><td>0</td><td>0</td><td>&hellip;</td><td>null</td><td>null</td><td>null</td><td>null</td><td>null</td><td>null</td><td>null</td><td>null</td><td>&quot;300mm Cavity&quot;</td><td>&quot;65mm Platium&quot;</td><td>115.86</td><td>0.37</td><td>&quot;No&quot;</td><td>null</td><td>4</td><td>null</td><td>null</td><td>null</td><td>null</td><td>null</td><td>null</td><td>null</td><td>null</td><td>null</td><td>null</td><td>null</td><td>null</td><td>null</td><td>null</td><td>&quot;67131004&quot;</td><td>0.000003</td><td>0.0025</td><td>null</td><td>null</td><td>null</td><td>null</td><td>null</td></tr><tr><td>&quot;Co. Carlow&quot;</td><td>&quot;Top-floor apar…</td><td>1998</td><td>&quot;Existing      …</td><td>&quot;C3&quot;</td><td>213.56</td><td>84.0</td><td>0.53</td><td>0.39</td><td>0.0</td><td>2.87</td><td>3.0</td><td>69.5</td><td>84.1</td><td>0.0</td><td>12.45</td><td>1.85</td><td>1</td><td>42.55</td><td>&quot;Mains Gas     …</td><td>&quot;Mains Gas     …</td><td>73.0</td><td>&quot;NO&quot;</td><td>0</td><td>36.21</td><td>0.95</td><td>0.0</td><td>0.0</td><td>73.0</td><td>0.95</td><td>1</td><td>28</td><td>2</td><td>2</td><td>0</td><td>0</td><td>2</td><td>&hellip;</td><td>null</td><td>null</td><td>null</td><td>null</td><td>null</td><td>null</td><td>null</td><td>null</td><td>&quot;Stone&quot;</td><td>null</td><td>54.5</td><td>0.55</td><td>&quot;No&quot;</td><td>8</td><td>1</td><td>&quot;Stone&quot;</td><td>null</td><td>15.0</td><td>0.45</td><td>&quot;Yes&quot;</td><td>8</td><td>1</td><td>null</td><td>null</td><td>null</td><td>null</td><td>null</td><td>null</td><td>null</td><td>&quot;17011001&quot;</td><td>0.000051</td><td>0.0025</td><td>null</td><td>null</td><td>null</td><td>null</td><td>null</td></tr><tr><td>&quot;Co. Dublin&quot;</td><td>&quot;Mid-floor apar…</td><td>2006</td><td>&quot;Existing      …</td><td>&quot;B3&quot;</td><td>143.38</td><td>64.91</td><td>0.37</td><td>0.0</td><td>0.0</td><td>2.0</td><td>1.31</td><td>73.93</td><td>0.0</td><td>0.0</td><td>18.52</td><td>2.22</td><td>1</td><td>27.98</td><td>&quot;Mains Gas     …</td><td>&quot;Mains Gas     …</td><td>83.0</td><td>&quot;NO&quot;</td><td>0</td><td>30.72</td><td>1.0</td><td>0.0</td><td>0.0</td><td>83.0</td><td>1.0</td><td>1</td><td>1</td><td>2</td><td>2</td><td>0</td><td>0</td><td>4</td><td>&hellip;</td><td>null</td><td>null</td><td>null</td><td>null</td><td>null</td><td>null</td><td>null</td><td>null</td><td>&quot;300mm Filled C…</td><td>&quot;South east fac…</td><td>40.83</td><td>0.37</td><td>&quot;No&quot;</td><td>10</td><td>5</td><td>&quot;300mm Filled C…</td><td>&quot;Wall adjacent …</td><td>19.91</td><td>0.37</td><td>&quot;No&quot;</td><td>10</td><td>5</td><td>&quot;300mm Filled C…</td><td>&quot;Front north ea…</td><td>11.9</td><td>0.37</td><td>&quot;No&quot;</td><td>10</td><td>5</td><td>null</td><td>null</td><td>null</td><td>null</td><td>null</td><td>null</td><td>null</td><td>null</td></tr><tr><td>&hellip;</td><td>&hellip;</td><td>&hellip;</td><td>&hellip;</td><td>&hellip;</td><td>&hellip;</td><td>&hellip;</td><td>&hellip;</td><td>&hellip;</td><td>&hellip;</td><td>&hellip;</td><td>&hellip;</td><td>&hellip;</td><td>&hellip;</td><td>&hellip;</td><td>&hellip;</td><td>&hellip;</td><td>&hellip;</td><td>&hellip;</td><td>&hellip;</td><td>&hellip;</td><td>&hellip;</td><td>&hellip;</td><td>&hellip;</td><td>&hellip;</td><td>&hellip;</td><td>&hellip;</td><td>&hellip;</td><td>&hellip;</td><td>&hellip;</td><td>&hellip;</td><td>&hellip;</td><td>&hellip;</td><td>&hellip;</td><td>&hellip;</td><td>&hellip;</td><td>&hellip;</td><td>&hellip;</td><td>&hellip;</td><td>&hellip;</td><td>&hellip;</td><td>&hellip;</td><td>&hellip;</td><td>&hellip;</td><td>&hellip;</td><td>&hellip;</td><td>&hellip;</td><td>&hellip;</td><td>&hellip;</td><td>&hellip;</td><td>&hellip;</td><td>&hellip;</td><td>&hellip;</td><td>&hellip;</td><td>&hellip;</td><td>&hellip;</td><td>&hellip;</td><td>&hellip;</td><td>&hellip;</td><td>&hellip;</td><td>&hellip;</td><td>&hellip;</td><td>&hellip;</td><td>&hellip;</td><td>&hellip;</td><td>&hellip;</td><td>&hellip;</td><td>&hellip;</td><td>&hellip;</td><td>&hellip;</td><td>&hellip;</td><td>&hellip;</td><td>&hellip;</td><td>&hellip;</td><td>&hellip;</td></tr><tr><td>&quot;Co. Cavan&quot;</td><td>&quot;Semi-detached …</td><td>2006</td><td>&quot;Existing      …</td><td>&quot;C1&quot;</td><td>171.2</td><td>100.0</td><td>0.37</td><td>0.2</td><td>0.37</td><td>2.0</td><td>3.0</td><td>107.25</td><td>50.0</td><td>50.0</td><td>15.02</td><td>1.92</td><td>2</td><td>41.91</td><td>&quot;Heating Oil   …</td><td>&quot;Heating Oil   …</td><td>85.5</td><td>&quot;NO&quot;</td><td>0</td><td>40.39</td><td>0.95</td><td>0.1</td><td>100.0</td><td>85.5</td><td>0.95</td><td>28</td><td>1</td><td>2</td><td>2</td><td>0</td><td>1</td><td>9</td><td>&hellip;</td><td>null</td><td>null</td><td>null</td><td>null</td><td>null</td><td>null</td><td>null</td><td>null</td><td>&quot;Timber Frame&quot;</td><td>&quot;Insulation unk…</td><td>107.25</td><td>0.37</td><td>&quot;No&quot;</td><td>10</td><td>8</td><td>null</td><td>null</td><td>null</td><td>null</td><td>null</td><td>null</td><td>null</td><td>null</td><td>null</td><td>null</td><td>null</td><td>null</td><td>null</td><td>null</td><td>&quot;27073004&quot;</td><td>0.000003</td><td>0.0025</td><td>null</td><td>null</td><td>null</td><td>null</td><td>null</td></tr><tr><td>&quot;Co. Westmeath&quot;</td><td>&quot;Detached house…</td><td>2003</td><td>&quot;Existing      …</td><td>&quot;C3&quot;</td><td>207.12</td><td>239.59</td><td>0.49</td><td>0.32</td><td>0.41</td><td>2.75</td><td>3.0</td><td>201.73</td><td>160.68</td><td>150.74</td><td>29.72</td><td>3.07</td><td>2</td><td>53.7</td><td>&quot;Heating Oil   …</td><td>&quot;Heating Oil   …</td><td>85.5</td><td>&quot;NO&quot;</td><td>0</td><td>43.22</td><td>0.95</td><td>0.1</td><td>30.0</td><td>85.5</td><td>0.95</td><td>15</td><td>28</td><td>2</td><td>2</td><td>2</td><td>0</td><td>1</td><td>&hellip;</td><td>null</td><td>null</td><td>null</td><td>null</td><td>null</td><td>null</td><td>null</td><td>null</td><td>&quot;300mm Filled C…</td><td>&quot;Cavity filled …</td><td>139.18</td><td>0.55</td><td>&quot;No&quot;</td><td>9</td><td>5</td><td>&quot;Timber Frame&quot;</td><td>&quot;Dormer Stud Wa…</td><td>62.55</td><td>0.37</td><td>&quot;No&quot;</td><td>9</td><td>8</td><td>null</td><td>null</td><td>null</td><td>null</td><td>null</td><td>null</td><td>null</td><td>null</td><td>null</td><td>null</td><td>null</td><td>null</td><td>null</td><td>null</td><td>null</td></tr><tr><td>&quot;Co. Cork&quot;</td><td>&quot;Semi-detached …</td><td>1992</td><td>&quot;Existing      …</td><td>&quot;D1&quot;</td><td>233.45</td><td>96.13</td><td>0.6</td><td>0.4</td><td>0.57</td><td>2.86</td><td>3.0</td><td>84.82</td><td>48.89</td><td>47.89</td><td>18.36</td><td>2.89</td><td>2</td><td>45.76</td><td>&quot;Mains Gas     …</td><td>&quot;Mains Gas     …</td><td>78.0</td><td>&quot;NO&quot;</td><td>0</td><td>35.14</td><td>0.95</td><td>0.1</td><td>51.5</td><td>78.0</td><td>0.95</td><td>2</td><td>28</td><td>2</td><td>2</td><td>0</td><td>1</td><td>5</td><td>&hellip;</td><td>null</td><td>null</td><td>null</td><td>null</td><td>null</td><td>null</td><td>null</td><td>null</td><td>&quot;300mm Cavity&quot;</td><td>&quot;main house&quot;</td><td>84.82</td><td>0.6</td><td>&quot;No&quot;</td><td>7</td><td>4</td><td>null</td><td>null</td><td>null</td><td>null</td><td>null</td><td>null</td><td>null</td><td>null</td><td>null</td><td>null</td><td>null</td><td>null</td><td>null</td><td>null</td><td>&quot;48042003&quot;</td><td>0.052551</td><td>0.052551</td><td>null</td><td>null</td><td>null</td><td>null</td><td>null</td></tr><tr><td>&quot;Dublin 11&quot;</td><td>&quot;Semi-detached …</td><td>2005</td><td>&quot;Existing      …</td><td>&quot;C3&quot;</td><td>220.05</td><td>41.54</td><td>0.37</td><td>0.23</td><td>0.39</td><td>2.8</td><td>0.0</td><td>45.29</td><td>20.76</td><td>20.77</td><td>25.18</td><td>0.0</td><td>2</td><td>42.39</td><td>&quot;Mains Gas     …</td><td>&quot;Mains Gas     …</td><td>85.0</td><td>&quot;NO&quot;</td><td>1</td><td>41.1</td><td>1.0</td><td>0.0</td><td>0.0</td><td>85.0</td><td>1.0</td><td>1</td><td>1</td><td>2</td><td>2</td><td>0</td><td>0</td><td>3</td><td>&hellip;</td><td>null</td><td>null</td><td>null</td><td>null</td><td>null</td><td>null</td><td>null</td><td>null</td><td>&quot;300mm Cavity&quot;</td><td>&quot;exposed walls&quot;</td><td>45.29</td><td>0.37</td><td>&quot;No&quot;</td><td>10</td><td>4</td><td>null</td><td>null</td><td>null</td><td>null</td><td>null</td><td>null</td><td>null</td><td>null</td><td>null</td><td>null</td><td>null</td><td>null</td><td>null</td><td>null</td><td>&quot;268019005&quot;</td><td>0.001533</td><td>0.027069</td><td>null</td><td>null</td><td>null</td><td>null</td><td>null</td></tr><tr><td>&quot;Co. Kilkenny&quot;</td><td>&quot;Top-floor apar…</td><td>1997</td><td>&quot;Existing      …</td><td>&quot;F &quot;</td><td>418.69</td><td>21.14</td><td>0.53</td><td>0.35</td><td>0.0</td><td>2.8</td><td>1.55</td><td>24.21</td><td>21.14</td><td>0.0</td><td>4.15</td><td>1.79</td><td>1</td><td>99.71</td><td>&quot;Electricity   …</td><td>&quot;Electricity   …</td><td>100.0</td><td>&quot;YES&quot;</td><td>0</td><td>126.86</td><td>1.0</td><td>0.2</td><td>100.0</td><td>100.0</td><td>1.0</td><td>28</td><td>1</td><td>2</td><td>2</td><td>0</td><td>0</td><td>3</td><td>&hellip;</td><td>null</td><td>null</td><td>null</td><td>null</td><td>null</td><td>null</td><td>null</td><td>null</td><td>&quot;300mm Cavity&quot;</td><td>&quot;Walls - Expose…</td><td>18.06</td><td>0.55</td><td>&quot;No&quot;</td><td>8</td><td>4</td><td>&quot;Stone&quot;</td><td>&quot;Walls - Unheat…</td><td>5.17</td><td>0.45</td><td>&quot;Yes&quot;</td><td>8</td><td>1</td><td>&quot;Timber Frame&quot;</td><td>&quot;Walls - Timber…</td><td>0.98</td><td>0.55</td><td>&quot;No&quot;</td><td>8</td><td>8</td><td>&quot;97061013&quot;</td><td>0.0025</td><td>0.0025</td><td>null</td><td>null</td><td>null</td><td>null</td><td>null</td></tr><tr><td>&quot;Co. Kilkenny&quot;</td><td>&quot;Ground-floor a…</td><td>1997</td><td>&quot;Existing      …</td><td>&quot;G &quot;</td><td>484.91</td><td>17.11</td><td>0.51</td><td>0.0</td><td>0.44</td><td>2.7</td><td>1.55</td><td>17.71</td><td>0.0</td><td>17.11</td><td>2.6</td><td>1.7</td><td>1</td><td>115.48</td><td>&quot;Electricity   …</td><td>&quot;Electricity   …</td><td>100.0</td><td>&quot;YES&quot;</td><td>0</td><td>165.95</td><td>1.0</td><td>0.0</td><td>0.0</td><td>100.0</td><td>1.0</td><td>1</td><td>1</td><td>2</td><td>2</td><td>0</td><td>0</td><td>2</td><td>&hellip;</td><td>null</td><td>null</td><td>null</td><td>null</td><td>null</td><td>null</td><td>null</td><td>null</td><td>&quot;300mm Cavity&quot;</td><td>&quot;Walls - Expose…</td><td>10.21</td><td>0.55</td><td>&quot;No&quot;</td><td>8</td><td>4</td><td>&quot;Stone&quot;</td><td>&quot;Walls - Unheat…</td><td>7.5</td><td>0.45</td><td>&quot;Yes&quot;</td><td>8</td><td>1</td><td>null</td><td>null</td><td>null</td><td>null</td><td>null</td><td>null</td><td>null</td><td>&quot;97061013&quot;</td><td>0.0025</td><td>0.0025</td><td>null</td><td>null</td><td>null</td><td>null</td><td>null</td></tr><tr><td>&quot;Co. Kilkenny&quot;</td><td>&quot;Top-floor apar…</td><td>1994</td><td>&quot;Existing      …</td><td>&quot;E2&quot;</td><td>361.04</td><td>47.6</td><td>0.55</td><td>0.4</td><td>0.0</td><td>2.8</td><td>1.55</td><td>53.79</td><td>47.6</td><td>0.0</td><td>5.83</td><td>1.51</td><td>1</td><td>85.98</td><td>&quot;Electricity   …</td><td>&quot;Electricity   …</td><td>100.0</td><td>&quot;YES&quot;</td><td>0</td><td>88.62</td><td>1.0</td><td>0.2</td><td>100.0</td><td>100.0</td><td>1.0</td><td>28</td><td>1</td><td>2</td><td>2</td><td>0</td><td>0</td><td>4</td><td>&hellip;</td><td>null</td><td>null</td><td>null</td><td>null</td><td>null</td><td>null</td><td>null</td><td>null</td><td>&quot;300mm Cavity&quot;</td><td>&quot;Walls - Expose…</td><td>52.69</td><td>0.55</td><td>&quot;No&quot;</td><td>8</td><td>4</td><td>&quot;Timber Frame&quot;</td><td>&quot;Walls - To Unh…</td><td>1.1</td><td>0.45</td><td>&quot;Yes&quot;</td><td>8</td><td>8</td><td>null</td><td>null</td><td>null</td><td>null</td><td>null</td><td>null</td><td>null</td><td>null</td><td>null</td><td>null</td><td>null</td><td>null</td><td>null</td><td>null</td><td>null</td></tr><tr><td>&quot;Dublin 8&quot;</td><td>&quot;Mid-floor apar…</td><td>2001</td><td>&quot;Existing      …</td><td>&quot;C3&quot;</td><td>217.4</td><td>66.86</td><td>0.46</td><td>0.0</td><td>0.0</td><td>2.8</td><td>3.0</td><td>30.64</td><td>0.0</td><td>0.0</td><td>9.85</td><td>1.74</td><td>1</td><td>51.77</td><td>&quot;Electricity   …</td><td>&quot;Electricity   …</td><td>100.0</td><td>&quot;NO&quot;</td><td>0</td><td>64.79</td><td>0.95</td><td>0.0</td><td>0.0</td><td>100.0</td><td>0.95</td><td>1</td><td>1</td><td>2</td><td>2</td><td>0</td><td>0</td><td>5</td><td>&hellip;</td><td>null</td><td>null</td><td>null</td><td>null</td><td>null</td><td>null</td><td>null</td><td>null</td><td>&quot;225mm Solid br…</td><td>&quot;Wall adjacent …</td><td>12.71</td><td>0.33</td><td>&quot;No&quot;</td><td>9</td><td>2</td><td>&quot;300mm Cavity&quot;</td><td>&quot;Rear Elevation…</td><td>9.54</td><td>0.55</td><td>&quot;No&quot;</td><td>9</td><td>4</td><td>&quot;300mm Cavity&quot;</td><td>&quot;Front Elevatio…</td><td>8.39</td><td>0.55</td><td>&quot;No&quot;</td><td>9</td><td>4</td><td>&quot;268153005&quot;</td><td>0.000072</td><td>0.0025</td><td>null</td><td>null</td><td>null</td><td>null</td><td>null</td></tr><tr><td>&quot;Dublin 3&quot;</td><td>&quot;Mid-terrace ho…</td><td>1900</td><td>&quot;Existing      …</td><td>&quot;D2&quot;</td><td>282.01</td><td>55.7</td><td>1.74</td><td>1.7</td><td>0.54</td><td>3.18</td><td>3.76</td><td>41.59</td><td>33.05</td><td>33.05</td><td>7.23</td><td>3.2</td><td>2</td><td>53.96</td><td>&quot;Mains Gas     …</td><td>&quot;Mains Gas     …</td><td>76.0</td><td>&quot;NO&quot;</td><td>0</td><td>32.36</td><td>0.95</td><td>0.0</td><td>0.0</td><td>76.0</td><td>0.95</td><td>1</td><td>1</td><td>2</td><td>2</td><td>0</td><td>0</td><td>1</td><td>&hellip;</td><td>null</td><td>null</td><td>null</td><td>null</td><td>null</td><td>null</td><td>null</td><td>null</td><td>&quot;225mm Solid br…</td><td>&quot;front elevatio…</td><td>16.67</td><td>2.1</td><td>&quot;No&quot;</td><td>2</td><td>2</td><td>&quot;300mm Cavity&quot;</td><td>&quot;extention nort…</td><td>11.16</td><td>1.1</td><td>&quot;No&quot;</td><td>6</td><td>4</td><td>&quot;225mm Solid br…</td><td>&quot;rear elevation…</td><td>9.89</td><td>2.1</td><td>&quot;No&quot;</td><td>2</td><td>2</td><td>&quot;268108023&quot;</td><td>5.5623e-7</td><td>0.0025</td><td>null</td><td>null</td><td>null</td><td>null</td><td>null</td></tr><tr><td>&quot;Co. Tipperary&quot;</td><td>&quot;House&quot;</td><td>2002</td><td>&quot;Existing      …</td><td>&quot;D1&quot;</td><td>254.87</td><td>132.03</td><td>0.55</td><td>0.4</td><td>0.29</td><td>2.8</td><td>3.0</td><td>108.54</td><td>130.9</td><td>132.03</td><td>16.12</td><td>5.63</td><td>1</td><td>66.29</td><td>&quot;Heating Oil   …</td><td>&quot;Heating Oil   …</td><td>83.2</td><td>&quot;NO&quot;</td><td>0</td><td>50.72</td><td>0.95</td><td>0.1</td><td>30.0</td><td>83.2</td><td>0.95</td><td>15</td><td>1</td><td>2</td><td>2</td><td>1</td><td>0</td><td>10</td><td>&hellip;</td><td>null</td><td>null</td><td>null</td><td>null</td><td>null</td><td>null</td><td>null</td><td>null</td><td>&quot;300mm Cavity&quot;</td><td>&quot;Front/Southeas…</td><td>34.84</td><td>0.55</td><td>&quot;No&quot;</td><td>9</td><td>4</td><td>&quot;300mm Cavity&quot;</td><td>&quot;Rear/Northwest…</td><td>32.67</td><td>0.55</td><td>&quot;No&quot;</td><td>9</td><td>4</td><td>&quot;300mm Cavity&quot;</td><td>&quot;Side/Northeast…</td><td>21.59</td><td>0.55</td><td>&quot;No&quot;</td><td>9</td><td>4</td><td>null</td><td>null</td><td>null</td><td>null</td><td>null</td><td>null</td><td>null</td><td>null</td></tr><tr><td>&quot;Co. Westmeath&quot;</td><td>&quot;Top-floor apar…</td><td>2009</td><td>&quot;Final         …</td><td>&quot;C2&quot;</td><td>193.33</td><td>108.0</td><td>0.27</td><td>0.2</td><td>0.0</td><td>1.9</td><td>3.0</td><td>74.71</td><td>48.0</td><td>0.0</td><td>34.83</td><td>2.0</td><td>2</td><td>46.04</td><td>&quot;Electricity   …</td><td>&quot;Electricity   …</td><td>100.0</td><td>&quot;NO&quot;</td><td>1</td><td>64.77</td><td>1.0</td><td>0.0</td><td>0.0</td><td>100.0</td><td>1.0</td><td>1</td><td>1</td><td>2</td><td>2</td><td>0</td><td>0</td><td>4</td><td>&hellip;</td><td>null</td><td>null</td><td>null</td><td>null</td><td>null</td><td>null</td><td>null</td><td>null</td><td>&quot;300mm Cavity&quot;</td><td>&quot;External Wall …</td><td>74.71</td><td>0.27</td><td>&quot;No&quot;</td><td>10</td><td>4</td><td>null</td><td>null</td><td>null</td><td>null</td><td>null</td><td>null</td><td>null</td><td>null</td><td>null</td><td>null</td><td>null</td><td>null</td><td>null</td><td>null</td><td>&quot;237080013&quot;</td><td>0.000044</td><td>0.0025</td><td>null</td><td>null</td><td>null</td><td>null</td><td>null</td></tr><tr><td>&quot;Co. Westmeath&quot;</td><td>&quot;Top-floor apar…</td><td>2009</td><td>&quot;Final         …</td><td>&quot;C1&quot;</td><td>161.61</td><td>108.5</td><td>0.27</td><td>0.2</td><td>0.0</td><td>1.9</td><td>3.0</td><td>21.32</td><td>50.0</td><td>0.0</td><td>26.55</td><td>2.0</td><td>2</td><td>38.49</td><td>&quot;Electricity   …</td><td>&quot;Electricity   …</td><td>100.0</td><td>&quot;NO&quot;</td><td>1</td><td>54.86</td><td>1.0</td><td>0.0</td><td>0.0</td><td>100.0</td><td>1.0</td><td>1</td><td>1</td><td>2</td><td>2</td><td>0</td><td>0</td><td>3</td><td>&hellip;</td><td>null</td><td>null</td><td>null</td><td>null</td><td>null</td><td>null</td><td>null</td><td>null</td><td>&quot;300mm Cavity&quot;</td><td>&quot;External Wall …</td><td>21.32</td><td>0.27</td><td>&quot;No&quot;</td><td>10</td><td>4</td><td>null</td><td>null</td><td>null</td><td>null</td><td>null</td><td>null</td><td>null</td><td>null</td><td>null</td><td>null</td><td>null</td><td>null</td><td>null</td><td>null</td><td>&quot;237080013&quot;</td><td>0.003546</td><td>0.0025</td><td>null</td><td>null</td><td>null</td><td>null</td><td>null</td></tr></tbody></table></div>"
      ],
      "text/plain": [
       "shape: (100, 211)\n",
       "┌───────────────┬──────────────────┬──────────────────┬─────────────────┬───┬─────────────┬────────────┬───────┬───────┐\n",
       "│ CountyName    ┆ DwellingTypeDesc ┆ Year_of_Construc ┆ TypeofRating    ┆ … ┆ RenewEPnren ┆ RenewEPren ┆ CPC   ┆ EPC   │\n",
       "│ ---           ┆ r                ┆ tion             ┆ ---             ┆   ┆ ---         ┆ ---        ┆ ---   ┆ ---   │\n",
       "│ str           ┆ ---              ┆ ---              ┆ str             ┆   ┆ str         ┆ str        ┆ f64   ┆ f64   │\n",
       "│               ┆ str              ┆ i64              ┆                 ┆   ┆             ┆            ┆       ┆       │\n",
       "╞═══════════════╪══════════════════╪══════════════════╪═════════════════╪═══╪═════════════╪════════════╪═══════╪═══════╡\n",
       "│ Co. Waterford ┆ Mid-terrace      ┆ 2008             ┆ Final           ┆ … ┆ null        ┆ null       ┆ null  ┆ null  │\n",
       "│               ┆ house            ┆                  ┆                 ┆   ┆             ┆            ┆       ┆       │\n",
       "│ Co. Galway    ┆ Semi-detached    ┆ 2009             ┆ Final           ┆ … ┆ null        ┆ null       ┆ 1.249 ┆ 1.046 │\n",
       "│               ┆ house            ┆                  ┆                 ┆   ┆             ┆            ┆       ┆       │\n",
       "│ Co. Cork      ┆ Apartment        ┆ 2006             ┆ Existing        ┆ … ┆ null        ┆ null       ┆ null  ┆ null  │\n",
       "│ Co. Dublin    ┆ Mid-floor        ┆ 2002             ┆ Existing        ┆ … ┆ null        ┆ null       ┆ null  ┆ null  │\n",
       "│               ┆ apartment        ┆                  ┆                 ┆   ┆             ┆            ┆       ┆       │\n",
       "│ …             ┆ …                ┆ …                ┆ …               ┆ … ┆ …           ┆ …          ┆ …     ┆ …     │\n",
       "│ Dublin 3      ┆ Mid-terrace      ┆ 1900             ┆ Existing        ┆ … ┆ null        ┆ null       ┆ null  ┆ null  │\n",
       "│               ┆ house            ┆                  ┆                 ┆   ┆             ┆            ┆       ┆       │\n",
       "│ Co. Tipperary ┆ House            ┆ 2002             ┆ Existing        ┆ … ┆ null        ┆ null       ┆ null  ┆ null  │\n",
       "│ Co. Westmeath ┆ Top-floor        ┆ 2009             ┆ Final           ┆ … ┆ null        ┆ null       ┆ null  ┆ null  │\n",
       "│               ┆ apartment        ┆                  ┆                 ┆   ┆             ┆            ┆       ┆       │\n",
       "│ Co. Westmeath ┆ Top-floor        ┆ 2009             ┆ Final           ┆ … ┆ null        ┆ null       ┆ null  ┆ null  │\n",
       "│               ┆ apartment        ┆                  ┆                 ┆   ┆             ┆            ┆       ┆       │\n",
       "└───────────────┴──────────────────┴──────────────────┴─────────────────┴───┴─────────────┴────────────┴───────┴───────┘"
      ]
     },
     "execution_count": 5,
     "metadata": {},
     "output_type": "execute_result"
    }
   ],
   "source": [
    "pl_lazy"
   ]
  },
  {
   "cell_type": "code",
   "execution_count": null,
   "id": "57218ca8-a92c-49fa-b00a-f7c5b0f4a083",
   "metadata": {},
   "outputs": [],
   "source": [
    "# Import the entire text file\n",
    "pl_df = pl.read_csv(txt_file, separator=\"\\t\", ignore_errors=True)"
   ]
  },
  {
   "cell_type": "code",
   "execution_count": null,
   "id": "b4a9ebb2-fd4f-4155-8a5f-a47bcb3458a5",
   "metadata": {},
   "outputs": [],
   "source": [
    "# Shape of the file\n",
    "pl_df.shape"
   ]
  },
  {
   "cell_type": "code",
   "execution_count": null,
   "id": "36d12419-a5fe-4226-9594-3fcfc549e1e0",
   "metadata": {},
   "outputs": [],
   "source": [
    "pl_df.estimated_size(\"gb\")"
   ]
  },
  {
   "cell_type": "markdown",
   "id": "0d0eeec2-3f37-465c-af05-b7b8d18acfa8",
   "metadata": {},
   "source": [
    "Polars import shows that there was 63,093 extra rows when importing the text file compared to conversion of file to csv format and then importing. Extra data within excel could not be processed correctly."
   ]
  },
  {
   "cell_type": "code",
   "execution_count": null,
   "id": "905742b1-f1bf-49c0-9cfa-0316f5b2ab1e",
   "metadata": {},
   "outputs": [],
   "source": [
    "type(pl_df)"
   ]
  },
  {
   "cell_type": "code",
   "execution_count": null,
   "id": "7c313db6-9370-4f8f-b711-3618b020663e",
   "metadata": {},
   "outputs": [],
   "source": [
    "# Renaming variables\n",
    "pl_df = pl_df.rename(\n",
    "    {\n",
    "        \"CountyName\" : \"County\"\n",
    "        ,\"DwellingTypeDescr\" : \"DwellingType\"\n",
    "    }\n",
    ")"
   ]
  },
  {
   "cell_type": "code",
   "execution_count": null,
   "id": "f41da105-069b-4dc7-a130-c75b33e91e01",
   "metadata": {},
   "outputs": [],
   "source": [
    "pl_df.head(5)"
   ]
  },
  {
   "cell_type": "code",
   "execution_count": null,
   "id": "69a6e0df-86dd-46f4-bce5-fb82cd720232",
   "metadata": {},
   "outputs": [],
   "source": [
    "# column names\n",
    "pl_df.columns\n",
    "# pl_df.describe()"
   ]
  },
  {
   "cell_type": "code",
   "execution_count": null,
   "id": "6deed198-f7d8-4026-80ac-95f13ff00af7",
   "metadata": {},
   "outputs": [],
   "source": [
    "# Home Energy Scheme Ireland upgrades - Binary flag\n",
    "# Is there a way to connect the before and after to understand the improvement?\n",
    "pl_df.groupby(pl.col('HESSchemeUpgrade')).agg(pl.count('EnergyRating')).sort(\"EnergyRating\", descending=True)"
   ]
  },
  {
   "cell_type": "code",
   "execution_count": null,
   "id": "7160368c-d57c-48e5-a05f-c448dfbcb1fa",
   "metadata": {},
   "outputs": [],
   "source": [
    "# Aggregations and grouping\n",
    "table1 = (\n",
    "    pl_df\n",
    "    .groupby(pl.col('HESSchemeUpgrade'))\n",
    "    .agg(pl.count('BerRating'))\n",
    "    .with_columns((pl.col(\"BerRating\") / pl.sum(\"BerRating\")).alias(\"percent_count\"))\n",
    "    # .sort(\"BerRating\", descending=True) # Sort descending by volume of BerRating\n",
    "    # .sort(\"EnergyRating\")\n",
    ")\n",
    "\n",
    "table1"
   ]
  },
  {
   "cell_type": "code",
   "execution_count": null,
   "id": "2927fb89-b778-4650-9b51-cd2a6c919f0e",
   "metadata": {},
   "outputs": [],
   "source": [
    "# Aggregations and grouping\n",
    "pl_df.groupby(pl.col('Year_of_Construction')).agg(pl.count('EnergyRating')).sort(\"EnergyRating\", descending=True)"
   ]
  },
  {
   "cell_type": "code",
   "execution_count": null,
   "id": "4d5f7321-b8bb-4a55-ae8e-07e4f54253ab",
   "metadata": {},
   "outputs": [],
   "source": [
    "# Aggregations and grouping\n",
    "pl_df.groupby(pl.col('Year_of_Construction')).agg(pl.count('EnergyRating')).sort(\"EnergyRating\", descending=True)"
   ]
  },
  {
   "cell_type": "code",
   "execution_count": null,
   "id": "fe8c470b-d830-4895-a5ee-e22de223a183",
   "metadata": {},
   "outputs": [],
   "source": [
    "# Aggregations and grouping\n",
    "table1 = (\n",
    "    pl_df\n",
    "    .groupby(pl.col('EnergyRating'))\n",
    "    .agg(pl.count('BerRating'))\n",
    "    .with_columns((pl.col(\"BerRating\") / pl.sum(\"BerRating\")).alias(\"percent_count\"))\n",
    "    # .sort(\"BerRating\", descending=True) # Sort descending by volume of BerRating\n",
    "    .sort(\"EnergyRating\")\n",
    ")\n",
    "\n",
    "table1"
   ]
  },
  {
   "cell_type": "code",
   "execution_count": null,
   "id": "a7768f9e-f08d-41b3-ac1b-51c33dce37cd",
   "metadata": {},
   "outputs": [],
   "source": [
    "# Run pivot table\n",
    "pl_df1 = pl_df.pivot(\n",
    "    values = \"CO2Rating\"\n",
    "    ,index = \"County\"\n",
    "    ,columns = \"DwellingType\"\n",
    "    ,aggregate_function=\"count\" # options: [\"count\", \"mean\", \"sum\"]\n",
    ")\n",
    "pl_df1"
   ]
  },
  {
   "cell_type": "code",
   "execution_count": null,
   "id": "a4bb1793-4b1f-4741-9722-332c6ffb1175",
   "metadata": {},
   "outputs": [],
   "source": [
    "# Aggregations and grouping\n",
    "table1 = (\n",
    "    pl_df\n",
    "    .groupby(pl.col('HESSchemeUpgrade', 'EnergyRating'))\n",
    "    .agg(pl.count('BerRating'))\n",
    "    .with_columns((pl.col(\"BerRating\") / pl.sum(\"BerRating\")).alias(\"percent_count\"))\n",
    "    # .sort(\"BerRating\", descending=True) # Sort descending by volume of BerRating\n",
    "    .sort(\"EnergyRating\")\n",
    ")\n",
    "\n",
    "table1"
   ]
  },
  {
   "cell_type": "code",
   "execution_count": null,
   "id": "0eb1a1b5-f47b-4701-a7e3-109461947cc7",
   "metadata": {},
   "outputs": [],
   "source": [
    "# Display the type of variable\n",
    "type(table1)"
   ]
  },
  {
   "cell_type": "code",
   "execution_count": null,
   "id": "6cc2b4eb-7db7-42f1-bb0b-82337e8a3e59",
   "metadata": {},
   "outputs": [],
   "source": [
    "# Histogram - in order to use the plotly express method the KW parameters (x, y) have to be converted into pandas. Conversion is possible using the to_series() method\n",
    "fig = px.histogram(table1 \n",
    "                   ,x=table1.select(\"EnergyRating\").to_series()\n",
    "                   ,y=table1.select(\"BerRating\").to_series()\n",
    "                  )\n",
    "fig.show()"
   ]
  },
  {
   "cell_type": "code",
   "execution_count": null,
   "id": "82e969d8-01f8-459f-af7b-6f3f82942fb7",
   "metadata": {},
   "outputs": [],
   "source": [
    "# Histogram alternative\n",
    "# Can convert the polars dataframe to pandas. Requires pyarrow library to use method to_pandas()\n",
    "# fig1 = px.histogram(\n",
    "#     table1.to_pandas()\n",
    "#     ,x = \"EnergyRating\"\n",
    "#     ,y = \"BerRating\"\n",
    "# )\n",
    "# fig1.show()"
   ]
  },
  {
   "cell_type": "code",
   "execution_count": null,
   "id": "4798c8bf-fc69-4a58-abf7-0ceef013dd67",
   "metadata": {},
   "outputs": [],
   "source": [
    "# View of the small areas\n",
    "# General MI. Could find the location mappings and apply to a map to re-create the BER Map\n",
    "# How to map the SA_Code to text (does a reference table exist??)\n",
    "table2 = (\n",
    "    pl_df\n",
    "    .groupby(pl.col('SA_Code'))\n",
    "    .agg(pl.count('BerRating'),\n",
    "         pl.median('BerRating').alias('median_ber'))\n",
    "    .with_columns((pl.col(\"BerRating\") / pl.sum(\"BerRating\")).alias(\"percent_count\"))\n",
    "    .sort(\"BerRating\", descending=True) # Sort descending by volume of BerRating\n",
    "    # .sort(\"BerRating\")\n",
    ")\n",
    "\n",
    "table2"
   ]
  },
  {
   "cell_type": "code",
   "execution_count": null,
   "id": "0bb563d4-0be2-4e95-9261-4a7e3542dc12",
   "metadata": {},
   "outputs": [],
   "source": [
    "# Test for the SA_code that matches area BALLYGALL B\n",
    "table2.filter(pl.col(\"SA_Code\") == \"268013003\")"
   ]
  },
  {
   "cell_type": "markdown",
   "id": "09bbd47f-81dd-464f-8e6e-6c6c42286199",
   "metadata": {},
   "source": [
    "## 1. Feature engineering"
   ]
  },
  {
   "cell_type": "code",
   "execution_count": null,
   "id": "10d7d8de-08e2-4f7e-8800-3591a470114c",
   "metadata": {},
   "outputs": [],
   "source": [
    "# Mapping energy rating\n",
    "# er_curr = list[(pl_df['EnergyRating']).unique()]\n",
    "# er_curr\n",
    "# Creating the dictionary to aid with mapping the initial variable displaying the 15 grade values\n",
    "er_curr = [\"A1\", \"A2\", \"A3\", \"B1\", \"B2\", \"B3\", \"C1\", \"C2\", \"C3\", \"D1\", \"D2\", \"E1\", \"E2\", \"F \", \"G \"]\n",
    "er_fin = [\"A\", \"A\", \"A\", \"B\", \"B\", \"B\", \"C\", \"C\", \"C\", \"D\", \"D\", \"E\", \"E\", \"F\", \"G\"]\n",
    "# Connects the two lists into a dictionary\n",
    "er_dict = dict(zip(er_curr, er_fin))"
   ]
  },
  {
   "cell_type": "code",
   "execution_count": null,
   "id": "a5ec43e1-6e49-49fd-820b-62e7e5139d8a",
   "metadata": {},
   "outputs": [],
   "source": [
    "# show dictionary that was created\n",
    "er_dict"
   ]
  },
  {
   "cell_type": "code",
   "execution_count": null,
   "id": "6a980b25-94a7-4586-b088-2a05035bcb48",
   "metadata": {},
   "outputs": [],
   "source": [
    "# Map new set of values. The logic creates the new variable with the chaining method. A method called alias is used to assign the new feature name\n",
    "pl_df = (pl_df\n",
    " .with_columns(pl.col(\"EnergyRating\").map_dict(er_dict).alias(\"ER1\"))\n",
    " # .select(pl.col([\"EnergyRating\", \"ER1\"]))\n",
    ")\n"
   ]
  },
  {
   "cell_type": "code",
   "execution_count": null,
   "id": "06294872-aa0b-431c-9165-36fc9a6f74e8",
   "metadata": {},
   "outputs": [],
   "source": [
    "pl_df.head()"
   ]
  },
  {
   "cell_type": "code",
   "execution_count": null,
   "id": "e34a27ed-8568-46a6-b8a7-5810dac2b657",
   "metadata": {},
   "outputs": [],
   "source": [
    "# Work to cast the string format to categorical\n",
    "pl_df = (\n",
    "    pl_df.with_columns(\n",
    "        pl.col('County').cast(pl.Categorical),\n",
    "        pl.col('DwellingType').cast(pl.Categorical),\n",
    "        pl.col('MainSpaceHeatingFuel').cast(pl.Categorical),\n",
    "        pl.col('MainWaterHeatingFuel').cast(pl.Categorical)\n",
    "    )\n",
    ")"
   ]
  },
  {
   "cell_type": "code",
   "execution_count": null,
   "id": "bda98349-de13-45a2-b6a0-c6c1f553467d",
   "metadata": {},
   "outputs": [],
   "source": [
    "pl_df.head()"
   ]
  },
  {
   "cell_type": "code",
   "execution_count": null,
   "id": "f1d4f002-c0eb-45e6-aeb1-78e929aac651",
   "metadata": {},
   "outputs": [],
   "source": [
    "# Display the list of columns within the dataframe\n",
    "pl_df.columns"
   ]
  },
  {
   "cell_type": "code",
   "execution_count": null,
   "id": "9056745b-bf49-49de-a1da-bbff6ea7c41f",
   "metadata": {},
   "outputs": [],
   "source": [
    "# Confirm that the mapping dictionary has been applied correctly with the count aggregation\n",
    "(pl_df\n",
    " .groupby([\"EnergyRating\", \"ER1\"]).agg(pl.count(\"County\"))\n",
    ")"
   ]
  },
  {
   "cell_type": "code",
   "execution_count": null,
   "id": "a90f9d5e-a32e-4630-8aec-2991907ef371",
   "metadata": {},
   "outputs": [],
   "source": [
    "# Understanding datatype of variables within polars dataframe\n",
    "schema_dict = pl_df.schema\n",
    "# schema_dict # displays each feature name with the data type within a dictionary format"
   ]
  },
  {
   "cell_type": "code",
   "execution_count": null,
   "id": "849c8f4a-3950-4dc9-8eb5-414419e93eb5",
   "metadata": {},
   "outputs": [],
   "source": [
    "# Display the values associated to each dictionary key. Will show the data type \n",
    "schema_vals = schema_dict.values()\n",
    "schema_vals"
   ]
  },
  {
   "cell_type": "code",
   "execution_count": null,
   "id": "2145d294-1e0c-4138-a1d8-2199a1c63753",
   "metadata": {},
   "outputs": [],
   "source": [
    "# Counter can be used as a method to perform a aggregation of a dictionary. When applied it will produce a descending order output showing feature value with highest count. Great alternative to value_counts() method\n",
    "from collections import Counter\n",
    "count = Counter(schema_vals)\n",
    "print(count)"
   ]
  },
  {
   "cell_type": "markdown",
   "id": "65726cd8-e2bd-4745-ac47-bd10db039461",
   "metadata": {
    "tags": []
   },
   "source": [
    "## 2. Build ML model"
   ]
  },
  {
   "cell_type": "code",
   "execution_count": null,
   "id": "e82d345e-df59-4779-91a8-b2a0322b74cc",
   "metadata": {},
   "outputs": [],
   "source": [
    "pip install catboost"
   ]
  },
  {
   "cell_type": "code",
   "execution_count": null,
   "id": "ea3696d3-554c-4bcd-abca-5144e5399584",
   "metadata": {},
   "outputs": [],
   "source": [
    "# Working with xgboost multi-class classification model\n",
    "import xgboost as xgb\n",
    "from sklearn.model_selection import train_test_split\n",
    "from sklearn.preprocessing import LabelEncoder\n",
    "from xgboost import XGBClassifier\n",
    "from catboost import CatBoostClassifier\n",
    "from sklearn.metrics import accuracy_score"
   ]
  },
  {
   "cell_type": "code",
   "execution_count": null,
   "id": "f39dc7ca-fe4e-4cf3-9ff0-7ba06357dc06",
   "metadata": {},
   "outputs": [],
   "source": [
    "# Target = ER1\n",
    "y_pl = (pl_df\n",
    "     .select([\"ER1\"])\n",
    ").to_series()\n",
    "\n",
    "X_orig = (pl_df\n",
    "     .select(pl.exclude([\"ER1\", \"EnergyRating\"]))\n",
    ")\n",
    "\n",
    "# Take a selection of the features to produce a baseline model. Initial model run attempted to use all feature variables (excluding target), however this produced an error. \n",
    "# Next step would be to produce a data pipeline to understand what adjustments would be required to check if the features causing current issues are observed to be significant.\n",
    "X_pl = (pl_df\n",
    "    .select([\n",
    "        'GroundFloorArea(sq m)',\n",
    "        'Year_of_Construction',\n",
    "        'DwellingType',\n",
    "        'County',\n",
    "        'MainSpaceHeatingFuel',\n",
    "        'MainWaterHeatingFuel',\n",
    "        'UValueWall',\n",
    "        'UValueRoof',\n",
    "        'UValueFloor',\n",
    "        'UValueWindow',\n",
    "        'UvalueDoor',\n",
    "        'WallArea',\n",
    "        'RoofArea',\n",
    "        'FloorArea',\n",
    "        'WindowArea',\n",
    "        'DoorArea',\n",
    "        'NoStoreys'])\n",
    ")"
   ]
  },
  {
   "cell_type": "code",
   "execution_count": null,
   "id": "3af54346-982c-46f6-b7f8-44bb432bcb8d",
   "metadata": {},
   "outputs": [],
   "source": [
    "X_test = X_pl.to_arrow().to_pandas()"
   ]
  },
  {
   "cell_type": "code",
   "execution_count": null,
   "id": "bc8e057b-7957-4fce-93dd-4a363b86ad2c",
   "metadata": {},
   "outputs": [],
   "source": [
    "dir(X_test)"
   ]
  },
  {
   "cell_type": "code",
   "execution_count": null,
   "id": "9dbcb2d8-e4fa-4f87-b50f-7f618aa84b75",
   "metadata": {},
   "outputs": [],
   "source": [
    "# X = X_pl.to_pandas()\n",
    "y = y_pl.to_series()"
   ]
  },
  {
   "cell_type": "code",
   "execution_count": null,
   "id": "9916a3ae-2a98-480b-b8de-137b422a8edd",
   "metadata": {},
   "outputs": [],
   "source": [
    "X.head()"
   ]
  },
  {
   "cell_type": "code",
   "execution_count": null,
   "id": "8801a091-b3a5-4ef9-bcc3-e9ff12280c06",
   "metadata": {},
   "outputs": [],
   "source": [
    "# Need to encode the target to allow the xgboost model to work\n",
    "lc = LabelEncoder()\n",
    "lc = lc.fit(y)\n",
    "lc_y = lc.transform(y)"
   ]
  },
  {
   "cell_type": "code",
   "execution_count": null,
   "id": "8fec491e-d897-4e4d-a806-4610a145afdf",
   "metadata": {},
   "outputs": [],
   "source": [
    "X_train, X_test, y_train, y_test = train_test_split(X, lc_y, test_size=0.20, random_state=5)"
   ]
  },
  {
   "cell_type": "code",
   "execution_count": null,
   "id": "964fd71e-011c-4904-a232-1aca2e83e274",
   "metadata": {},
   "outputs": [],
   "source": [
    "lc_y"
   ]
  },
  {
   "cell_type": "code",
   "execution_count": null,
   "id": "fa87c124-25c7-4fe1-a346-195fe8ec529e",
   "metadata": {},
   "outputs": [],
   "source": [
    "X_train.columns"
   ]
  },
  {
   "cell_type": "code",
   "execution_count": null,
   "id": "a4e24264-97e7-42ca-b26e-2c4d83e3e980",
   "metadata": {},
   "outputs": [],
   "source": [
    "# help(XGBClassifier)"
   ]
  },
  {
   "cell_type": "code",
   "execution_count": null,
   "id": "dca7b6e3-824b-41f6-9e98-5c80996bf959",
   "metadata": {},
   "outputs": [],
   "source": [
    "# Define and fit model\n",
    "# model = XGBClassifier(enable_categorical=True)\n",
    "model = CatBoostClassifier()\n",
    "model.fit(X_train, y_train)"
   ]
  },
  {
   "cell_type": "code",
   "execution_count": null,
   "id": "5502d145-c8da-46ba-bd33-3c5543dd8bb5",
   "metadata": {},
   "outputs": [],
   "source": [
    "y_pred = model.predict(X_test)"
   ]
  },
  {
   "cell_type": "code",
   "execution_count": null,
   "id": "08464f66-f63b-4f1b-b955-17f9980d6d6d",
   "metadata": {},
   "outputs": [],
   "source": [
    "predictions = [round(value) for value in y_pred]\n",
    "accuracy = accuracy_score(y_test, predictions)\n",
    "print(f'Accuracy: {accuracy * 100.0}')"
   ]
  },
  {
   "cell_type": "code",
   "execution_count": null,
   "id": "c6cb24ae-166f-449f-8cea-6fcf6e195506",
   "metadata": {},
   "outputs": [],
   "source": [
    "print(model.feature_importances_)"
   ]
  },
  {
   "cell_type": "code",
   "execution_count": null,
   "id": "fbeae75d-5785-484a-89c5-da345fa15327",
   "metadata": {},
   "outputs": [],
   "source": [
    "# Review key features\n",
    "feature_importance = model.feature_importances_\n",
    "sorted_idx = np.argsort(feature_importance)\n",
    "fig = plt.figure(figsize=(12, 6))\n",
    "plt.barh(range(len(sorted_idx)), feature_importance[sorted_idx], align='center')\n",
    "plt.yticks(range(len(sorted_idx)), np.array(X_test.columns)[sorted_idx])\n",
    "plt.title('Feature Importance')\n"
   ]
  },
  {
   "cell_type": "markdown",
   "id": "33efd346-0d95-4b4d-9c0e-360978adff34",
   "metadata": {},
   "source": [
    "Explainable AI\n",
    "\n",
    "[Article](https://blog.salesforceairesearch.com/omnixai/)\n",
    "Understand how this could be embedded into the process to aid with model review\n",
    "\n",
    "Review the tabular classification analysis [link](https://github.com/salesforce/OmniXAI/blob/main/tutorials/tabular_classification.ipynb) "
   ]
  },
  {
   "cell_type": "markdown",
   "id": "d5b1fd93-1c62-4289-a5d4-efa3a51c6723",
   "metadata": {},
   "source": [
    "### 3. Feature selection"
   ]
  },
  {
   "cell_type": "code",
   "execution_count": null,
   "id": "10fe8485-1bdc-4379-919c-e610965ac953",
   "metadata": {},
   "outputs": [],
   "source": [
    "# Review features with low variance\n",
    "# These are typically features that have low cardinality with large concentration of the sample with a single value\n",
    "thres = (.8*(1-.8))\n",
    "thres"
   ]
  },
  {
   "cell_type": "code",
   "execution_count": null,
   "id": "8a22019c-3f36-40fa-b60e-049ac11d935f",
   "metadata": {},
   "outputs": [],
   "source": [
    "# import library\n",
    "from sklearn.feature_selection import VarianceThreshold"
   ]
  },
  {
   "cell_type": "code",
   "execution_count": null,
   "id": "50bf4362-7a9a-4a59-a8eb-658b28a5eda9",
   "metadata": {},
   "outputs": [],
   "source": [
    "# Apply to X_orig - will have to run with only the numeric\n",
    "# selector = VarianceThreshold()\n",
    "# selector.fit_transform(X_orig)"
   ]
  },
  {
   "cell_type": "code",
   "execution_count": null,
   "id": "b787ab7b-e9bc-4b6d-a5d4-1c3ed56d63c0",
   "metadata": {},
   "outputs": [],
   "source": [
    "type(X_orig)"
   ]
  },
  {
   "cell_type": "code",
   "execution_count": null,
   "id": "b8cc3d51-9055-4c30-9563-bb124e92d704",
   "metadata": {},
   "outputs": [],
   "source": [
    "X_orig.select(['BerRating', 'TypeofRating']).head()"
   ]
  },
  {
   "cell_type": "code",
   "execution_count": null,
   "id": "6545f96c-0d16-4c58-b69e-f7be0f6f3f1e",
   "metadata": {},
   "outputs": [],
   "source": [
    "(X_orig\n",
    " .to_pandas()\n",
    " .nunique()\n",
    ")"
   ]
  },
  {
   "cell_type": "code",
   "execution_count": null,
   "id": "c425054b-ee44-4752-99c5-0435d46ea70b",
   "metadata": {},
   "outputs": [],
   "source": [
    "# Check for cardinality\n",
    "card_list = (\n",
    "    X_orig\n",
    "    .select(pl.all().n_unique())\n",
    "    .transpose(include_header=True, column_names=['count'])\n",
    "    # .groupby(pl.col('count'))\n",
    "    # .agg(pl.count('column'))\n",
    "    # .sort('count')\n",
    "    .filter(pl.col('count') <= 5)\n",
    "    ['column']\n",
    "    .to_list()\n",
    ")\n",
    "# card_list"
   ]
  },
  {
   "cell_type": "code",
   "execution_count": null,
   "id": "90b41540-5512-4382-ad35-a08a4bf18383",
   "metadata": {},
   "outputs": [],
   "source": [
    "card_list"
   ]
  },
  {
   "cell_type": "code",
   "execution_count": null,
   "id": "2c3ec086-b409-41dc-b209-3dd0759875ad",
   "metadata": {},
   "outputs": [],
   "source": [
    "(X_orig\n",
    " .select(card_list)\n",
    " .head()\n",
    ")"
   ]
  },
  {
   "cell_type": "code",
   "execution_count": null,
   "id": "6b3ed9ce-21a1-41c5-a0b4-f1d59509363f",
   "metadata": {},
   "outputs": [],
   "source": [
    "X_orig.n_unique?"
   ]
  },
  {
   "cell_type": "markdown",
   "id": "f8d5e797-7d81-498f-bc01-6a7694c7b5fa",
   "metadata": {},
   "source": [
    "### AutoML\n",
    "\n",
    "Aim is to understand what is possible with the AutoML libraries. They can aid with the multiple steps required to develop and review ML models. Pre-processing steps are included. Data pipelines can be produced. Model deployment and maintainance can be reviewed.\n",
    "\n",
    "[AutoML blog post](https://www.baeldung.com/cs/automl)"
   ]
  },
  {
   "cell_type": "code",
   "execution_count": null,
   "id": "f072238a-9ee5-4370-b0ee-94a0cbe12c8c",
   "metadata": {},
   "outputs": [],
   "source": []
  }
 ],
 "metadata": {
  "kernelspec": {
   "display_name": "Python 3 (ipykernel)",
   "language": "python",
   "name": "python3"
  },
  "language_info": {
   "codemirror_mode": {
    "name": "ipython",
    "version": 3
   },
   "file_extension": ".py",
   "mimetype": "text/x-python",
   "name": "python",
   "nbconvert_exporter": "python",
   "pygments_lexer": "ipython3",
   "version": "3.9.12"
  }
 },
 "nbformat": 4,
 "nbformat_minor": 5
}
