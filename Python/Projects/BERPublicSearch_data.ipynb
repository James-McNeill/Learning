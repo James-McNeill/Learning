{
 "cells": [
  {
   "cell_type": "markdown",
   "id": "e83c8b6d-eca6-4690-b8ae-e6f7582bbc95",
   "metadata": {},
   "source": [
    "## BER energy data\n",
    "\n",
    "Data taken from the public BER dataset within this notebook. \n",
    "Aim is to understand build a structure that can be used to perform analysis on future datasets that contain a smaller number of the features. Creating a robust target variable (\"BER\") using the fewest number of available features is the long term goal. To align this strategy with the data that a company will have available will be the challenge of understanding how the features are collected. Will features within this dataset perform better if they are before or after the BER assessment to provide detailed information on what drives the BER.\n",
    "\n",
    "Data Source: public search data [website](https://ndber.seai.ie/BERResearchTool/ber/search.aspx). \n",
    "\n",
    "- Build a baseline ML classification model e.g., boosting tree, help understand important features\n",
    "- Perform unsupervised learning to review clusters of variables that have similar characteristics\n",
    "- Review which variables could be transformed and/or combined to benefit model accuracy\n",
    "- Are there any features that could be collected in external datasets that are similar to data shown"
   ]
  },
  {
   "cell_type": "code",
   "execution_count": null,
   "id": "18c7940e-f10f-45b8-a6f4-bfaaf7aff6bc",
   "metadata": {},
   "outputs": [],
   "source": [
    "# Training examples using Jupyter Notebook\n",
    "# Aim is to understand example code that can be moved to GitHub for future use\n",
    "\n",
    "# Import modules\n",
    "import pandas as pd\n",
    "import numpy as np\n",
    "import matplotlib.pyplot as plt\n",
    "import seaborn as sns\n",
    "import time\n",
    "import sys\n",
    "import installPack # took the original code that was being used to install a new package and wrapped it in a py script\n",
    "import polars as pl\n",
    "import plotly.express as px\n",
    "import os"
   ]
  },
  {
   "cell_type": "code",
   "execution_count": null,
   "id": "6ebcff30",
   "metadata": {},
   "outputs": [],
   "source": [
    "os.getcwd()"
   ]
  },
  {
   "cell_type": "code",
   "execution_count": null,
   "id": "3ad3f92b-8454-4524-adfd-da95c0265528",
   "metadata": {},
   "outputs": [],
   "source": [
    "# List of libraries to import\n",
    "requirements = [\"pyarrow\"]\n",
    "for requirement in requirements:\n",
    "    installPack.installPackage(requirement)"
   ]
  },
  {
   "cell_type": "code",
   "execution_count": null,
   "id": "5dae6365-b622-4f8e-96d7-8b9d64c8728a",
   "metadata": {},
   "outputs": [],
   "source": [
    "import pyarrow as pa\n",
    "import tidypolars as tp\n",
    "from tidypolars import col, desc"
   ]
  },
  {
   "cell_type": "code",
   "execution_count": null,
   "id": "9f816d11-ff66-4afb-8eef-6795643792d2",
   "metadata": {},
   "outputs": [],
   "source": [
    "# text file to scan\n",
    "txt_file = \"BERPublicsearch.txt\"\n",
    "\n",
    "pl_lazy = pl.scan_csv(txt_file, separator=\"\\t\").fetch(100)"
   ]
  },
  {
   "cell_type": "code",
   "execution_count": null,
   "id": "93c62884-8ee4-4ebe-8ca0-d5618c381482",
   "metadata": {},
   "outputs": [],
   "source": [
    "pl_lazy"
   ]
  },
  {
   "cell_type": "code",
   "execution_count": null,
   "id": "57218ca8-a92c-49fa-b00a-f7c5b0f4a083",
   "metadata": {},
   "outputs": [],
   "source": [
    "# Import the entire text file\n",
    "pl_df = pl.read_csv(txt_file, separator=\"\\t\", ignore_errors=True)"
   ]
  },
  {
   "cell_type": "code",
   "execution_count": null,
   "id": "b4a9ebb2-fd4f-4155-8a5f-a47bcb3458a5",
   "metadata": {},
   "outputs": [],
   "source": [
    "# Shape of the file\n",
    "pl_df.shape"
   ]
  },
  {
   "cell_type": "code",
   "execution_count": null,
   "id": "a4488a0f-b8a6-4360-950a-a866e5d58f5c",
   "metadata": {},
   "outputs": [],
   "source": [
    "import polars.selectors as cs\n",
    "\n",
    "# pl_df.select(cs.numeric()).head()\n",
    "pl_df.select(cs.all()).head()"
   ]
  },
  {
   "cell_type": "code",
   "execution_count": null,
   "id": "803330be-dc91-4df4-8032-bac68ecbdacb",
   "metadata": {},
   "outputs": [],
   "source": [
    "pl_df.columns"
   ]
  },
  {
   "cell_type": "code",
   "execution_count": null,
   "id": "76987d2a-a035-467f-9f35-6c462ccd2e7f",
   "metadata": {},
   "outputs": [],
   "source": [
    "from collections import Counter\n",
    "dtypes = pl_df.dtypes\n",
    "Counter(dtypes).keys() # equals to list(set(words))"
   ]
  },
  {
   "cell_type": "code",
   "execution_count": null,
   "id": "3e3b33ec-2d72-4650-afc2-edec99865c78",
   "metadata": {},
   "outputs": [],
   "source": [
    "Counter(dtypes).values() # counts the elements' frequency"
   ]
  },
  {
   "cell_type": "code",
   "execution_count": null,
   "id": "f5e4babc-cd2b-49ae-b61a-ffb723543a75",
   "metadata": {},
   "outputs": [],
   "source": [
    "pl_df.select(cs.all()).head()"
   ]
  },
  {
   "cell_type": "code",
   "execution_count": null,
   "id": "ad93dd3c-a93b-46cf-9f40-24b7c2b09566",
   "metadata": {},
   "outputs": [],
   "source": [
    "print(pl_df.select(cs.float()).estimated_size(\"mb\"))"
   ]
  },
  {
   "cell_type": "code",
   "execution_count": null,
   "id": "edd73780-d820-4b75-aa2d-21f1eed12533",
   "metadata": {},
   "outputs": [],
   "source": [
    "try:\n",
    "    out = pl_df.select(cs.float().cast(pl.Float32))\n",
    "    print(out)\n",
    "    print(out.select(cs.float()).estimated_size(\"mb\"))\n",
    "except Exception as e:\n",
    "    print(e)"
   ]
  },
  {
   "cell_type": "code",
   "execution_count": null,
   "id": "8c1915c1-ff0a-475c-acb1-df408e20e86c",
   "metadata": {},
   "outputs": [],
   "source": [
    "print(pl_df.select(cs.integer()).estimated_size(\"mb\"))"
   ]
  },
  {
   "cell_type": "code",
   "execution_count": null,
   "id": "96fb5a28-c761-4acf-8ff9-d6b0d6c9d6c8",
   "metadata": {},
   "outputs": [],
   "source": [
    "try:\n",
    "    out = pl_df.select(cs.integer().cast(pl.Int32))\n",
    "    print(out)\n",
    "    print(out.select(cs.integer()).estimated_size(\"mb\"))\n",
    "except Exception as e:\n",
    "    print(e)"
   ]
  },
  {
   "cell_type": "code",
   "execution_count": null,
   "id": "36d12419-a5fe-4226-9594-3fcfc549e1e0",
   "metadata": {},
   "outputs": [],
   "source": [
    "# pl_df.estimated_size(\"gb\")\n",
    "pl_df.estimated_size(\"mb\")"
   ]
  },
  {
   "cell_type": "code",
   "execution_count": null,
   "id": "81af8768-732b-4d19-864b-cb09fdbe9792",
   "metadata": {},
   "outputs": [],
   "source": [
    "# Downcast the floats and integers\n",
    "pl_df_fl = (\n",
    "    pl_df\n",
    "    .select(cs.float().cast(pl.Float32))\n",
    ")"
   ]
  },
  {
   "cell_type": "code",
   "execution_count": null,
   "id": "698b9c88-0273-4378-84fc-e0f20fdae7c3",
   "metadata": {},
   "outputs": [],
   "source": [
    "pl_df_int = (\n",
    "    pl_df\n",
    "    .select(cs.integer().cast(pl.Int32))\n",
    ")"
   ]
  },
  {
   "cell_type": "code",
   "execution_count": null,
   "id": "4ce4f010-9222-4fb1-80fd-7fc2bbe91096",
   "metadata": {},
   "outputs": [],
   "source": [
    "pl_df_fl.estimated_size(\"mb\")"
   ]
  },
  {
   "cell_type": "code",
   "execution_count": null,
   "id": "0a82c09e-773d-43fd-9974-373d7eb43be5",
   "metadata": {},
   "outputs": [],
   "source": [
    "pl_df_int.estimated_size(\"mb\")"
   ]
  },
  {
   "cell_type": "code",
   "execution_count": null,
   "id": "d59d57bd-0a0d-4a16-a60f-6d3a47b47ef6",
   "metadata": {},
   "outputs": [],
   "source": [
    "pl_df_out = pl_df.select(cs.all() - cs.float() - cs.integer())"
   ]
  },
  {
   "cell_type": "code",
   "execution_count": null,
   "id": "094f2c15-e72c-4270-9be9-bb847a45e887",
   "metadata": {},
   "outputs": [],
   "source": [
    "pl_df_out.estimated_size(\"mb\")"
   ]
  },
  {
   "cell_type": "code",
   "execution_count": null,
   "id": "1183edf3-0ee2-4b3b-b283-ee1fbbc77f64",
   "metadata": {},
   "outputs": [],
   "source": [
    "pl_df_out.head()"
   ]
  },
  {
   "cell_type": "code",
   "execution_count": null,
   "id": "d5accb4d-95dc-486e-a917-16aa116feccf",
   "metadata": {},
   "outputs": [],
   "source": [
    "pl_df_final = pl.concat([pl_df_out, pl_df_fl, pl_df_int], how=\"horizontal\")\n",
    "pl_df_final.estimated_size(\"mb\")"
   ]
  },
  {
   "cell_type": "code",
   "execution_count": null,
   "id": "3fd67f98-7d9c-4a3f-85b6-4bbc4b7921bb",
   "metadata": {},
   "outputs": [],
   "source": [
    "pl_df_final.head()"
   ]
  },
  {
   "cell_type": "code",
   "execution_count": null,
   "id": "245f8d2a-5abc-4278-8c68-a4d3edddf36d",
   "metadata": {},
   "outputs": [],
   "source": [
    "pl_df_final1 = pl_df_final.select(pl_df.columns)\n",
    "pl_df_final1.head()"
   ]
  },
  {
   "cell_type": "markdown",
   "id": "0d0eeec2-3f37-465c-af05-b7b8d18acfa8",
   "metadata": {},
   "source": [
    "Polars import shows that there was 63,093 extra rows when importing the text file compared to conversion of file to csv format and then importing. Extra data within excel could not be processed correctly."
   ]
  },
  {
   "cell_type": "code",
   "execution_count": null,
   "id": "905742b1-f1bf-49c0-9cfa-0316f5b2ab1e",
   "metadata": {},
   "outputs": [],
   "source": [
    "type(pl_df_final1)"
   ]
  },
  {
   "cell_type": "code",
   "execution_count": null,
   "id": "033d8e21-3a2e-482f-ac8f-ec3b0ce78517",
   "metadata": {},
   "outputs": [],
   "source": [
    "pl_df_final1.describe()"
   ]
  },
  {
   "cell_type": "code",
   "execution_count": null,
   "id": "f6d3f740-01d7-422b-b160-105ade1c98a3",
   "metadata": {},
   "outputs": [],
   "source": [
    "pl_df_final1.write_parquet(\"ber_publicsearch.parquet\", use_pyarrow = True)"
   ]
  },
  {
   "cell_type": "markdown",
   "id": "3a44360d-1be3-4750-84c5-3d9e3558d9ca",
   "metadata": {},
   "source": [
    "### Dask - review of the data"
   ]
  },
  {
   "cell_type": "code",
   "execution_count": null,
   "id": "3ac00ad7-698c-46ee-a0f1-f03fd1d2100c",
   "metadata": {},
   "outputs": [],
   "source": [
    "import dask.dataframe as dd"
   ]
  },
  {
   "cell_type": "code",
   "execution_count": null,
   "id": "b3d766d4-c388-454b-beb4-1ab613aec5b8",
   "metadata": {},
   "outputs": [],
   "source": [
    "df = dd.read_parquet(\"ber_publicsearch.parquet\")"
   ]
  },
  {
   "cell_type": "code",
   "execution_count": null,
   "id": "b94ba0c5-6df4-405d-afea-84a2648f2b31",
   "metadata": {},
   "outputs": [],
   "source": [
    "df = df.repartition(partition_size=\"500MB\")"
   ]
  },
  {
   "cell_type": "code",
   "execution_count": null,
   "id": "5d5b3864-916e-4842-8340-e3f475ec0f54",
   "metadata": {},
   "outputs": [],
   "source": [
    "df.npartitions"
   ]
  },
  {
   "cell_type": "code",
   "execution_count": null,
   "id": "ade5da72-3b9f-452c-86b9-bea33f94b38d",
   "metadata": {},
   "outputs": [],
   "source": [
    "df.head()"
   ]
  },
  {
   "cell_type": "code",
   "execution_count": null,
   "id": "c99e462d-1a81-44d7-9553-adaaddd8cf29",
   "metadata": {},
   "outputs": [],
   "source": [
    "df.memory_usage(deep=True)"
   ]
  },
  {
   "cell_type": "code",
   "execution_count": null,
   "id": "a08f5a09-636d-4c45-bab6-0da73feb1754",
   "metadata": {},
   "outputs": [],
   "source": [
    "def with_snappy(n):\n",
    "    return f\"part-{n}.snappy.parquet\"\n",
    "\n",
    "df.to_parquet(\n",
    "    \"data/\",\n",
    "    engine=\"pyarrow\",\n",
    "    write_metadata_file=False,\n",
    "    compression=\"snappy\",\n",
    "    name_function=with_snappy,\n",
    ")"
   ]
  }
 ],
 "metadata": {
  "kernelspec": {
   "display_name": "Python 3 (ipykernel)",
   "language": "python",
   "name": "python3"
  },
  "language_info": {
   "codemirror_mode": {
    "name": "ipython",
    "version": 3
   },
   "file_extension": ".py",
   "mimetype": "text/x-python",
   "name": "python",
   "nbconvert_exporter": "python",
   "pygments_lexer": "ipython3",
   "version": "3.9.12"
  }
 },
 "nbformat": 4,
 "nbformat_minor": 5
}
