{
 "cells": [
  {
   "cell_type": "markdown",
   "id": "f61ff29a-4d41-4f29-86f3-6d2da49753cc",
   "metadata": {},
   "source": [
    "## Quickstart MLflow\n",
    "\n",
    "MLflow provides end-to-end ML model pipeline capabilities. Code that follows understands basic concepts with outputs. Full tracking, model maintainance and optimisation are core to solution.\n",
    "\n",
    "[Link to article](https://mlflow.org/docs/latest/quickstart.html)"
   ]
  },
  {
   "cell_type": "code",
   "execution_count": null,
   "id": "6e0b4238-9718-44cb-8372-e21761370242",
   "metadata": {},
   "outputs": [],
   "source": [
    "# import libraries\n",
    "import installPack"
   ]
  },
  {
   "cell_type": "code",
   "execution_count": null,
   "id": "af5ba552-9abb-4d27-a145-aaffeb33e148",
   "metadata": {},
   "outputs": [],
   "source": [
    "# List of libraries to import\n",
    "# requirements = [\"mlflow\"]\n",
    "# for requirement in requirements:\n",
    "#     installPack.installPackage(requirement)\n",
    "\n",
    "# access denied for install. Have to use --user method"
   ]
  },
  {
   "cell_type": "code",
   "execution_count": null,
   "id": "828c1c47-f85b-4415-af22-44aa638f59b5",
   "metadata": {},
   "outputs": [],
   "source": [
    "# pip install --user mlflow"
   ]
  },
  {
   "cell_type": "code",
   "execution_count": null,
   "id": "abb136e6-ff9e-4b81-921c-2aad318e207f",
   "metadata": {},
   "outputs": [],
   "source": [
    "import mlflow\n",
    "\n",
    "from sklearn.model_selection import train_test_split\n",
    "from sklearn.datasets import load_diabetes\n",
    "from sklearn.ensemble import RandomForestRegressor\n",
    "\n",
    "mlflow.autolog()\n",
    "\n",
    "db = load_diabetes()\n",
    "X_train, X_test, y_train, y_test = train_test_split(db.data, db.target)\n",
    "\n",
    "# Create and train models.\n",
    "rf = RandomForestRegressor(n_estimators=100, max_depth=6, max_features=3)\n",
    "rf.fit(X_train, y_train)\n",
    "\n",
    "# Use the model to make predictions on the test dataset.\n",
    "predictions = rf.predict(X_test)"
   ]
  },
  {
   "cell_type": "code",
   "execution_count": null,
   "id": "bbefcb8d-9bc5-4756-ba62-21d5da44e090",
   "metadata": {},
   "outputs": [],
   "source": [
    "# check details from the autolog variable\n",
    "autolog_run = mlflow.last_active_run()"
   ]
  },
  {
   "cell_type": "code",
   "execution_count": null,
   "id": "ffa7f99d-600a-47a6-8a62-de22d0751cae",
   "metadata": {},
   "outputs": [],
   "source": [
    "autolog_run"
   ]
  },
  {
   "cell_type": "code",
   "execution_count": null,
   "id": "4a3e9af5-c3ad-4a90-8efd-2b23a932ad01",
   "metadata": {},
   "outputs": [],
   "source": [
    "print(__name__)"
   ]
  },
  {
   "cell_type": "code",
   "execution_count": null,
   "id": "e1f19496-ce44-45f1-8d3a-b5a7b69bf9b2",
   "metadata": {},
   "outputs": [],
   "source": [
    "import os\n",
    "from random import random, randint\n",
    "from mlflow import log_metric, log_param, log_params, log_artifacts\n",
    "\n",
    "if __name__ == \"__main__\":\n",
    "    # Log a parameter (key-value pair)\n",
    "    log_param(\"config_value\", randint(0, 100))\n",
    "\n",
    "    # Log a dictionary of parameters\n",
    "    log_params({\"param1\": randint(0, 100), \"param2\": randint(0, 100)})\n",
    "\n",
    "    # Log a metric; metrics can be updated throughout the run\n",
    "    log_metric(\"accuracy\", random() / 2.0)\n",
    "    log_metric(\"accuracy\", random() + 0.1)\n",
    "    log_metric(\"accuracy\", random() + 0.2)\n",
    "\n",
    "    # Log an artifact (output file)\n",
    "    if not os.path.exists(\"outputs\"):\n",
    "        os.makedirs(\"outputs\")\n",
    "    with open(\"outputs/test.txt\", \"w\") as f:\n",
    "        f.write(\"hello world!\")\n",
    "    log_artifacts(\"outputs\")\n"
   ]
  },
  {
   "cell_type": "code",
   "execution_count": null,
   "id": "fb35ed03-d7ab-4a4e-b7d6-b296d5f7cf9d",
   "metadata": {},
   "outputs": [],
   "source": [
    "log_artifacts"
   ]
  },
  {
   "cell_type": "code",
   "execution_count": null,
   "id": "16706333-b9d7-4335-afcb-c84262f0365a",
   "metadata": {},
   "outputs": [],
   "source": [
    "# mlflow ui"
   ]
  }
 ],
 "metadata": {
  "kernelspec": {
   "display_name": "Python 3 (ipykernel)",
   "language": "python",
   "name": "python3"
  },
  "language_info": {
   "codemirror_mode": {
    "name": "ipython",
    "version": 3
   },
   "file_extension": ".py",
   "mimetype": "text/x-python",
   "name": "python",
   "nbconvert_exporter": "python",
   "pygments_lexer": "ipython3",
   "version": "3.9.12"
  }
 },
 "nbformat": 4,
 "nbformat_minor": 5
}
