{
 "cells": [
  {
   "cell_type": "markdown",
   "id": "cf2765fc-ed60-4590-b931-2dec1ecb8318",
   "metadata": {},
   "source": [
    "# Readme"
   ]
  },
  {
   "cell_type": "markdown",
   "id": "6635c841-2650-42ae-9082-d9cdf70f5575",
   "metadata": {},
   "source": [
    "Overall aim is to get an understanding for how the EBA Taxonomy guidelines could be developed using Python logic. As future reporting requirements will seek to reconcile between existing regulatory reports e.g., FINREP, COREP, ESG etc., using the XBRL templates should facilitate appropriate validation rules to make sure that all data points are matching across reports. It will reduce the manual nature of peer reviews, which would seek to ensure accuracy.\n",
    "\n",
    "Actions:\n",
    "Use the SEC notebook to get data on a number of top companies that file returns e.g., Apple, NVIDIA and a few banks [JP Morgan; Bank of America] to understand how comparisons could be mapped out. \n",
    "One option is to create a data pipeline: [Raw data; reference tables to create XML / XBRL format; derive the conversion from raw to XBRL; produce the final output].\n",
    "\n",
    "Additional background research links below:\n",
    "- What it is: link https://en.wikipedia.org/wiki/XBRL \n",
    "- Introduction #1: https://www.xbrl.org/the-standard/what/an-introduction-to-xbrl/ \n",
    "- Comparison to XML: https://www.xbrl.org/showcase/xbrlcomparedtoxml-2005-07-09.pdf"
   ]
  },
  {
   "cell_type": "markdown",
   "id": "254243b0-7ec7-4306-b53b-5dd9072b66fd",
   "metadata": {},
   "source": [
    "### Prototype\n",
    "Python code to extract the files from sec by using API.\n",
    "\n",
    "Note that the API usage limit is 100 queries per month (reset at 1st of every month) for free accounts.\n",
    "\n",
    "Key Takeaways\n",
    "- Query API: Fetch the list of files available for the particular ticker (e.g., TSLA for TESLA), sorted in order of date. The file types available from SEC are Form 10-K, Form 10-Q, Form 8-K, the proxy statement, Forms 3,4, and 5, Schedule 13D, Form 144, and Foreign Investment Disclosures. The url from Query API is the url required to convert it from XBRL to JSON. E.g., https://www.sec.gov/Archives/edgar/data/1318605/000162828024002390/tsla-20231231.htm\n",
    "- Sections: Extract the list of sections covered in the form extracted.\n",
    "- Balance Sheet & Income Statement: User defined functions to extract information from balance sheet and income statement."
   ]
  },
  {
   "cell_type": "markdown",
   "id": "d98fe10a-2882-43de-a3b2-fbd6a09b1158",
   "metadata": {},
   "source": [
    "### Code Begins\n",
    "\n",
    "Before starting, you should apply your own API key at https://sec-api.io/. It will be used to request returns from sec."
   ]
  },
  {
   "cell_type": "code",
   "execution_count": null,
   "id": "71abbc7c-1150-44db-88d8-2315a469c65a",
   "metadata": {},
   "outputs": [],
   "source": [
    "API_KEY = '...'"
   ]
  },
  {
   "cell_type": "code",
   "execution_count": null,
   "id": "b8d2c570-1f54-41a6-8490-e00140743762",
   "metadata": {},
   "outputs": [],
   "source": [
    "import json\n",
    "import pandas as pd\n",
    "from sec_api import XbrlApi"
   ]
  },
  {
   "cell_type": "markdown",
   "id": "8920f022-8544-4aef-bf7c-498cf1c22a1d",
   "metadata": {},
   "source": [
    "# Query API"
   ]
  },
  {
   "cell_type": "code",
   "execution_count": null,
   "id": "90c06016-c4ae-4ab5-afa1-4f8f2a03dd50",
   "metadata": {
    "scrolled": true
   },
   "outputs": [],
   "source": [
    "from sec_api import QueryApi\n",
    "\n",
    "queryApi = QueryApi(api_key=API_KEY)\n",
    "\n",
    "query = {\n",
    "  \"query\": \"ticker:TSLA AND formType:\\\"10-K\\\"\",\n",
    "  \"from\": \"0\",\n",
    "  \"size\": \"10\",\n",
    "  \"sort\": [{ \"filedAt\": { \"order\": \"desc\" } }]    \n",
    "}\n",
    "\n",
    "response = queryApi.get_filings(query)"
   ]
  },
  {
   "cell_type": "code",
   "execution_count": null,
   "id": "8a4a2d01-ae83-4a49-b73d-d9a4b04c24c7",
   "metadata": {},
   "outputs": [],
   "source": [
    "metadata = pd.DataFrame.from_records(response['filings'])\n",
    "metadata"
   ]
  },
  {
   "cell_type": "code",
   "execution_count": null,
   "id": "d72bb84d-56e0-4703-bec7-eac4681b6d09",
   "metadata": {},
   "outputs": [],
   "source": [
    "#Get url of filings\n",
    "url = metadata['linkToFilingDetails'][0]\n",
    "url"
   ]
  },
  {
   "cell_type": "markdown",
   "id": "33e851a9-2125-4258-a8f6-52cc38e26fec",
   "metadata": {},
   "source": [
    "# XBRL-to-JSON"
   ]
  },
  {
   "cell_type": "code",
   "execution_count": null,
   "id": "bfb5c1c0-edf1-4a0d-9ba4-20898a50172b",
   "metadata": {
    "scrolled": true
   },
   "outputs": [],
   "source": [
    "#Manually input htm URL\n",
    "# url=\"https://www.sec.gov/Archives/edgar/data/1318605/000156459021004599/tsla-10k_20201231.htm\""
   ]
  },
  {
   "cell_type": "code",
   "execution_count": null,
   "id": "5bc09fe5-2a9f-42e1-8392-5002bdb4ef09",
   "metadata": {
    "scrolled": true
   },
   "outputs": [],
   "source": [
    "xbrl_json = XbrlApi(API_KEY).xbrl_to_json(htm_url=url)"
   ]
  },
  {
   "cell_type": "code",
   "execution_count": null,
   "id": "51664d31-3f79-47b8-b15f-1127706c1ea2",
   "metadata": {},
   "outputs": [],
   "source": [
    "# json_file_path = '.../Tesla Inc 12312023.json'\n",
    "#code to save json_file\n",
    "# with open(json_file_path, 'w') as json_file:\n",
    "    # json.dump(xbrl_json, json_file, indent=4)"
   ]
  },
  {
   "cell_type": "code",
   "execution_count": null,
   "id": "2e50d669-7ebe-455a-b146-9ae5133b7937",
   "metadata": {},
   "outputs": [],
   "source": [
    "# tesla_12312023 = open(json_file_path)"
   ]
  },
  {
   "cell_type": "code",
   "execution_count": null,
   "id": "b68b33ef-5420-45f5-9766-15bb3918495d",
   "metadata": {
    "scrolled": true
   },
   "outputs": [],
   "source": [
    "# Read full json - Warning: This will be long\n",
    "# json.load(tesla_12312023)"
   ]
  },
  {
   "cell_type": "markdown",
   "id": "5ff1f9c1-6eac-4a3e-82e1-de3628a4297b",
   "metadata": {},
   "source": [
    "## Sections\n",
    "Warning! The section list output will be a long list."
   ]
  },
  {
   "cell_type": "code",
   "execution_count": null,
   "id": "7c8e0a64-5b4c-4d47-ae2e-28d9357634a3",
   "metadata": {},
   "outputs": [],
   "source": [
    "def list_sections(json_data):\n",
    "    sections = {}\n",
    "    \n",
    "    for key, value in json_data.items():\n",
    "        if isinstance(value, dict):\n",
    "            sections[key] = list(value.keys())\n",
    "        else:\n",
    "            sections[key] = []\n",
    "    \n",
    "    return sections"
   ]
  },
  {
   "cell_type": "code",
   "execution_count": null,
   "id": "993e670a-c0ac-48d4-ab7a-9b0aacabe32e",
   "metadata": {
    "scrolled": true
   },
   "outputs": [],
   "source": [
    "sections = list_sections(xbrl_json)\n",
    "for section, sub_sections in sections.items():\n",
    "    print(f\"Section: {section}\")"
   ]
  },
  {
   "cell_type": "markdown",
   "id": "aaf92b81-50e7-4d65-b9d3-d3d8da464b0f",
   "metadata": {},
   "source": [
    "## Extract particular section\n",
    "Incomplete. Still figuring how to change this to a proper format for every section"
   ]
  },
  {
   "cell_type": "code",
   "execution_count": null,
   "id": "f8ee01b9-80c4-43a4-9b81-5a770af8221c",
   "metadata": {},
   "outputs": [],
   "source": [
    "def extract_section(json_data, section_name):\n",
    "    if section_name in json_data:\n",
    "        return json_data[section_name]\n",
    "    else:\n",
    "        return None"
   ]
  },
  {
   "cell_type": "code",
   "execution_count": null,
   "id": "e1ebc3ac-4efb-43a1-a128-143ab260318a",
   "metadata": {},
   "outputs": [],
   "source": [
    "b_s = extract_section(xbrl_json, \"BalanceSheets\")"
   ]
  },
  {
   "cell_type": "code",
   "execution_count": null,
   "id": "71bbfa36-649f-449c-815e-ba98f1ac02ab",
   "metadata": {
    "scrolled": true
   },
   "outputs": [],
   "source": [
    "b_s"
   ]
  },
  {
   "cell_type": "markdown",
   "id": "5e9871d3-35bc-4ce6-a6f7-c3b9ea77d059",
   "metadata": {},
   "source": [
    "## Balance Sheet"
   ]
  },
  {
   "cell_type": "code",
   "execution_count": null,
   "id": "d8877372-9c3b-4d8e-b758-98c439d3350a",
   "metadata": {
    "scrolled": true
   },
   "outputs": [],
   "source": [
    "def get_balance_sheet(xbrl_json):\n",
    "    balance_sheet_store = {}\n",
    "\n",
    "    # Iterate over each US GAAP item in the balance sheet\n",
    "    for usGaapItem in xbrl_json['BalanceSheets']:\n",
    "        values = []\n",
    "        indices = []\n",
    "\n",
    "        for fact in xbrl_json['BalanceSheets'][usGaapItem]:\n",
    "            # only consider items without segment. not required for our analysis.\n",
    "            if 'segment' not in fact:\n",
    "                index = fact['period']['instant']\n",
    "                # ensure no index duplicates are created\n",
    "                if index not in indices:\n",
    "                    value = fact.get('value')\n",
    "                    if value is not None:\n",
    "                        values.append(value)\n",
    "                        indices.append(index)                    \n",
    "\n",
    "        balance_sheet_store[usGaapItem] = pd.Series(values, index=indices) \n",
    "\n",
    "    balance_sheet = pd.DataFrame(balance_sheet_store)\n",
    "    # switch columns and rows so that US GAAP items are rows and each column header represents a date range\n",
    "    return balance_sheet.T "
   ]
  },
  {
   "cell_type": "code",
   "execution_count": null,
   "id": "02bd277c-8606-4de5-8591-350ef9d9e5e1",
   "metadata": {},
   "outputs": [],
   "source": [
    "balance_sheet = get_balance_sheet(xbrl_json)\n",
    "balance_sheet"
   ]
  },
  {
   "cell_type": "markdown",
   "id": "07d15e42-e531-4c5b-b8e1-8e02a5f3890a",
   "metadata": {},
   "source": [
    "## Income Statement"
   ]
  },
  {
   "cell_type": "code",
   "execution_count": null,
   "id": "3e7d2d9f-3685-495b-a3ac-ef417a214c56",
   "metadata": {},
   "outputs": [],
   "source": [
    "# convert XBRL-JSON of income statement to pandas dataframe\n",
    "def get_income_statement(xbrl_json):\n",
    "    income_statement_store = {}\n",
    "\n",
    "    # iterate over each US GAAP item in the income statement\n",
    "    for usGaapItem in xbrl_json['StatementsOfIncome']:\n",
    "        values = []\n",
    "        indicies = []\n",
    "\n",
    "        for fact in xbrl_json['StatementsOfIncome'][usGaapItem]:\n",
    "            # only consider items without segment. not required for our analysis.\n",
    "            if 'segment' not in fact:\n",
    "                index = fact['period']['startDate'] + '-' + fact['period']['endDate']\n",
    "                # ensure no index duplicates are created\n",
    "                if index not in indicies:\n",
    "                    values.append(fact['value'])\n",
    "                    indicies.append(index)                    \n",
    "\n",
    "        income_statement_store[usGaapItem] = pd.Series(values, index=indicies) \n",
    "\n",
    "    income_statement = pd.DataFrame(income_statement_store)\n",
    "    # switch columns and rows so that US GAAP items are rows and each column header represents a date range\n",
    "    return income_statement.T "
   ]
  },
  {
   "cell_type": "code",
   "execution_count": null,
   "id": "db6be8fe-868e-4744-98aa-d4c1bf908226",
   "metadata": {},
   "outputs": [],
   "source": [
    "income_statement = get_income_statement(xbrl_json)\n",
    "\n",
    "income_statement"
   ]
  }
 ],
 "metadata": {
  "kernelspec": {
   "display_name": "Python 3 (ipykernel)",
   "language": "python",
   "name": "python3"
  },
  "language_info": {
   "codemirror_mode": {
    "name": "ipython",
    "version": 3
   },
   "file_extension": ".py",
   "mimetype": "text/x-python",
   "name": "python",
   "nbconvert_exporter": "python",
   "pygments_lexer": "ipython3",
   "version": "3.9.12"
  }
 },
 "nbformat": 4,
 "nbformat_minor": 5
}
